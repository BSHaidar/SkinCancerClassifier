{
 "cells": [
  {
   "cell_type": "code",
   "execution_count": 1,
   "metadata": {},
   "outputs": [],
   "source": [
    "%load_ext autoreload\n",
    "%autoreload 1\n",
    "import sys\n",
    "sys.path.insert(0, '/Users/basselhaidar/Desktop/Final Project/SkinCancerClassifier/py')"
   ]
  },
  {
   "cell_type": "code",
   "execution_count": 2,
   "metadata": {},
   "outputs": [
    {
     "name": "stderr",
     "output_type": "stream",
     "text": [
      "Using TensorFlow backend.\n"
     ]
    }
   ],
   "source": [
    "from setup_images import *\n",
    "from cnn_classifier import *\n",
    "import pandas_profiling"
   ]
  },
  {
   "cell_type": "code",
   "execution_count": 3,
   "metadata": {},
   "outputs": [
    {
     "name": "stdout",
     "output_type": "stream",
     "text": [
      "Total number of images = 10015\n",
      "Check path of ISIC_0025030.jpg = /Users/basselhaidar/Desktop/Final Project/skin-cancer-mnist-ham10000/HAM10000_images_part_1/ISIC_0025030.jpg\n"
     ]
    }
   ],
   "source": [
    "df = set_df()"
   ]
  },
  {
   "cell_type": "code",
   "execution_count": 4,
   "metadata": {},
   "outputs": [
    {
     "name": "stdout",
     "output_type": "stream",
     "text": [
      "WARNING:tensorflow:From /anaconda3/envs/flatiron/lib/python3.7/site-packages/tensorflow/python/framework/op_def_library.py:263: colocate_with (from tensorflow.python.framework.ops) is deprecated and will be removed in a future version.\n",
      "Instructions for updating:\n",
      "Colocations handled automatically by placer.\n"
     ]
    },
    {
     "name": "stderr",
     "output_type": "stream",
     "text": [
      "WARNING:tensorflow:From /anaconda3/envs/flatiron/lib/python3.7/site-packages/tensorflow/python/framework/op_def_library.py:263: colocate_with (from tensorflow.python.framework.ops) is deprecated and will be removed in a future version.\n",
      "Instructions for updating:\n",
      "Colocations handled automatically by placer.\n"
     ]
    },
    {
     "name": "stdout",
     "output_type": "stream",
     "text": [
      "_________________________________________________________________\n",
      "Layer (type)                 Output Shape              Param #   \n",
      "=================================================================\n",
      "conv2d_1 (Conv2D)            (None, 108, 196, 64)      1792      \n",
      "_________________________________________________________________\n",
      "batch_normalization_1 (Batch (None, 108, 196, 64)      256       \n",
      "_________________________________________________________________\n",
      "max_pooling2d_1 (MaxPooling2 (None, 54, 98, 64)        0         \n",
      "_________________________________________________________________\n",
      "flatten_1 (Flatten)          (None, 338688)            0         \n",
      "_________________________________________________________________\n",
      "dense_1 (Dense)              (None, 32)                10838048  \n",
      "_________________________________________________________________\n",
      "batch_normalization_2 (Batch (None, 32)                128       \n",
      "_________________________________________________________________\n",
      "dense_2 (Dense)              (None, 7)                 231       \n",
      "=================================================================\n",
      "Total params: 10,840,455\n",
      "Trainable params: 10,840,263\n",
      "Non-trainable params: 192\n",
      "_________________________________________________________________\n",
      "None\n"
     ]
    }
   ],
   "source": [
    "cnn = set_cnn_model()"
   ]
  },
  {
   "cell_type": "code",
   "execution_count": 5,
   "metadata": {
    "scrolled": true
   },
   "outputs": [
    {
     "name": "stdout",
     "output_type": "stream",
     "text": [
      "Found 2000 images belonging to 7 classes.\n",
      "Found 6415 images belonging to 7 classes.\n",
      "Found 1600 images belonging to 7 classes.\n",
      "WARNING:tensorflow:From /anaconda3/envs/flatiron/lib/python3.7/site-packages/tensorflow/python/ops/math_ops.py:3066: to_int32 (from tensorflow.python.ops.math_ops) is deprecated and will be removed in a future version.\n",
      "Instructions for updating:\n",
      "Use tf.cast instead.\n"
     ]
    },
    {
     "name": "stderr",
     "output_type": "stream",
     "text": [
      "WARNING:tensorflow:From /anaconda3/envs/flatiron/lib/python3.7/site-packages/tensorflow/python/ops/math_ops.py:3066: to_int32 (from tensorflow.python.ops.math_ops) is deprecated and will be removed in a future version.\n",
      "Instructions for updating:\n",
      "Use tf.cast instead.\n"
     ]
    },
    {
     "name": "stdout",
     "output_type": "stream",
     "text": [
      "Train on 4000 samples, validate on 800 samples\n",
      "Epoch 1/20\n",
      "4000/4000 [==============================] - 179s 45ms/step - loss: 2.8599 - acc: 0.5460 - val_loss: 2.5690 - val_acc: 0.5775\n",
      "Epoch 2/20\n",
      "4000/4000 [==============================] - 181s 45ms/step - loss: 2.2538 - acc: 0.6803 - val_loss: 2.0859 - val_acc: 0.6813\n",
      "Epoch 3/20\n",
      "4000/4000 [==============================] - 182s 46ms/step - loss: 1.9838 - acc: 0.7240 - val_loss: 2.0498 - val_acc: 0.6687\n",
      "Epoch 4/20\n",
      "4000/4000 [==============================] - 190s 48ms/step - loss: 1.8256 - acc: 0.7515 - val_loss: 1.9081 - val_acc: 0.6950\n",
      "Epoch 5/20\n",
      "4000/4000 [==============================] - 182s 45ms/step - loss: 1.7029 - acc: 0.7738 - val_loss: 1.8382 - val_acc: 0.7125\n",
      "Epoch 6/20\n",
      "4000/4000 [==============================] - 189s 47ms/step - loss: 1.6013 - acc: 0.7885 - val_loss: 1.7518 - val_acc: 0.7137\n",
      "Epoch 7/20\n",
      "4000/4000 [==============================] - 185s 46ms/step - loss: 1.4980 - acc: 0.8095 - val_loss: 1.9197 - val_acc: 0.6663\n",
      "Epoch 8/20\n",
      "4000/4000 [==============================] - 211s 53ms/step - loss: 1.3848 - acc: 0.8315 - val_loss: 1.6835 - val_acc: 0.7000\n",
      "Epoch 9/20\n",
      "4000/4000 [==============================] - 180s 45ms/step - loss: 1.2836 - acc: 0.8610 - val_loss: 1.7778 - val_acc: 0.6925\n",
      "Epoch 10/20\n",
      "4000/4000 [==============================] - 176s 44ms/step - loss: 1.1967 - acc: 0.8740 - val_loss: 1.7080 - val_acc: 0.6737\n",
      "Epoch 11/20\n",
      "4000/4000 [==============================] - 176s 44ms/step - loss: 1.0938 - acc: 0.8965 - val_loss: 1.6415 - val_acc: 0.6925\n",
      "Epoch 12/20\n",
      "4000/4000 [==============================] - 176s 44ms/step - loss: 1.0149 - acc: 0.9155 - val_loss: 1.5959 - val_acc: 0.7075\n",
      "Epoch 13/20\n",
      "4000/4000 [==============================] - 177s 44ms/step - loss: 0.9249 - acc: 0.9380 - val_loss: 1.7154 - val_acc: 0.6963\n",
      "Epoch 14/20\n",
      "4000/4000 [==============================] - 177s 44ms/step - loss: 0.8448 - acc: 0.9500 - val_loss: 1.5314 - val_acc: 0.6925\n",
      "Epoch 15/20\n",
      "4000/4000 [==============================] - 197s 49ms/step - loss: 0.7975 - acc: 0.9600 - val_loss: 1.5927 - val_acc: 0.7013\n",
      "Epoch 16/20\n",
      "4000/4000 [==============================] - 197s 49ms/step - loss: 0.7446 - acc: 0.9655 - val_loss: 1.5044 - val_acc: 0.7063\n",
      "Epoch 17/20\n",
      "4000/4000 [==============================] - 191s 48ms/step - loss: 0.6842 - acc: 0.9748 - val_loss: 1.6098 - val_acc: 0.6813\n",
      "Epoch 18/20\n",
      "4000/4000 [==============================] - 174s 44ms/step - loss: 0.6286 - acc: 0.9843 - val_loss: 1.5223 - val_acc: 0.6913\n",
      "Epoch 19/20\n",
      "4000/4000 [==============================] - 175s 44ms/step - loss: 0.5855 - acc: 0.9905 - val_loss: 1.5488 - val_acc: 0.7200\n",
      "Epoch 20/20\n",
      "4000/4000 [==============================] - 176s 44ms/step - loss: 0.5631 - acc: 0.9888 - val_loss: 1.6739 - val_acc: 0.7063\n"
     ]
    }
   ],
   "source": [
    "#  epoch=20, batch_size=32, l2=0.01\n",
    "model, images_test, labels_test = fit_cnn_model(cnn)"
   ]
  },
  {
   "cell_type": "code",
   "execution_count": 5,
   "metadata": {},
   "outputs": [
    {
     "name": "stdout",
     "output_type": "stream",
     "text": [
      "WARNING:tensorflow:From /anaconda3/envs/flatiron/lib/python3.7/site-packages/tensorflow/python/framework/op_def_library.py:263: colocate_with (from tensorflow.python.framework.ops) is deprecated and will be removed in a future version.\n",
      "Instructions for updating:\n",
      "Colocations handled automatically by placer.\n"
     ]
    },
    {
     "name": "stderr",
     "output_type": "stream",
     "text": [
      "WARNING:tensorflow:From /anaconda3/envs/flatiron/lib/python3.7/site-packages/tensorflow/python/framework/op_def_library.py:263: colocate_with (from tensorflow.python.framework.ops) is deprecated and will be removed in a future version.\n",
      "Instructions for updating:\n",
      "Colocations handled automatically by placer.\n"
     ]
    },
    {
     "name": "stdout",
     "output_type": "stream",
     "text": [
      "WARNING:tensorflow:From /anaconda3/envs/flatiron/lib/python3.7/site-packages/keras/backend/tensorflow_backend.py:3445: calling dropout (from tensorflow.python.ops.nn_ops) with keep_prob is deprecated and will be removed in a future version.\n",
      "Instructions for updating:\n",
      "Please use `rate` instead of `keep_prob`. Rate should be set to `rate = 1 - keep_prob`.\n"
     ]
    },
    {
     "name": "stderr",
     "output_type": "stream",
     "text": [
      "WARNING:tensorflow:From /anaconda3/envs/flatiron/lib/python3.7/site-packages/keras/backend/tensorflow_backend.py:3445: calling dropout (from tensorflow.python.ops.nn_ops) with keep_prob is deprecated and will be removed in a future version.\n",
      "Instructions for updating:\n",
      "Please use `rate` instead of `keep_prob`. Rate should be set to `rate = 1 - keep_prob`.\n"
     ]
    },
    {
     "name": "stdout",
     "output_type": "stream",
     "text": [
      "_________________________________________________________________\n",
      "Layer (type)                 Output Shape              Param #   \n",
      "=================================================================\n",
      "conv2d_1 (Conv2D)            (None, 108, 196, 64)      1792      \n",
      "_________________________________________________________________\n",
      "batch_normalization_1 (Batch (None, 108, 196, 64)      256       \n",
      "_________________________________________________________________\n",
      "max_pooling2d_1 (MaxPooling2 (None, 54, 98, 64)        0         \n",
      "_________________________________________________________________\n",
      "dropout_1 (Dropout)          (None, 54, 98, 64)        0         \n",
      "_________________________________________________________________\n",
      "flatten_1 (Flatten)          (None, 338688)            0         \n",
      "_________________________________________________________________\n",
      "dense_1 (Dense)              (None, 32)                10838048  \n",
      "_________________________________________________________________\n",
      "batch_normalization_2 (Batch (None, 32)                128       \n",
      "_________________________________________________________________\n",
      "dense_2 (Dense)              (None, 7)                 231       \n",
      "=================================================================\n",
      "Total params: 10,840,455\n",
      "Trainable params: 10,840,263\n",
      "Non-trainable params: 192\n",
      "_________________________________________________________________\n",
      "None\n"
     ]
    }
   ],
   "source": [
    "cnn = set_cnn_model()"
   ]
  },
  {
   "cell_type": "code",
   "execution_count": null,
   "metadata": {},
   "outputs": [
    {
     "name": "stdout",
     "output_type": "stream",
     "text": [
      "Found 2000 images belonging to 7 classes.\n",
      "Found 6415 images belonging to 7 classes.\n",
      "Found 1600 images belonging to 7 classes.\n",
      "WARNING:tensorflow:From /anaconda3/envs/flatiron/lib/python3.7/site-packages/tensorflow/python/ops/math_ops.py:3066: to_int32 (from tensorflow.python.ops.math_ops) is deprecated and will be removed in a future version.\n",
      "Instructions for updating:\n",
      "Use tf.cast instead.\n"
     ]
    },
    {
     "name": "stderr",
     "output_type": "stream",
     "text": [
      "WARNING:tensorflow:From /anaconda3/envs/flatiron/lib/python3.7/site-packages/tensorflow/python/ops/math_ops.py:3066: to_int32 (from tensorflow.python.ops.math_ops) is deprecated and will be removed in a future version.\n",
      "Instructions for updating:\n",
      "Use tf.cast instead.\n"
     ]
    },
    {
     "name": "stdout",
     "output_type": "stream",
     "text": [
      "Train on 4000 samples, validate on 800 samples\n",
      "Epoch 1/20\n",
      "4000/4000 [==============================] - 213s 53ms/step - loss: 2.6854 - acc: 0.5680 - val_loss: 2.2524 - val_acc: 0.6613\n",
      "Epoch 2/20\n",
      "4000/4000 [==============================] - 206s 52ms/step - loss: 2.0881 - acc: 0.7245 - val_loss: 2.0822 - val_acc: 0.6825\n",
      "Epoch 3/20\n",
      "4000/4000 [==============================] - 215s 54ms/step - loss: 1.8619 - acc: 0.7578 - val_loss: 1.9750 - val_acc: 0.6875\n",
      "Epoch 4/20\n",
      "4000/4000 [==============================] - 214s 53ms/step - loss: 1.6988 - acc: 0.7880 - val_loss: 1.9450 - val_acc: 0.6650\n",
      "Epoch 5/20\n",
      "4000/4000 [==============================] - 207s 52ms/step - loss: 1.5735 - acc: 0.8153 - val_loss: 1.8914 - val_acc: 0.6925\n",
      "Epoch 6/20\n",
      "4000/4000 [==============================] - 203s 51ms/step - loss: 1.4885 - acc: 0.8287 - val_loss: 1.8571 - val_acc: 0.6825\n",
      "Epoch 7/20\n",
      "4000/4000 [==============================] - 220s 55ms/step - loss: 1.3647 - acc: 0.8580 - val_loss: 1.7507 - val_acc: 0.7100\n",
      "Epoch 8/20\n",
      "4000/4000 [==============================] - 214s 54ms/step - loss: 1.2388 - acc: 0.8855 - val_loss: 1.7454 - val_acc: 0.6863\n",
      "Epoch 9/20\n",
      "4000/4000 [==============================] - 216s 54ms/step - loss: 1.1302 - acc: 0.9140 - val_loss: 1.6884 - val_acc: 0.7188\n",
      "Epoch 10/20\n",
      "4000/4000 [==============================] - 207s 52ms/step - loss: 1.0396 - acc: 0.9333 - val_loss: 1.7737 - val_acc: 0.6837\n",
      "Epoch 11/20\n",
      "4000/4000 [==============================] - 197s 49ms/step - loss: 0.9530 - acc: 0.9447 - val_loss: 1.9178 - val_acc: 0.6875\n",
      "Epoch 12/20\n",
      "3968/4000 [============================>.] - ETA: 1s - loss: 0.9154 - acc: 0.9498"
     ]
    }
   ],
   "source": [
    "# with dropout = 0.50, epoch=20, batch_size=32, l2=0.01\n",
    "model, images_test, labels_test = fit_cnn_model(cnn)"
   ]
  },
  {
   "cell_type": "code",
   "execution_count": null,
   "metadata": {},
   "outputs": [],
   "source": []
  },
  {
   "cell_type": "code",
   "execution_count": null,
   "metadata": {},
   "outputs": [],
   "source": []
  },
  {
   "cell_type": "code",
   "execution_count": null,
   "metadata": {},
   "outputs": [],
   "source": []
  },
  {
   "cell_type": "code",
   "execution_count": null,
   "metadata": {},
   "outputs": [],
   "source": []
  },
  {
   "cell_type": "code",
   "execution_count": null,
   "metadata": {},
   "outputs": [],
   "source": []
  },
  {
   "cell_type": "code",
   "execution_count": null,
   "metadata": {},
   "outputs": [],
   "source": []
  },
  {
   "cell_type": "code",
   "execution_count": null,
   "metadata": {},
   "outputs": [],
   "source": []
  },
  {
   "cell_type": "code",
   "execution_count": null,
   "metadata": {},
   "outputs": [],
   "source": []
  },
  {
   "cell_type": "code",
   "execution_count": null,
   "metadata": {},
   "outputs": [],
   "source": []
  },
  {
   "cell_type": "code",
   "execution_count": null,
   "metadata": {},
   "outputs": [],
   "source": []
  },
  {
   "cell_type": "code",
   "execution_count": null,
   "metadata": {},
   "outputs": [],
   "source": []
  },
  {
   "cell_type": "code",
   "execution_count": null,
   "metadata": {},
   "outputs": [],
   "source": []
  },
  {
   "cell_type": "code",
   "execution_count": null,
   "metadata": {},
   "outputs": [],
   "source": []
  },
  {
   "cell_type": "code",
   "execution_count": null,
   "metadata": {},
   "outputs": [],
   "source": []
  },
  {
   "cell_type": "code",
   "execution_count": null,
   "metadata": {},
   "outputs": [],
   "source": []
  },
  {
   "cell_type": "code",
   "execution_count": null,
   "metadata": {},
   "outputs": [],
   "source": []
  },
  {
   "cell_type": "code",
   "execution_count": null,
   "metadata": {},
   "outputs": [],
   "source": []
  },
  {
   "cell_type": "code",
   "execution_count": null,
   "metadata": {},
   "outputs": [],
   "source": []
  },
  {
   "cell_type": "code",
   "execution_count": null,
   "metadata": {},
   "outputs": [],
   "source": []
  },
  {
   "cell_type": "code",
   "execution_count": null,
   "metadata": {},
   "outputs": [],
   "source": []
  },
  {
   "cell_type": "code",
   "execution_count": null,
   "metadata": {},
   "outputs": [],
   "source": []
  },
  {
   "cell_type": "code",
   "execution_count": null,
   "metadata": {},
   "outputs": [],
   "source": []
  },
  {
   "cell_type": "code",
   "execution_count": null,
   "metadata": {},
   "outputs": [],
   "source": []
  },
  {
   "cell_type": "code",
   "execution_count": null,
   "metadata": {},
   "outputs": [],
   "source": []
  },
  {
   "cell_type": "code",
   "execution_count": null,
   "metadata": {},
   "outputs": [],
   "source": []
  },
  {
   "cell_type": "code",
   "execution_count": null,
   "metadata": {},
   "outputs": [],
   "source": []
  },
  {
   "cell_type": "code",
   "execution_count": null,
   "metadata": {},
   "outputs": [],
   "source": []
  },
  {
   "cell_type": "code",
   "execution_count": null,
   "metadata": {},
   "outputs": [],
   "source": []
  },
  {
   "cell_type": "code",
   "execution_count": null,
   "metadata": {},
   "outputs": [],
   "source": []
  },
  {
   "cell_type": "code",
   "execution_count": null,
   "metadata": {},
   "outputs": [],
   "source": []
  },
  {
   "cell_type": "code",
   "execution_count": null,
   "metadata": {},
   "outputs": [],
   "source": []
  },
  {
   "cell_type": "code",
   "execution_count": null,
   "metadata": {},
   "outputs": [],
   "source": []
  },
  {
   "cell_type": "code",
   "execution_count": null,
   "metadata": {},
   "outputs": [],
   "source": []
  },
  {
   "cell_type": "code",
   "execution_count": null,
   "metadata": {},
   "outputs": [],
   "source": []
  },
  {
   "cell_type": "code",
   "execution_count": null,
   "metadata": {},
   "outputs": [],
   "source": []
  },
  {
   "cell_type": "code",
   "execution_count": null,
   "metadata": {},
   "outputs": [],
   "source": []
  }
 ],
 "metadata": {
  "kernelspec": {
   "display_name": "Python 3",
   "language": "python",
   "name": "python3"
  },
  "language_info": {
   "codemirror_mode": {
    "name": "ipython",
    "version": 3
   },
   "file_extension": ".py",
   "mimetype": "text/x-python",
   "name": "python",
   "nbconvert_exporter": "python",
   "pygments_lexer": "ipython3",
   "version": "3.7.3"
  }
 },
 "nbformat": 4,
 "nbformat_minor": 2
}
