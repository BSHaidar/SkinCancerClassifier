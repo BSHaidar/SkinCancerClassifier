{
 "cells": [
  {
   "cell_type": "code",
   "execution_count": 1,
   "metadata": {},
   "outputs": [],
   "source": [
    "%load_ext autoreload\n",
    "%autoreload 1\n",
    "import sys\n",
    "sys.path.insert(0, '/Users/basselhaidar/Desktop/Final Project/SkinCancerClassifier/py')"
   ]
  },
  {
   "cell_type": "code",
   "execution_count": 2,
   "metadata": {},
   "outputs": [
    {
     "name": "stderr",
     "output_type": "stream",
     "text": [
      "Using TensorFlow backend.\n"
     ]
    }
   ],
   "source": [
    "from setup_images import *\n",
    "from cnn_classifier import *\n",
    "import pandas_profiling"
   ]
  },
  {
   "cell_type": "code",
   "execution_count": 3,
   "metadata": {},
   "outputs": [
    {
     "name": "stdout",
     "output_type": "stream",
     "text": [
      "Total number of images = 10015\n",
      "Check path of ISIC_0025030.jpg = /Users/basselhaidar/Desktop/Final Project/skin-cancer-mnist-ham10000/HAM10000_images_part_1/ISIC_0025030.jpg\n"
     ]
    }
   ],
   "source": [
    "df = set_df()"
   ]
  },
  {
   "cell_type": "code",
   "execution_count": 4,
   "metadata": {},
   "outputs": [
    {
     "name": "stdout",
     "output_type": "stream",
     "text": [
      "WARNING:tensorflow:From /anaconda3/envs/flatiron/lib/python3.7/site-packages/tensorflow/python/framework/op_def_library.py:263: colocate_with (from tensorflow.python.framework.ops) is deprecated and will be removed in a future version.\n",
      "Instructions for updating:\n",
      "Colocations handled automatically by placer.\n"
     ]
    },
    {
     "name": "stderr",
     "output_type": "stream",
     "text": [
      "WARNING:tensorflow:From /anaconda3/envs/flatiron/lib/python3.7/site-packages/tensorflow/python/framework/op_def_library.py:263: colocate_with (from tensorflow.python.framework.ops) is deprecated and will be removed in a future version.\n",
      "Instructions for updating:\n",
      "Colocations handled automatically by placer.\n"
     ]
    },
    {
     "name": "stdout",
     "output_type": "stream",
     "text": [
      "_________________________________________________________________\n",
      "Layer (type)                 Output Shape              Param #   \n",
      "=================================================================\n",
      "conv2d_1 (Conv2D)            (None, 108, 196, 64)      1792      \n",
      "_________________________________________________________________\n",
      "batch_normalization_1 (Batch (None, 108, 196, 64)      256       \n",
      "_________________________________________________________________\n",
      "max_pooling2d_1 (MaxPooling2 (None, 54, 98, 64)        0         \n",
      "_________________________________________________________________\n",
      "flatten_1 (Flatten)          (None, 338688)            0         \n",
      "_________________________________________________________________\n",
      "dense_1 (Dense)              (None, 32)                10838048  \n",
      "_________________________________________________________________\n",
      "batch_normalization_2 (Batch (None, 32)                128       \n",
      "_________________________________________________________________\n",
      "dense_2 (Dense)              (None, 7)                 231       \n",
      "=================================================================\n",
      "Total params: 10,840,455\n",
      "Trainable params: 10,840,263\n",
      "Non-trainable params: 192\n",
      "_________________________________________________________________\n",
      "None\n"
     ]
    }
   ],
   "source": [
    "cnn = set_cnn_model()"
   ]
  },
  {
   "cell_type": "code",
   "execution_count": 5,
   "metadata": {
    "scrolled": true
   },
   "outputs": [
    {
     "name": "stdout",
     "output_type": "stream",
     "text": [
      "Found 2000 images belonging to 7 classes.\n",
      "Found 6415 images belonging to 7 classes.\n",
      "Found 1600 images belonging to 7 classes.\n",
      "WARNING:tensorflow:From /anaconda3/envs/flatiron/lib/python3.7/site-packages/tensorflow/python/ops/math_ops.py:3066: to_int32 (from tensorflow.python.ops.math_ops) is deprecated and will be removed in a future version.\n",
      "Instructions for updating:\n",
      "Use tf.cast instead.\n"
     ]
    },
    {
     "name": "stderr",
     "output_type": "stream",
     "text": [
      "WARNING:tensorflow:From /anaconda3/envs/flatiron/lib/python3.7/site-packages/tensorflow/python/ops/math_ops.py:3066: to_int32 (from tensorflow.python.ops.math_ops) is deprecated and will be removed in a future version.\n",
      "Instructions for updating:\n",
      "Use tf.cast instead.\n"
     ]
    },
    {
     "name": "stdout",
     "output_type": "stream",
     "text": [
      "Train on 4000 samples, validate on 800 samples\n",
      "Epoch 1/20\n",
      "4000/4000 [==============================] - 179s 45ms/step - loss: 2.8599 - acc: 0.5460 - val_loss: 2.5690 - val_acc: 0.5775\n",
      "Epoch 2/20\n",
      "4000/4000 [==============================] - 181s 45ms/step - loss: 2.2538 - acc: 0.6803 - val_loss: 2.0859 - val_acc: 0.6813\n",
      "Epoch 3/20\n",
      "4000/4000 [==============================] - 182s 46ms/step - loss: 1.9838 - acc: 0.7240 - val_loss: 2.0498 - val_acc: 0.6687\n",
      "Epoch 4/20\n",
      "4000/4000 [==============================] - 190s 48ms/step - loss: 1.8256 - acc: 0.7515 - val_loss: 1.9081 - val_acc: 0.6950\n",
      "Epoch 5/20\n",
      "4000/4000 [==============================] - 182s 45ms/step - loss: 1.7029 - acc: 0.7738 - val_loss: 1.8382 - val_acc: 0.7125\n",
      "Epoch 6/20\n",
      "4000/4000 [==============================] - 189s 47ms/step - loss: 1.6013 - acc: 0.7885 - val_loss: 1.7518 - val_acc: 0.7137\n",
      "Epoch 7/20\n",
      "4000/4000 [==============================] - 185s 46ms/step - loss: 1.4980 - acc: 0.8095 - val_loss: 1.9197 - val_acc: 0.6663\n",
      "Epoch 8/20\n",
      "4000/4000 [==============================] - 211s 53ms/step - loss: 1.3848 - acc: 0.8315 - val_loss: 1.6835 - val_acc: 0.7000\n",
      "Epoch 9/20\n",
      "4000/4000 [==============================] - 180s 45ms/step - loss: 1.2836 - acc: 0.8610 - val_loss: 1.7778 - val_acc: 0.6925\n",
      "Epoch 10/20\n",
      "4000/4000 [==============================] - 176s 44ms/step - loss: 1.1967 - acc: 0.8740 - val_loss: 1.7080 - val_acc: 0.6737\n",
      "Epoch 11/20\n",
      "4000/4000 [==============================] - 176s 44ms/step - loss: 1.0938 - acc: 0.8965 - val_loss: 1.6415 - val_acc: 0.6925\n",
      "Epoch 12/20\n",
      "4000/4000 [==============================] - 176s 44ms/step - loss: 1.0149 - acc: 0.9155 - val_loss: 1.5959 - val_acc: 0.7075\n",
      "Epoch 13/20\n",
      "4000/4000 [==============================] - 177s 44ms/step - loss: 0.9249 - acc: 0.9380 - val_loss: 1.7154 - val_acc: 0.6963\n",
      "Epoch 14/20\n",
      "4000/4000 [==============================] - 177s 44ms/step - loss: 0.8448 - acc: 0.9500 - val_loss: 1.5314 - val_acc: 0.6925\n",
      "Epoch 15/20\n",
      "4000/4000 [==============================] - 197s 49ms/step - loss: 0.7975 - acc: 0.9600 - val_loss: 1.5927 - val_acc: 0.7013\n",
      "Epoch 16/20\n",
      "4000/4000 [==============================] - 197s 49ms/step - loss: 0.7446 - acc: 0.9655 - val_loss: 1.5044 - val_acc: 0.7063\n",
      "Epoch 17/20\n",
      "4000/4000 [==============================] - 191s 48ms/step - loss: 0.6842 - acc: 0.9748 - val_loss: 1.6098 - val_acc: 0.6813\n",
      "Epoch 18/20\n",
      "4000/4000 [==============================] - 174s 44ms/step - loss: 0.6286 - acc: 0.9843 - val_loss: 1.5223 - val_acc: 0.6913\n",
      "Epoch 19/20\n",
      "4000/4000 [==============================] - 175s 44ms/step - loss: 0.5855 - acc: 0.9905 - val_loss: 1.5488 - val_acc: 0.7200\n",
      "Epoch 20/20\n",
      "4000/4000 [==============================] - 176s 44ms/step - loss: 0.5631 - acc: 0.9888 - val_loss: 1.6739 - val_acc: 0.7063\n"
     ]
    }
   ],
   "source": [
    "#  epoch=20, batch_size=32, l2=0.01\n",
    "model, images_test, labels_test = fit_cnn_model(cnn)"
   ]
  },
  {
   "cell_type": "code",
   "execution_count": 5,
   "metadata": {},
   "outputs": [
    {
     "name": "stdout",
     "output_type": "stream",
     "text": [
      "WARNING:tensorflow:From /anaconda3/envs/flatiron/lib/python3.7/site-packages/tensorflow/python/framework/op_def_library.py:263: colocate_with (from tensorflow.python.framework.ops) is deprecated and will be removed in a future version.\n",
      "Instructions for updating:\n",
      "Colocations handled automatically by placer.\n"
     ]
    },
    {
     "name": "stderr",
     "output_type": "stream",
     "text": [
      "WARNING:tensorflow:From /anaconda3/envs/flatiron/lib/python3.7/site-packages/tensorflow/python/framework/op_def_library.py:263: colocate_with (from tensorflow.python.framework.ops) is deprecated and will be removed in a future version.\n",
      "Instructions for updating:\n",
      "Colocations handled automatically by placer.\n"
     ]
    },
    {
     "name": "stdout",
     "output_type": "stream",
     "text": [
      "WARNING:tensorflow:From /anaconda3/envs/flatiron/lib/python3.7/site-packages/keras/backend/tensorflow_backend.py:3445: calling dropout (from tensorflow.python.ops.nn_ops) with keep_prob is deprecated and will be removed in a future version.\n",
      "Instructions for updating:\n",
      "Please use `rate` instead of `keep_prob`. Rate should be set to `rate = 1 - keep_prob`.\n"
     ]
    },
    {
     "name": "stderr",
     "output_type": "stream",
     "text": [
      "WARNING:tensorflow:From /anaconda3/envs/flatiron/lib/python3.7/site-packages/keras/backend/tensorflow_backend.py:3445: calling dropout (from tensorflow.python.ops.nn_ops) with keep_prob is deprecated and will be removed in a future version.\n",
      "Instructions for updating:\n",
      "Please use `rate` instead of `keep_prob`. Rate should be set to `rate = 1 - keep_prob`.\n"
     ]
    },
    {
     "name": "stdout",
     "output_type": "stream",
     "text": [
      "_________________________________________________________________\n",
      "Layer (type)                 Output Shape              Param #   \n",
      "=================================================================\n",
      "conv2d_1 (Conv2D)            (None, 108, 196, 64)      1792      \n",
      "_________________________________________________________________\n",
      "batch_normalization_1 (Batch (None, 108, 196, 64)      256       \n",
      "_________________________________________________________________\n",
      "max_pooling2d_1 (MaxPooling2 (None, 54, 98, 64)        0         \n",
      "_________________________________________________________________\n",
      "dropout_1 (Dropout)          (None, 54, 98, 64)        0         \n",
      "_________________________________________________________________\n",
      "flatten_1 (Flatten)          (None, 338688)            0         \n",
      "_________________________________________________________________\n",
      "dense_1 (Dense)              (None, 32)                10838048  \n",
      "_________________________________________________________________\n",
      "batch_normalization_2 (Batch (None, 32)                128       \n",
      "_________________________________________________________________\n",
      "dense_2 (Dense)              (None, 7)                 231       \n",
      "=================================================================\n",
      "Total params: 10,840,455\n",
      "Trainable params: 10,840,263\n",
      "Non-trainable params: 192\n",
      "_________________________________________________________________\n",
      "None\n"
     ]
    }
   ],
   "source": [
    "cnn = set_cnn_model()"
   ]
  },
  {
   "cell_type": "code",
   "execution_count": null,
   "metadata": {
    "scrolled": true
   },
   "outputs": [
    {
     "name": "stdout",
     "output_type": "stream",
     "text": [
      "Found 2000 images belonging to 7 classes.\n",
      "Found 6415 images belonging to 7 classes.\n",
      "Found 1600 images belonging to 7 classes.\n",
      "WARNING:tensorflow:From /anaconda3/envs/flatiron/lib/python3.7/site-packages/tensorflow/python/ops/math_ops.py:3066: to_int32 (from tensorflow.python.ops.math_ops) is deprecated and will be removed in a future version.\n",
      "Instructions for updating:\n",
      "Use tf.cast instead.\n"
     ]
    },
    {
     "name": "stderr",
     "output_type": "stream",
     "text": [
      "WARNING:tensorflow:From /anaconda3/envs/flatiron/lib/python3.7/site-packages/tensorflow/python/ops/math_ops.py:3066: to_int32 (from tensorflow.python.ops.math_ops) is deprecated and will be removed in a future version.\n",
      "Instructions for updating:\n",
      "Use tf.cast instead.\n"
     ]
    },
    {
     "name": "stdout",
     "output_type": "stream",
     "text": [
      "Train on 4000 samples, validate on 800 samples\n",
      "Epoch 1/20\n",
      "4000/4000 [==============================] - 213s 53ms/step - loss: 2.6854 - acc: 0.5680 - val_loss: 2.2524 - val_acc: 0.6613\n",
      "Epoch 2/20\n",
      "4000/4000 [==============================] - 206s 52ms/step - loss: 2.0881 - acc: 0.7245 - val_loss: 2.0822 - val_acc: 0.6825\n",
      "Epoch 3/20\n",
      "4000/4000 [==============================] - 215s 54ms/step - loss: 1.8619 - acc: 0.7578 - val_loss: 1.9750 - val_acc: 0.6875\n",
      "Epoch 4/20\n",
      "4000/4000 [==============================] - 214s 53ms/step - loss: 1.6988 - acc: 0.7880 - val_loss: 1.9450 - val_acc: 0.6650\n",
      "Epoch 5/20\n",
      "4000/4000 [==============================] - 207s 52ms/step - loss: 1.5735 - acc: 0.8153 - val_loss: 1.8914 - val_acc: 0.6925\n",
      "Epoch 6/20\n",
      "4000/4000 [==============================] - 203s 51ms/step - loss: 1.4885 - acc: 0.8287 - val_loss: 1.8571 - val_acc: 0.6825\n",
      "Epoch 7/20\n",
      "4000/4000 [==============================] - 220s 55ms/step - loss: 1.3647 - acc: 0.8580 - val_loss: 1.7507 - val_acc: 0.7100\n",
      "Epoch 8/20\n",
      "4000/4000 [==============================] - 214s 54ms/step - loss: 1.2388 - acc: 0.8855 - val_loss: 1.7454 - val_acc: 0.6863\n",
      "Epoch 9/20\n",
      "4000/4000 [==============================] - 216s 54ms/step - loss: 1.1302 - acc: 0.9140 - val_loss: 1.6884 - val_acc: 0.7188\n",
      "Epoch 10/20\n",
      "4000/4000 [==============================] - 207s 52ms/step - loss: 1.0396 - acc: 0.9333 - val_loss: 1.7737 - val_acc: 0.6837\n",
      "Epoch 11/20\n",
      "4000/4000 [==============================] - 197s 49ms/step - loss: 0.9530 - acc: 0.9447 - val_loss: 1.9178 - val_acc: 0.6875\n",
      "Epoch 12/20\n",
      "3968/4000 [============================>.] - ETA: 1s - loss: 0.9154 - acc: 0.9498"
     ]
    }
   ],
   "source": [
    "# with dropout = 0.50, epoch=20, batch_size=32, l2=0.01\n",
    "model, images_test, labels_test = fit_cnn_model(cnn)"
   ]
  },
  {
   "cell_type": "code",
   "execution_count": 1,
   "metadata": {},
   "outputs": [
    {
     "name": "stderr",
     "output_type": "stream",
     "text": [
      "Using TensorFlow backend.\n"
     ]
    }
   ],
   "source": [
    "from keras.models import load_model"
   ]
  },
  {
   "cell_type": "code",
   "execution_count": 2,
   "metadata": {
    "scrolled": true
   },
   "outputs": [
    {
     "name": "stdout",
     "output_type": "stream",
     "text": [
      "WARNING:tensorflow:From /anaconda3/envs/flatiron/lib/python3.7/site-packages/tensorflow/python/framework/op_def_library.py:263: colocate_with (from tensorflow.python.framework.ops) is deprecated and will be removed in a future version.\n",
      "Instructions for updating:\n",
      "Colocations handled automatically by placer.\n",
      "WARNING:tensorflow:From /anaconda3/envs/flatiron/lib/python3.7/site-packages/tensorflow/python/ops/math_ops.py:3066: to_int32 (from tensorflow.python.ops.math_ops) is deprecated and will be removed in a future version.\n",
      "Instructions for updating:\n",
      "Use tf.cast instead.\n"
     ]
    }
   ],
   "source": [
    "test_model=load_model('/Users/basselhaidar/Desktop/Final Project/saved_models/CNN_Run_1.h5')"
   ]
  },
  {
   "cell_type": "code",
   "execution_count": 8,
   "metadata": {},
   "outputs": [
    {
     "name": "stdout",
     "output_type": "stream",
     "text": [
      "Found 2000 images belonging to 7 classes.\n",
      "Found 6415 images belonging to 7 classes.\n",
      "Found 1600 images belonging to 7 classes.\n"
     ]
    }
   ],
   "source": [
    "_, _, images_test, labels_test, _, _ = split_images()"
   ]
  },
  {
   "cell_type": "code",
   "execution_count": null,
   "metadata": {},
   "outputs": [],
   "source": []
  },
  {
   "cell_type": "code",
   "execution_count": 9,
   "metadata": {
    "scrolled": true
   },
   "outputs": [],
   "source": [
    "cnn_img_predict=test_model.predict(images_test)"
   ]
  },
  {
   "cell_type": "code",
   "execution_count": 12,
   "metadata": {},
   "outputs": [],
   "source": [
    "from sklearn.metrics import multilabel_confusion_matrix"
   ]
  },
  {
   "cell_type": "code",
   "execution_count": null,
   "metadata": {},
   "outputs": [],
   "source": [
    "multilabel_confusion_matrix(labels_test, cnn_img_predict)"
   ]
  },
  {
   "cell_type": "code",
   "execution_count": null,
   "metadata": {},
   "outputs": [],
   "source": [
    "from sklearn.metrics import confusion_matrix, classification_report\n"
   ]
  },
  {
   "cell_type": "code",
   "execution_count": null,
   "metadata": {},
   "outputs": [],
   "source": [
    "confusion_matrix(y_test, test_preds)"
   ]
  },
  {
   "cell_type": "code",
   "execution_count": null,
   "metadata": {},
   "outputs": [],
   "source": [
    "classification_report(y_test, test_preds)"
   ]
  },
  {
   "cell_type": "code",
   "execution_count": null,
   "metadata": {},
   "outputs": [],
   "source": [
    "\n",
    "from sklearn.metrics import confusion_matrix\n",
    "from sklearn.utils.multiclass import unique_labels\n",
    "\n",
    "def plot_confusion_matrix(y_true, y_pred, classes,\n",
    "                          normalize=False,\n",
    "                          title=None,\n",
    "                          cmap=None):\n",
    "    #=plt.cm.Blues):\n",
    "    \"\"\"\n",
    "    This function prints and plots the confusion matrix.\n",
    "    Normalization can be applied by setting `normalize=True`.\n",
    "    \"\"\"\n",
    "    if not title:\n",
    "        if normalize:\n",
    "            title = 'Normalized confusion matrix'\n",
    "        else:\n",
    "            title = 'Confusion matrix, without normalization'\n",
    "    y_true = np.array(y_true)\n",
    "    y_pred = np.array(y_pred)\n",
    "    # Compute confusion matrix\n",
    "    cm = confusion_matrix(y_true, y_pred)\n",
    "    # Only use the labels that appear in the data\n",
    "#     classes = classes[unique_labels(y_true, y_pred)]\n",
    "    if normalize:\n",
    "        cm = cm.astype('float') / cm.sum(axis=1)[:, np.newaxis]\n",
    "        print(\"Normalized confusion matrix\")\n",
    "    else:\n",
    "        print('Confusion matrix, without normalization')\n",
    "\n",
    "    print(cm)\n",
    "\n",
    "    fig, ax = plt.subplots(figsize=(8,6))\n",
    "    im = ax.imshow(cm, interpolation='nearest', cmap=cmap)\n",
    "    ax.figure.colorbar(im, ax=ax)\n",
    "    # We want to show all ticks...\n",
    "    ax.set(xticks=np.arange(cm.shape[1]),\n",
    "           yticks=np.arange(cm.shape[0]),\n",
    "           # ... and label them with the respective list entries\n",
    "           xticklabels=classes, yticklabels=classes,\n",
    "           title=title,\n",
    "           ylabel='True label',\n",
    "           xlabel='Predicted label')\n",
    "\n",
    "    # Rotate the tick labels and set their alignment.\n",
    "    plt.setp(ax.get_xticklabels(), rotation=45, ha=\"right\",\n",
    "             rotation_mode=\"anchor\")\n",
    "\n",
    "    # Loop over data dimensions and create text annotations.\n",
    "    fmt = '.2f' if normalize else 'd'\n",
    "    thresh = cm.max() / 2.\n",
    "    for i in range(cm.shape[0]):\n",
    "        for j in range(cm.shape[1]):\n",
    "            ax.text(j, i, format(cm[i, j], fmt),\n",
    "                    ha=\"center\", va=\"center\",\n",
    "                    color=\"white\" if cm[i, j] > thresh else \"black\")\n",
    "    fig.tight_layout()"
   ]
  },
  {
   "cell_type": "code",
   "execution_count": null,
   "metadata": {},
   "outputs": [],
   "source": []
  },
  {
   "cell_type": "code",
   "execution_count": null,
   "metadata": {},
   "outputs": [],
   "source": []
  },
  {
   "cell_type": "code",
   "execution_count": 14,
   "metadata": {},
   "outputs": [
    {
     "data": {
      "text/plain": [
       "array(['Benign keratosis-like lesions ', 'Melanocytic nevi',\n",
       "       'Dermatofibroma', 'Melanoma', 'Vascular lesions',\n",
       "       'Basal cell carcinoma', 'Actinic keratoses'], dtype=object)"
      ]
     },
     "execution_count": 14,
     "metadata": {},
     "output_type": "execute_result"
    }
   ],
   "source": [
    "df.category_name.unique()\n"
   ]
  },
  {
   "cell_type": "code",
   "execution_count": null,
   "metadata": {},
   "outputs": [],
   "source": []
  },
  {
   "cell_type": "code",
   "execution_count": null,
   "metadata": {
    "scrolled": false
   },
   "outputs": [
    {
     "name": "stdout",
     "output_type": "stream",
     "text": [
      "WARNING:tensorflow:From /anaconda3/envs/flatiron/lib/python3.7/site-packages/tensorflow/python/framework/op_def_library.py:263: colocate_with (from tensorflow.python.framework.ops) is deprecated and will be removed in a future version.\n",
      "Instructions for updating:\n",
      "Colocations handled automatically by placer.\n"
     ]
    },
    {
     "name": "stderr",
     "output_type": "stream",
     "text": [
      "WARNING:tensorflow:From /anaconda3/envs/flatiron/lib/python3.7/site-packages/tensorflow/python/framework/op_def_library.py:263: colocate_with (from tensorflow.python.framework.ops) is deprecated and will be removed in a future version.\n",
      "Instructions for updating:\n",
      "Colocations handled automatically by placer.\n"
     ]
    },
    {
     "name": "stdout",
     "output_type": "stream",
     "text": [
      "_________________________________________________________________\n",
      "Layer (type)                 Output Shape              Param #   \n",
      "=================================================================\n",
      "conv2d_1 (Conv2D)            (None, 108, 196, 64)      1792      \n",
      "_________________________________________________________________\n",
      "batch_normalization_1 (Batch (None, 108, 196, 64)      256       \n",
      "_________________________________________________________________\n",
      "max_pooling2d_1 (MaxPooling2 (None, 54, 98, 64)        0         \n",
      "_________________________________________________________________\n",
      "flatten_1 (Flatten)          (None, 338688)            0         \n",
      "_________________________________________________________________\n",
      "dense_1 (Dense)              (None, 32)                10838048  \n",
      "_________________________________________________________________\n",
      "batch_normalization_2 (Batch (None, 32)                128       \n",
      "_________________________________________________________________\n",
      "dense_2 (Dense)              (None, 7)                 231       \n",
      "=================================================================\n",
      "Total params: 10,840,455\n",
      "Trainable params: 10,840,263\n",
      "Non-trainable params: 192\n",
      "_________________________________________________________________\n",
      "None\n",
      "Found 2000 images belonging to 7 classes.\n",
      "Found 6415 images belonging to 7 classes.\n",
      "Found 1600 images belonging to 7 classes.\n",
      "WARNING:tensorflow:From /anaconda3/envs/flatiron/lib/python3.7/site-packages/tensorflow/python/ops/math_ops.py:3066: to_int32 (from tensorflow.python.ops.math_ops) is deprecated and will be removed in a future version.\n",
      "Instructions for updating:\n",
      "Use tf.cast instead.\n"
     ]
    },
    {
     "name": "stderr",
     "output_type": "stream",
     "text": [
      "WARNING:tensorflow:From /anaconda3/envs/flatiron/lib/python3.7/site-packages/tensorflow/python/ops/math_ops.py:3066: to_int32 (from tensorflow.python.ops.math_ops) is deprecated and will be removed in a future version.\n",
      "Instructions for updating:\n",
      "Use tf.cast instead.\n"
     ]
    },
    {
     "name": "stdout",
     "output_type": "stream",
     "text": [
      "Train on 4000 samples, validate on 800 samples\n",
      "Epoch 1/100\n",
      "4000/4000 [==============================] - 186s 46ms/step - loss: 2.3756 - acc: 0.6230 - val_loss: 1.8823 - val_acc: 0.6525\n",
      "Epoch 2/100\n",
      "4000/4000 [==============================] - 195s 49ms/step - loss: 1.6106 - acc: 0.6860 - val_loss: 1.5472 - val_acc: 0.6737\n",
      "Epoch 3/100\n",
      "4000/4000 [==============================] - 203s 51ms/step - loss: 1.2812 - acc: 0.7005 - val_loss: 1.6707 - val_acc: 0.6525\n",
      "Epoch 4/100\n",
      "4000/4000 [==============================] - 200s 50ms/step - loss: 1.0791 - acc: 0.7085 - val_loss: 1.3982 - val_acc: 0.6550\n",
      "Epoch 5/100\n",
      "4000/4000 [==============================] - 199s 50ms/step - loss: 0.9555 - acc: 0.7140 - val_loss: 1.0937 - val_acc: 0.6475\n",
      "Epoch 6/100\n",
      "4000/4000 [==============================] - 193s 48ms/step - loss: 0.8802 - acc: 0.7215 - val_loss: 1.1919 - val_acc: 0.6763\n",
      "Epoch 7/100\n",
      "4000/4000 [==============================] - 187s 47ms/step - loss: 0.8304 - acc: 0.7255 - val_loss: 1.1699 - val_acc: 0.6325\n",
      "Epoch 8/100\n",
      "4000/4000 [==============================] - 189s 47ms/step - loss: 0.7850 - acc: 0.7343 - val_loss: 2.2540 - val_acc: 0.6525\n",
      "Epoch 9/100\n",
      "4000/4000 [==============================] - 188s 47ms/step - loss: 0.7450 - acc: 0.7463 - val_loss: 2.5930 - val_acc: 0.3162\n",
      "Epoch 10/100\n",
      "4000/4000 [==============================] - 190s 48ms/step - loss: 0.7302 - acc: 0.7465 - val_loss: 1.5177 - val_acc: 0.6562\n",
      "Epoch 11/100\n",
      "4000/4000 [==============================] - 197s 49ms/step - loss: 0.7183 - acc: 0.7510 - val_loss: 1.6203 - val_acc: 0.5200\n",
      "Epoch 12/100\n",
      "4000/4000 [==============================] - 195s 49ms/step - loss: 0.7075 - acc: 0.7515 - val_loss: 2.1600 - val_acc: 0.4437\n",
      "Epoch 13/100\n",
      "4000/4000 [==============================] - 195s 49ms/step - loss: 0.6766 - acc: 0.7615 - val_loss: 1.5082 - val_acc: 0.6375\n",
      "Epoch 14/100\n",
      "4000/4000 [==============================] - 197s 49ms/step - loss: 0.6405 - acc: 0.7770 - val_loss: 0.8745 - val_acc: 0.6925\n",
      "Epoch 15/100\n",
      "4000/4000 [==============================] - 195s 49ms/step - loss: 0.6496 - acc: 0.7692 - val_loss: 1.5862 - val_acc: 0.5212\n",
      "Epoch 16/100\n",
      "4000/4000 [==============================] - 198s 49ms/step - loss: 0.6122 - acc: 0.7845 - val_loss: 1.2207 - val_acc: 0.6887\n",
      "Epoch 17/100\n",
      "4000/4000 [==============================] - 192s 48ms/step - loss: 0.5959 - acc: 0.7980 - val_loss: 2.1488 - val_acc: 0.6637\n",
      "Epoch 18/100\n",
      "4000/4000 [==============================] - 190s 48ms/step - loss: 0.5801 - acc: 0.8050 - val_loss: 1.8102 - val_acc: 0.6450\n",
      "Epoch 19/100\n",
      "4000/4000 [==============================] - 191s 48ms/step - loss: 0.5420 - acc: 0.8210 - val_loss: 3.7632 - val_acc: 0.6562\n",
      "Epoch 20/100\n",
      "4000/4000 [==============================] - 188s 47ms/step - loss: 0.4947 - acc: 0.8385 - val_loss: 2.8924 - val_acc: 0.6538\n",
      "Epoch 21/100\n",
      "4000/4000 [==============================] - 197s 49ms/step - loss: 0.4609 - acc: 0.8560 - val_loss: 1.9106 - val_acc: 0.6425\n",
      "Epoch 22/100\n",
      "4000/4000 [==============================] - 193s 48ms/step - loss: 0.4017 - acc: 0.8798 - val_loss: 4.3087 - val_acc: 0.3013\n",
      "Epoch 23/100\n",
      "4000/4000 [==============================] - 184s 46ms/step - loss: 0.3423 - acc: 0.9042 - val_loss: 3.3710 - val_acc: 0.6112\n",
      "Epoch 24/100\n",
      "4000/4000 [==============================] - 184s 46ms/step - loss: 0.2846 - acc: 0.9190 - val_loss: 4.0888 - val_acc: 0.6562\n",
      "Epoch 25/100\n",
      "4000/4000 [==============================] - 191s 48ms/step - loss: 0.4323 - acc: 0.8702 - val_loss: 5.0026 - val_acc: 0.6475\n",
      "Epoch 26/100\n",
      "4000/4000 [==============================] - 190s 47ms/step - loss: 0.3966 - acc: 0.8812 - val_loss: 4.5850 - val_acc: 0.6538\n",
      "Epoch 27/100\n",
      "4000/4000 [==============================] - 188s 47ms/step - loss: 0.2764 - acc: 0.9220 - val_loss: 3.2573 - val_acc: 0.6525\n",
      "Epoch 28/100\n",
      "4000/4000 [==============================] - 188s 47ms/step - loss: 0.2557 - acc: 0.9330 - val_loss: 1.7926 - val_acc: 0.5938\n",
      "Epoch 29/100\n",
      "4000/4000 [==============================] - 194s 48ms/step - loss: 0.2393 - acc: 0.9382 - val_loss: 1.5685 - val_acc: 0.6388\n",
      "Epoch 30/100\n",
      "4000/4000 [==============================] - 186s 47ms/step - loss: 0.1845 - acc: 0.9560 - val_loss: 1.3611 - val_acc: 0.6500\n",
      "Epoch 31/100\n",
      "4000/4000 [==============================] - 191s 48ms/step - loss: 0.1552 - acc: 0.9650 - val_loss: 1.5687 - val_acc: 0.6350\n",
      "Epoch 32/100\n",
      "4000/4000 [==============================] - 188s 47ms/step - loss: 0.1050 - acc: 0.9822 - val_loss: 1.9447 - val_acc: 0.6613\n",
      "Epoch 33/100\n",
      "4000/4000 [==============================] - 188s 47ms/step - loss: 0.1204 - acc: 0.9708 - val_loss: 1.9335 - val_acc: 0.6775\n",
      "Epoch 34/100\n",
      "4000/4000 [==============================] - 188s 47ms/step - loss: 0.0828 - acc: 0.9870 - val_loss: 1.9675 - val_acc: 0.6737\n",
      "Epoch 35/100\n",
      "4000/4000 [==============================] - 190s 47ms/step - loss: 0.0578 - acc: 0.9928 - val_loss: 1.9266 - val_acc: 0.6813\n",
      "Epoch 36/100\n",
      "4000/4000 [==============================] - 186s 46ms/step - loss: 0.0444 - acc: 0.9965 - val_loss: 1.9668 - val_acc: 0.6813\n",
      "Epoch 37/100\n",
      "4000/4000 [==============================] - 185s 46ms/step - loss: 0.0461 - acc: 0.9942 - val_loss: 2.1165 - val_acc: 0.6325\n",
      "Epoch 38/100\n",
      "4000/4000 [==============================] - 189s 47ms/step - loss: 0.0405 - acc: 0.9963 - val_loss: 1.8725 - val_acc: 0.6288\n",
      "Epoch 39/100\n",
      "4000/4000 [==============================] - 189s 47ms/step - loss: 0.0322 - acc: 0.9970 - val_loss: 2.9710 - val_acc: 0.6425\n",
      "Epoch 40/100\n",
      "4000/4000 [==============================] - 189s 47ms/step - loss: 0.0551 - acc: 0.9890 - val_loss: 2.4094 - val_acc: 0.6512\n",
      "Epoch 41/100\n",
      "4000/4000 [==============================] - 188s 47ms/step - loss: 0.0661 - acc: 0.9868 - val_loss: 3.3412 - val_acc: 0.6162\n",
      "Epoch 42/100\n",
      "4000/4000 [==============================] - 194s 48ms/step - loss: 0.1077 - acc: 0.9702 - val_loss: 2.3863 - val_acc: 0.6188\n",
      "Epoch 43/100\n",
      "1888/4000 [=============>................] - ETA: 1:36 - loss: 0.0813 - acc: 0.9831"
     ]
    }
   ],
   "source": [
    "# optimize = SGD(lr=1e-2, momentum=0.9, decay=1e-2/epoch)\n",
    "# epoch=100, batch_num=32\n",
    "cnn = set_cnn_model()\n",
    "model, images_test, labels_test = fit_cnn_model(cnn)"
   ]
  },
  {
   "cell_type": "code",
   "execution_count": null,
   "metadata": {},
   "outputs": [],
   "source": []
  },
  {
   "cell_type": "code",
   "execution_count": 5,
   "metadata": {
    "scrolled": true
   },
   "outputs": [
    {
     "name": "stdout",
     "output_type": "stream",
     "text": [
      "WARNING:tensorflow:From /anaconda3/envs/flatiron/lib/python3.7/site-packages/tensorflow/python/framework/op_def_library.py:263: colocate_with (from tensorflow.python.framework.ops) is deprecated and will be removed in a future version.\n",
      "Instructions for updating:\n",
      "Colocations handled automatically by placer.\n"
     ]
    },
    {
     "name": "stderr",
     "output_type": "stream",
     "text": [
      "WARNING:tensorflow:From /anaconda3/envs/flatiron/lib/python3.7/site-packages/tensorflow/python/framework/op_def_library.py:263: colocate_with (from tensorflow.python.framework.ops) is deprecated and will be removed in a future version.\n",
      "Instructions for updating:\n",
      "Colocations handled automatically by placer.\n"
     ]
    },
    {
     "name": "stdout",
     "output_type": "stream",
     "text": [
      "Found 2000 images belonging to 7 classes.\n",
      "Found 6415 images belonging to 7 classes.\n",
      "Found 1600 images belonging to 7 classes.\n",
      "WARNING:tensorflow:From /anaconda3/envs/flatiron/lib/python3.7/site-packages/tensorflow/python/ops/math_ops.py:3066: to_int32 (from tensorflow.python.ops.math_ops) is deprecated and will be removed in a future version.\n",
      "Instructions for updating:\n",
      "Use tf.cast instead.\n"
     ]
    },
    {
     "name": "stderr",
     "output_type": "stream",
     "text": [
      "WARNING:tensorflow:From /anaconda3/envs/flatiron/lib/python3.7/site-packages/tensorflow/python/ops/math_ops.py:3066: to_int32 (from tensorflow.python.ops.math_ops) is deprecated and will be removed in a future version.\n",
      "Instructions for updating:\n",
      "Use tf.cast instead.\n"
     ]
    },
    {
     "name": "stdout",
     "output_type": "stream",
     "text": [
      "Train on 4000 samples, validate on 800 samples\n",
      "Epoch 1/20\n",
      "4000/4000 [==============================] - 117s 29ms/step - loss: 90.5680 - acc: 0.3770 - val_loss: 84.8041 - val_acc: 0.4762\n",
      "Epoch 2/20\n",
      "4000/4000 [==============================] - 105s 26ms/step - loss: 78.0681 - acc: 0.7658 - val_loss: 72.7782 - val_acc: 0.5688\n",
      "Epoch 3/20\n",
      "4000/4000 [==============================] - 104s 26ms/step - loss: 66.7216 - acc: 0.8978 - val_loss: 63.1991 - val_acc: 0.6288\n",
      "Epoch 4/20\n",
      "4000/4000 [==============================] - 105s 26ms/step - loss: 57.7882 - acc: 0.9380 - val_loss: 55.3970 - val_acc: 0.6250\n",
      "Epoch 5/20\n",
      "4000/4000 [==============================] - 105s 26ms/step - loss: 50.7603 - acc: 0.9710 - val_loss: 49.3477 - val_acc: 0.6413\n",
      "Epoch 6/20\n",
      "4000/4000 [==============================] - 105s 26ms/step - loss: 45.1545 - acc: 0.9845 - val_loss: 44.3518 - val_acc: 0.6400\n",
      "Epoch 7/20\n",
      "4000/4000 [==============================] - 104s 26ms/step - loss: 40.5980 - acc: 0.9890 - val_loss: 40.3499 - val_acc: 0.6462\n",
      "Epoch 8/20\n",
      "4000/4000 [==============================] - 105s 26ms/step - loss: 36.8257 - acc: 0.9920 - val_loss: 37.0066 - val_acc: 0.6500\n",
      "Epoch 9/20\n",
      "4000/4000 [==============================] - 104s 26ms/step - loss: 33.6509 - acc: 0.9942 - val_loss: 34.2005 - val_acc: 0.6513\n",
      "Epoch 10/20\n",
      "4000/4000 [==============================] - 105s 26ms/step - loss: 30.9408 - acc: 0.9970 - val_loss: 31.7001 - val_acc: 0.6525\n",
      "Epoch 11/20\n",
      "4000/4000 [==============================] - 105s 26ms/step - loss: 28.6148 - acc: 0.9967 - val_loss: 29.5810 - val_acc: 0.6550\n",
      "Epoch 12/20\n",
      "4000/4000 [==============================] - 105s 26ms/step - loss: 26.5933 - acc: 0.9962 - val_loss: 27.7399 - val_acc: 0.6537\n",
      "Epoch 13/20\n",
      "4000/4000 [==============================] - 113s 28ms/step - loss: 24.8131 - acc: 0.9962 - val_loss: 26.0478 - val_acc: 0.6525\n",
      "Epoch 14/20\n",
      "4000/4000 [==============================] - 113s 28ms/step - loss: 23.2403 - acc: 0.9980 - val_loss: 24.6806 - val_acc: 0.6537\n",
      "Epoch 15/20\n",
      "4000/4000 [==============================] - 112s 28ms/step - loss: 21.8451 - acc: 0.9977 - val_loss: 23.4407 - val_acc: 0.6537\n",
      "Epoch 16/20\n",
      "4000/4000 [==============================] - 112s 28ms/step - loss: 20.5918 - acc: 0.9985 - val_loss: 22.4192 - val_acc: 0.6537\n",
      "Epoch 17/20\n",
      "4000/4000 [==============================] - 112s 28ms/step - loss: 19.4712 - acc: 0.9972 - val_loss: 21.3453 - val_acc: 0.6537\n",
      "Epoch 18/20\n",
      "4000/4000 [==============================] - 110s 28ms/step - loss: 18.4525 - acc: 0.9985 - val_loss: 20.2847 - val_acc: 0.6512\n",
      "Epoch 19/20\n",
      "4000/4000 [==============================] - 109s 27ms/step - loss: 17.5312 - acc: 0.9982 - val_loss: 19.4716 - val_acc: 0.6513\n",
      "Epoch 20/20\n",
      "4000/4000 [==============================] - 110s 27ms/step - loss: 16.6886 - acc: 0.9990 - val_loss: 18.5888 - val_acc: 0.6512\n"
     ]
    }
   ],
   "source": [
    "new_imagenet, images_test_imagenet, labels_test_imagenet= imagenet_classifier(epoch=20, batch=250)"
   ]
  },
  {
   "cell_type": "code",
   "execution_count": null,
   "metadata": {},
   "outputs": [],
   "source": []
  },
  {
   "cell_type": "code",
   "execution_count": null,
   "metadata": {},
   "outputs": [],
   "source": []
  },
  {
   "cell_type": "code",
   "execution_count": null,
   "metadata": {},
   "outputs": [],
   "source": []
  },
  {
   "cell_type": "code",
   "execution_count": null,
   "metadata": {},
   "outputs": [],
   "source": []
  },
  {
   "cell_type": "code",
   "execution_count": null,
   "metadata": {},
   "outputs": [],
   "source": []
  },
  {
   "cell_type": "code",
   "execution_count": null,
   "metadata": {},
   "outputs": [],
   "source": []
  },
  {
   "cell_type": "code",
   "execution_count": null,
   "metadata": {},
   "outputs": [],
   "source": []
  },
  {
   "cell_type": "code",
   "execution_count": null,
   "metadata": {},
   "outputs": [],
   "source": []
  },
  {
   "cell_type": "code",
   "execution_count": null,
   "metadata": {},
   "outputs": [],
   "source": []
  },
  {
   "cell_type": "code",
   "execution_count": null,
   "metadata": {},
   "outputs": [],
   "source": []
  },
  {
   "cell_type": "code",
   "execution_count": null,
   "metadata": {},
   "outputs": [],
   "source": []
  },
  {
   "cell_type": "code",
   "execution_count": null,
   "metadata": {},
   "outputs": [],
   "source": []
  },
  {
   "cell_type": "code",
   "execution_count": null,
   "metadata": {},
   "outputs": [],
   "source": []
  },
  {
   "cell_type": "code",
   "execution_count": null,
   "metadata": {},
   "outputs": [],
   "source": []
  },
  {
   "cell_type": "code",
   "execution_count": null,
   "metadata": {},
   "outputs": [],
   "source": []
  },
  {
   "cell_type": "code",
   "execution_count": null,
   "metadata": {},
   "outputs": [],
   "source": []
  },
  {
   "cell_type": "code",
   "execution_count": null,
   "metadata": {},
   "outputs": [],
   "source": []
  },
  {
   "cell_type": "code",
   "execution_count": null,
   "metadata": {},
   "outputs": [],
   "source": []
  },
  {
   "cell_type": "code",
   "execution_count": null,
   "metadata": {},
   "outputs": [],
   "source": []
  },
  {
   "cell_type": "code",
   "execution_count": null,
   "metadata": {},
   "outputs": [],
   "source": []
  },
  {
   "cell_type": "code",
   "execution_count": null,
   "metadata": {},
   "outputs": [],
   "source": []
  },
  {
   "cell_type": "code",
   "execution_count": null,
   "metadata": {},
   "outputs": [],
   "source": []
  },
  {
   "cell_type": "code",
   "execution_count": null,
   "metadata": {},
   "outputs": [],
   "source": []
  },
  {
   "cell_type": "code",
   "execution_count": null,
   "metadata": {},
   "outputs": [],
   "source": []
  },
  {
   "cell_type": "code",
   "execution_count": null,
   "metadata": {},
   "outputs": [],
   "source": []
  },
  {
   "cell_type": "code",
   "execution_count": null,
   "metadata": {},
   "outputs": [],
   "source": []
  },
  {
   "cell_type": "code",
   "execution_count": null,
   "metadata": {},
   "outputs": [],
   "source": []
  }
 ],
 "metadata": {
  "kernelspec": {
   "display_name": "Python 3",
   "language": "python",
   "name": "python3"
  },
  "language_info": {
   "codemirror_mode": {
    "name": "ipython",
    "version": 3
   },
   "file_extension": ".py",
   "mimetype": "text/x-python",
   "name": "python",
   "nbconvert_exporter": "python",
   "pygments_lexer": "ipython3",
   "version": "3.7.3"
  }
 },
 "nbformat": 4,
 "nbformat_minor": 2
}
