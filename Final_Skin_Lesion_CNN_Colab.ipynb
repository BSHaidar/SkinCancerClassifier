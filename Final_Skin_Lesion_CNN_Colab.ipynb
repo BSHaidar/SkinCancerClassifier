{
 "cells": [
  {
   "cell_type": "code",
   "execution_count": 10,
   "metadata": {
    "scrolled": true
   },
   "outputs": [],
   "source": [
    "# !unzip '../SkinCancerClassifier/Archive.zip'"
   ]
  },
  {
   "cell_type": "code",
   "execution_count": 35,
   "metadata": {},
   "outputs": [],
   "source": [
    "# import os\n",
    "# image_test_list=[]\n",
    "# for i in range(0,7):\n",
    "#     sub_dir= image_test_dir + '/' + str(i)\n",
    "#     for sub in os.listdir(sub_dir):\n",
    "#         image_test_list.append(sub)"
   ]
  },
  {
   "cell_type": "code",
   "execution_count": 11,
   "metadata": {},
   "outputs": [],
   "source": [
    "# len(image_test_list)"
   ]
  },
  {
   "cell_type": "code",
   "execution_count": 1,
   "metadata": {},
   "outputs": [
    {
     "name": "stderr",
     "output_type": "stream",
     "text": [
      "Using TensorFlow backend.\n"
     ]
    }
   ],
   "source": [
    "import pandas as pd\n",
    "import numpy as np\n",
    "import os\n",
    "import keras\n",
    "from keras.models import Sequential\n",
    "from keras.layers import Activation\n",
    "from keras.layers.core import Dense, Flatten\n",
    "from keras.optimizers import Adam, SGD\n",
    "from keras.metrics import categorical_crossentropy\n",
    "from keras.preprocessing.image import ImageDataGenerator, array_to_img, img_to_array, load_img\n",
    "from keras.layers.convolutional import *\n",
    "from keras import models\n",
    "from keras import layers\n",
    "from keras.models import load_model\n",
    "from keras.regularizers import l2\n",
    "from keras.layers import BatchNormalization, Dropout, AveragePooling2D, GlobalAvgPool2D, MaxPooling2D\n",
    "from keras.applications import inception_v3\n",
    "from sklearn.metrics import confusion_matrix, f1_score\n",
    "from keras.models import Model\n",
    "from keras.callbacks import ReduceLROnPlateau\n",
    "from keras.regularizers import l1, l2\n",
    "from keras.callbacks import ModelCheckpoint\n",
    "from numpy.random import seed\n",
    "seed(111)\n",
    "from tensorflow import set_random_seed\n",
    "set_random_seed(1112)"
   ]
  },
  {
   "cell_type": "code",
   "execution_count": 2,
   "metadata": {},
   "outputs": [],
   "source": [
    "image_test_dir = '../SkinCancerClassifier/test_dir/'\n",
    "image_train_dir = '../SkinCancerClassifier/train_dir/'\n",
    "image_val_dir = '../SkinCancerClassifier/valid_dir/'"
   ]
  },
  {
   "cell_type": "code",
   "execution_count": 3,
   "metadata": {},
   "outputs": [],
   "source": [
    "def img_name(dir_name):\n",
    "    img_list = []\n",
    "    for i in range(0, 7):\n",
    "        sub_dir= dir_name + str(i) +'/'\n",
    "        for sub in os.listdir(sub_dir):\n",
    "            img_list.append(sub)\n",
    "    return img_list\n",
    "        "
   ]
  },
  {
   "cell_type": "code",
   "execution_count": 4,
   "metadata": {},
   "outputs": [],
   "source": [
    "def create_img_dict():\n",
    "\n",
    "    \n",
    "    data_dir = '../SkinCancerClassifier/'\n",
    "    # Create dataframe and profile raw data\n",
    "    raw_metadata_df = pd.read_csv(data_dir + 'HAM10000_metadata.csv')\n",
    "    image_test_dir = '../SkinCancerClassifier/test_dir/'\n",
    "    image_train_dir = '../SkinCancerClassifier/train_dir/'\n",
    "    image_val_dir = '../SkinCancerClassifier/valid_dir/'\n",
    "    img_test_list = img_name(image_test_dir)\n",
    "    img_test_list = [image_test_dir + img_name for img_name in img_test_list]\n",
    "    img_train_list = img_name(image_train_dir)\n",
    "    img_train_list = [image_train_dir + img_name for img_name in img_train_list]\n",
    "    img_val_list = img_name(image_val_dir)\n",
    "    img_val_list = [image_val_dir + img_name for img_name in img_val_list]\n",
    "    all_img_list = img_test_list + img_train_list + img_val_list\n",
    "    image_dict = {os.path.splitext(os.path.basename(img_name))[0]: img_name for img_name in all_img_list}\n",
    "    \n",
    "    return raw_metadata_df, image_dict"
   ]
  },
  {
   "cell_type": "code",
   "execution_count": 5,
   "metadata": {},
   "outputs": [],
   "source": [
    "def set_df():\n",
    "    # Create dictionary with the diagnostic categories of pigmented lesions\n",
    "    lesion_cat_dict = {\n",
    "        \n",
    "        'akiec': 'Actinic keratoses',\n",
    "        'bcc': 'Basal cell carcinoma',\n",
    "        'bkl': 'Benign keratosis-like lesions ',\n",
    "        'df': 'Dermatofibroma',\n",
    "        'mel': 'Melanoma',\n",
    "        'nv': 'Melanocytic nevi',\n",
    "        'vasc': 'Vascular lesions'\n",
    "    }\n",
    "\n",
    "    # Make a copy of the dataframe as we will be adding new columns\n",
    "    df, img_dict = create_img_dict()\n",
    "\n",
    "\n",
    "    # Create new column file_path and use the image_id as the key of image_dict and map \n",
    "    # its corresponding value to get the path for the image\n",
    "    df['file_path'] = df['image_id'].map(img_dict.get)\n",
    "\n",
    "    # Create new column category_name and use dx as the key to lesion_cat_dict and map \n",
    "    # it to its corresponding value to get the lesion name\n",
    "    df['category_name'] = df['dx'].map(lesion_cat_dict.get)\n",
    "\n",
    "    # Create new column category_id and assign the integer codes \n",
    "    # of the category_name that was transformed into a pandas categorical \n",
    "    df['category_id'] = pd.Categorical(df['category_name']).codes\n",
    "\n",
    "    # fill age null values by the mean age\n",
    "    df.age.fillna(df.age.mean(), inplace=True)\n",
    "    return df"
   ]
  },
  {
   "cell_type": "code",
   "execution_count": 37,
   "metadata": {},
   "outputs": [],
   "source": [
    "def split_images(train_dir=image_train_dir, test_dir=image_test_dir, val_dir=image_val_dir):\n",
    "  \n",
    "    train_destination = train_dir\n",
    "    test_destination = test_dir\n",
    "    valid_destination = val_dir\n",
    "\n",
    "    # get all the data in the directory split/test, and reshape them\n",
    "    test_data = ImageDataGenerator(featurewise_center=True,\n",
    "                                    featurewise_std_normalization=True,\n",
    "                                    rotation_range=20,\n",
    "                                    width_shift_range=0.2,\n",
    "                                    height_shift_range=0.2,\n",
    "                                    horizontal_flip=True,rescale=1./255).flow_from_directory( \n",
    "                                    test_destination, \n",
    "                                    target_size=(112, 150),\n",
    "                                    batch_size = 2000, \n",
    "                                    seed = 1212) \n",
    "\n",
    "    train_data = ImageDataGenerator(rescale=1./255).flow_from_directory( \n",
    "            train_destination, \n",
    "            target_size=(112, 150), \n",
    "            batch_size = 49, \n",
    "            seed = 1212) \n",
    "\n",
    "    valid_data = ImageDataGenerator(rescale=1./255).flow_from_directory( \n",
    "            valid_destination, \n",
    "            target_size=(112, 150),\n",
    "            batch_size = 49,\n",
    "            seed = 1212) \n",
    "\n",
    "#     #split images and labels for train, test, and validation\n",
    "#     images_train, labels_train = next(train_data)\n",
    "\n",
    "#     images_test, labels_test = next(test_data)\n",
    "\n",
    "#     images_val, labels_val = next(valid_data)\n",
    "    \n",
    "#     return images_train, labels_train, images_test, labels_test, images_val, labels_val\n",
    "    return test_data, train_data, valid_data"
   ]
  },
  {
   "cell_type": "code",
   "execution_count": 15,
   "metadata": {},
   "outputs": [],
   "source": [
    "def set_cnn_model():\n",
    "    cnn = models.Sequential()\n",
    "    cnn.add(Conv2D(64, (3, 3), activation='relu', kernel_initializer='he_uniform', dilation_rate=(2, 2), kernel_regularizer=l2(0.01), input_shape=(112, 150,  3)))\n",
    "    cnn.add(BatchNormalization())\n",
    "    cnn.add(MaxPooling2D((2, 2)))\n",
    "    # cnn.add(Dropout(0.50)) # Added to see if it helps in reducing overfitting\n",
    "    cnn.add(Flatten())\n",
    "    cnn.add(Dense(32, activation='relu'))\n",
    "    cnn.add(BatchNormalization())\n",
    "    cnn.add(Dense(7, activation='softmax'))\n",
    "\n",
    "    print(cnn.summary())\n",
    "    \n",
    "    return cnn"
   ]
  },
  {
   "cell_type": "code",
   "execution_count": 16,
   "metadata": {},
   "outputs": [],
   "source": [
    "def fit_cnn_model(cnn, loss_param='categorical_crossentropy', epoch=20, batch_num=32):\n",
    "    \n",
    "#     images_train, labels_train, images_test, labels_test, images_val, labels_val = split_images()\n",
    "    test_data, train_data, valid_data = split_images()\n",
    "    optimize = SGD(lr=1e-2, momentum=0.9) \n",
    "    \n",
    "    cnn.compile(loss=loss_param,\n",
    "                    optimizer=optimize,\n",
    "                    metrics=['accuracy'])\n",
    "    \n",
    "    \n",
    "\n",
    "#     cnn_fit = cnn.fit(images_train,\n",
    "#                         labels_train,\n",
    "#                         epochs=epoch,\n",
    "#                         batch_size=batch_num,\n",
    "#                         validation_data=(images_val, labels_val))\n",
    "    \n",
    "    checkpointer = ModelCheckpoint(filepath='../SkinCancerClassifier/saved_models/CNN_2.h5', verbose=1, save_best_only=True)\n",
    "    cnn.fit_generator(train_data,\n",
    "                       steps_per_epoch=np.ceil(train_data.samples/train_data.batch_size),\n",
    "                       epochs=epoch, \n",
    "                       verbose=1,\n",
    "                       callbacks=[checkpointer], \n",
    "                       validation_data=valid_data, \n",
    "                       validation_steps=np.ceil(valid_data.samples/valid_data.batch_size), \n",
    "    #                        class_weight=None, \n",
    "    #                        max_queue_size=10, \n",
    "                       workers=16, \n",
    "                       use_multiprocessing=True, \n",
    "                       shuffle=True, \n",
    "                       initial_epoch=0)\n",
    "\n",
    "                      \n",
    "     \n",
    "#     cnn.save('../SkinCancerClassifier/saved_models/CNN_1.h5')\n",
    "    \n",
    "#     return cnn, images_test, labels_test"
   ]
  },
  {
   "cell_type": "code",
   "execution_count": 17,
   "metadata": {},
   "outputs": [],
   "source": [
    "from keras.callbacks import LearningRateScheduler\n",
    "import math\n",
    "# learning rate schedule\n",
    "def step_decay(epoch=5):\n",
    "    initial_lrate = 0.1\n",
    "    drop = 0.5\n",
    "    epochs_drop = 10.0\n",
    "    lrate = initial_lrate * math.pow(drop, math.floor((1+epoch)/epochs_drop))\n",
    "    return lrate"
   ]
  },
  {
   "cell_type": "code",
   "execution_count": 18,
   "metadata": {},
   "outputs": [],
   "source": [
    "df = set_df()"
   ]
  },
  {
   "cell_type": "code",
   "execution_count": 60,
   "metadata": {},
   "outputs": [
    {
     "data": {
      "text/plain": [
       "4    6705\n",
       "5    1113\n",
       "2    1099\n",
       "1     514\n",
       "0     327\n",
       "6     142\n",
       "3     115\n",
       "Name: category_id, dtype: int64"
      ]
     },
     "execution_count": 60,
     "metadata": {},
     "output_type": "execute_result"
    }
   ],
   "source": [
    "df.category_id.value_counts() #Serious Class Imbalance"
   ]
  },
  {
   "cell_type": "code",
   "execution_count": null,
   "metadata": {},
   "outputs": [],
   "source": [
    "# Copy fewer class to balance the number of 7 classes\n",
    "data_aug_rate = [15,10,5,50,0,40,5]\n",
    "for i in range(7):\n",
    "    if data_aug_rate[i]:\n",
    "        df=df_train.append([df_train.loc[df_train['category_id'] == i,:]]*(data_aug_rate[i]-1), ignore_index=True)\n",
    "df_train['cell_type'].value_counts()"
   ]
  },
  {
   "cell_type": "code",
   "execution_count": null,
   "metadata": {},
   "outputs": [],
   "source": []
  },
  {
   "cell_type": "code",
   "execution_count": 48,
   "metadata": {},
   "outputs": [
    {
     "name": "stdout",
     "output_type": "stream",
     "text": [
      "_________________________________________________________________\n",
      "Layer (type)                 Output Shape              Param #   \n",
      "=================================================================\n",
      "conv2d_6 (Conv2D)            (None, 108, 146, 64)      1792      \n",
      "_________________________________________________________________\n",
      "batch_normalization_11 (Batc (None, 108, 146, 64)      256       \n",
      "_________________________________________________________________\n",
      "max_pooling2d_6 (MaxPooling2 (None, 54, 73, 64)        0         \n",
      "_________________________________________________________________\n",
      "flatten_6 (Flatten)          (None, 252288)            0         \n",
      "_________________________________________________________________\n",
      "dense_11 (Dense)             (None, 32)                8073248   \n",
      "_________________________________________________________________\n",
      "batch_normalization_12 (Batc (None, 32)                128       \n",
      "_________________________________________________________________\n",
      "dense_12 (Dense)             (None, 7)                 231       \n",
      "=================================================================\n",
      "Total params: 8,075,655\n",
      "Trainable params: 8,075,463\n",
      "Non-trainable params: 192\n",
      "_________________________________________________________________\n",
      "None\n"
     ]
    }
   ],
   "source": [
    "cnn = set_cnn_model()"
   ]
  },
  {
   "cell_type": "code",
   "execution_count": 31,
   "metadata": {
    "scrolled": true
   },
   "outputs": [
    {
     "name": "stdout",
     "output_type": "stream",
     "text": [
      "Found 2000 images belonging to 7 classes.\n",
      "Found 6415 images belonging to 7 classes.\n",
      "Found 1600 images belonging to 7 classes.\n",
      "WARNING:tensorflow:From /home/ec2-user/anaconda3/envs/tensorflow_p36/lib/python3.6/site-packages/tensorflow/python/ops/math_ops.py:3066: to_int32 (from tensorflow.python.ops.math_ops) is deprecated and will be removed in a future version.\n",
      "Instructions for updating:\n",
      "Use tf.cast instead.\n",
      "Epoch 1/20\n"
     ]
    },
    {
     "name": "stderr",
     "output_type": "stream",
     "text": [
      "/home/ec2-user/anaconda3/envs/tensorflow_p36/lib/python3.6/site-packages/keras/engine/training_generator.py:47: UserWarning: Using a generator with `use_multiprocessing=True` and multiple workers may duplicate your data. Please consider using the`keras.utils.Sequence class.\n",
      "  UserWarning('Using a generator with `use_multiprocessing=True`'\n"
     ]
    },
    {
     "name": "stdout",
     "output_type": "stream",
     "text": [
      "131/131 [==============================] - 23s 178ms/step - loss: 1.8865 - acc: 0.6722 - val_loss: 2.4327 - val_acc: 0.6215\n",
      "Epoch 2/20\n",
      "131/131 [==============================] - 19s 146ms/step - loss: 1.7809 - acc: 0.6147 - val_loss: 3.0108 - val_acc: 0.2078\n",
      "Epoch 3/20\n",
      "131/131 [==============================] - 19s 146ms/step - loss: 7.5005 - acc: 0.6115 - val_loss: 20.8160 - val_acc: 0.1262\n",
      "Epoch 4/20\n",
      "131/131 [==============================] - 19s 146ms/step - loss: 4.9816 - acc: 0.5630 - val_loss: 14.1152 - val_acc: 0.1088\n",
      "Epoch 5/20\n",
      "131/131 [==============================] - 19s 146ms/step - loss: 2.2639 - acc: 0.5937 - val_loss: 6.5210 - val_acc: 0.1070\n",
      "Epoch 6/20\n",
      "131/131 [==============================] - 19s 146ms/step - loss: 1.6806 - acc: 0.5968 - val_loss: 8.8434 - val_acc: 0.0705\n",
      "Epoch 7/20\n",
      "131/131 [==============================] - 19s 146ms/step - loss: 1.6529 - acc: 0.6742 - val_loss: 12.5910 - val_acc: 0.1354\n",
      "Epoch 8/20\n",
      "131/131 [==============================] - 20s 155ms/step - loss: 1.4305 - acc: 0.6400 - val_loss: 2.4494 - val_acc: 0.6543\n",
      "Epoch 9/20\n",
      "131/131 [==============================] - 20s 155ms/step - loss: 1.5359 - acc: 0.6004 - val_loss: 5.6986 - val_acc: 0.0878\n",
      "Epoch 10/20\n",
      "131/131 [==============================] - 20s 156ms/step - loss: 1.4071 - acc: 0.5833 - val_loss: 6.8828 - val_acc: 0.1138\n",
      "Epoch 11/20\n",
      "131/131 [==============================] - 24s 180ms/step - loss: 1.3592 - acc: 0.6316 - val_loss: 2.1488 - val_acc: 0.4688\n",
      "Epoch 12/20\n",
      "131/131 [==============================] - 21s 157ms/step - loss: 1.3372 - acc: 0.6305 - val_loss: 1.3100 - val_acc: 0.5566\n",
      "Epoch 13/20\n",
      "131/131 [==============================] - 20s 149ms/step - loss: 1.2440 - acc: 0.6422 - val_loss: 2.6605 - val_acc: 0.6889\n",
      "Epoch 14/20\n",
      "131/131 [==============================] - 19s 145ms/step - loss: 1.5143 - acc: 0.6091 - val_loss: 6.9567 - val_acc: 0.1169\n",
      "Epoch 15/20\n",
      "131/131 [==============================] - 19s 146ms/step - loss: 1.5047 - acc: 0.6222 - val_loss: 2.1242 - val_acc: 0.5170\n",
      "Epoch 16/20\n",
      "131/131 [==============================] - 19s 146ms/step - loss: 1.3244 - acc: 0.6744 - val_loss: 14.8405 - val_acc: 0.0874\n",
      "Epoch 17/20\n",
      "131/131 [==============================] - 19s 146ms/step - loss: 1.6259 - acc: 0.5356 - val_loss: 6.5666 - val_acc: 0.0487\n",
      "Epoch 18/20\n",
      "131/131 [==============================] - 19s 146ms/step - loss: 1.6596 - acc: 0.5921 - val_loss: 1.8538 - val_acc: 0.4657\n",
      "Epoch 19/20\n",
      "131/131 [==============================] - 19s 146ms/step - loss: 1.5175 - acc: 0.6361 - val_loss: 1.4484 - val_acc: 0.6846\n",
      "Epoch 20/20\n",
      "131/131 [==============================] - 19s 146ms/step - loss: 1.3021 - acc: 0.6313 - val_loss: 14.4444 - val_acc: 0.1119\n"
     ]
    }
   ],
   "source": [
    "# model, images_test, labels_test = fit_cnn_model(cnn)\n",
    "fit_cnn_model(cnn)"
   ]
  },
  {
   "cell_type": "code",
   "execution_count": 49,
   "metadata": {
    "scrolled": true
   },
   "outputs": [
    {
     "name": "stdout",
     "output_type": "stream",
     "text": [
      "Found 2000 images belonging to 7 classes.\n",
      "Found 6415 images belonging to 7 classes.\n",
      "Found 1600 images belonging to 7 classes.\n"
     ]
    },
    {
     "name": "stderr",
     "output_type": "stream",
     "text": [
      "/home/ec2-user/anaconda3/envs/tensorflow_p36/lib/python3.6/site-packages/keras/engine/training_generator.py:47: UserWarning: Using a generator with `use_multiprocessing=True` and multiple workers may duplicate your data. Please consider using the`keras.utils.Sequence class.\n",
      "  UserWarning('Using a generator with `use_multiprocessing=True`'\n"
     ]
    },
    {
     "name": "stdout",
     "output_type": "stream",
     "text": [
      "Epoch 1/20\n",
      "131/131 [==============================] - 19s 145ms/step - loss: 1.9177 - acc: 0.6934 - val_loss: 6.0087 - val_acc: 0.6419\n",
      "Epoch 2/20\n",
      "131/131 [==============================] - 15s 111ms/step - loss: 1.6881 - acc: 0.6364 - val_loss: 1.9711 - val_acc: 0.6110\n",
      "Epoch 3/20\n",
      "131/131 [==============================] - 15s 112ms/step - loss: 1.3498 - acc: 0.6605 - val_loss: 5.8993 - val_acc: 0.6524\n",
      "Epoch 4/20\n",
      "131/131 [==============================] - 15s 111ms/step - loss: 1.7048 - acc: 0.5585 - val_loss: 6.3525 - val_acc: 0.4917\n",
      "Epoch 5/20\n",
      "131/131 [==============================] - 15s 112ms/step - loss: 1.6291 - acc: 0.6297 - val_loss: 8.8979 - val_acc: 0.0396\n",
      "Epoch 6/20\n",
      "131/131 [==============================] - 15s 112ms/step - loss: 1.6717 - acc: 0.6171 - val_loss: 3.2268 - val_acc: 0.4805\n",
      "Epoch 7/20\n",
      "131/131 [==============================] - 15s 112ms/step - loss: 1.8330 - acc: 0.6509 - val_loss: 6.3996 - val_acc: 0.5931\n",
      "Epoch 8/20\n",
      "131/131 [==============================] - 15s 111ms/step - loss: 2.8264 - acc: 0.5904 - val_loss: 4.7455 - val_acc: 0.2059\n",
      "Epoch 9/20\n",
      "131/131 [==============================] - 15s 111ms/step - loss: 2.0813 - acc: 0.5630 - val_loss: 14.6777 - val_acc: 0.1138\n",
      "Epoch 10/20\n",
      "131/131 [==============================] - 15s 111ms/step - loss: 1.9252 - acc: 0.5895 - val_loss: 5.8475 - val_acc: 0.6160\n",
      "Epoch 11/20\n",
      "131/131 [==============================] - 15s 112ms/step - loss: 1.6674 - acc: 0.6191 - val_loss: 3.5173 - val_acc: 0.0946\n",
      "Epoch 12/20\n",
      "131/131 [==============================] - 15s 112ms/step - loss: 1.4628 - acc: 0.6333 - val_loss: 9.4614 - val_acc: 0.4174\n",
      "Epoch 13/20\n",
      "131/131 [==============================] - 15s 112ms/step - loss: 1.5504 - acc: 0.6189 - val_loss: 1.7316 - val_acc: 0.6351\n",
      "Epoch 14/20\n",
      "131/131 [==============================] - 15s 112ms/step - loss: 1.5700 - acc: 0.5940 - val_loss: 6.9898 - val_acc: 0.0754\n",
      "Epoch 15/20\n",
      "131/131 [==============================] - 15s 111ms/step - loss: 1.5920 - acc: 0.6284 - val_loss: 16.0124 - val_acc: 0.0204\n",
      "Epoch 16/20\n",
      "131/131 [==============================] - 14s 110ms/step - loss: 1.1758 - acc: 0.6796 - val_loss: 15.4076 - val_acc: 0.0516\n",
      "Epoch 17/20\n",
      "131/131 [==============================] - 15s 111ms/step - loss: 1.6355 - acc: 0.5721 - val_loss: 8.6051 - val_acc: 0.0268\n",
      "Epoch 18/20\n",
      "131/131 [==============================] - 15s 112ms/step - loss: 1.5935 - acc: 0.5960 - val_loss: 1.4894 - val_acc: 0.6704\n",
      "Epoch 19/20\n",
      "131/131 [==============================] - 15s 112ms/step - loss: 1.2454 - acc: 0.6666 - val_loss: 6.7084 - val_acc: 0.5071\n",
      "Epoch 20/20\n",
      "131/131 [==============================] - 15s 112ms/step - loss: 1.3715 - acc: 0.6314 - val_loss: 2.3759 - val_acc: 0.5213\n"
     ]
    }
   ],
   "source": [
    "fit_cnn_model(cnn, batch_num=4, epoch=20) # momentum 0.9 instead of 0.99"
   ]
  },
  {
   "cell_type": "code",
   "execution_count": 40,
   "metadata": {
    "scrolled": true
   },
   "outputs": [
    {
     "name": "stdout",
     "output_type": "stream",
     "text": [
      "Found 2000 images belonging to 7 classes.\n",
      "Found 6415 images belonging to 7 classes.\n",
      "Found 1600 images belonging to 7 classes.\n"
     ]
    },
    {
     "name": "stderr",
     "output_type": "stream",
     "text": [
      "/home/ec2-user/anaconda3/envs/tensorflow_p36/lib/python3.6/site-packages/keras/engine/training_generator.py:47: UserWarning: Using a generator with `use_multiprocessing=True` and multiple workers may duplicate your data. Please consider using the`keras.utils.Sequence class.\n",
      "  UserWarning('Using a generator with `use_multiprocessing=True`'\n"
     ]
    },
    {
     "name": "stdout",
     "output_type": "stream",
     "text": [
      "Epoch 1/10\n",
      "131/131 [==============================] - 73s 556ms/step - loss: 1.9724 - acc: 0.6537 - val_loss: 5.3504 - val_acc: 0.6079\n",
      "Epoch 2/10\n",
      "131/131 [==============================] - 68s 517ms/step - loss: 1.6108 - acc: 0.6457 - val_loss: 4.5567 - val_acc: 0.6704\n",
      "Epoch 3/10\n",
      "131/131 [==============================] - 68s 517ms/step - loss: 1.3003 - acc: 0.6580 - val_loss: 2.5958 - val_acc: 0.6438\n",
      "Epoch 4/10\n",
      "131/131 [==============================] - 68s 517ms/step - loss: 1.5212 - acc: 0.5840 - val_loss: 1.6760 - val_acc: 0.6419\n",
      "Epoch 5/10\n",
      "131/131 [==============================] - 68s 516ms/step - loss: 1.5086 - acc: 0.6337 - val_loss: 3.9206 - val_acc: 0.4422\n",
      "Epoch 6/10\n",
      "131/131 [==============================] - 68s 517ms/step - loss: 1.3694 - acc: 0.6258 - val_loss: 14.0305 - val_acc: 0.0792\n",
      "Epoch 7/10\n",
      "131/131 [==============================] - 68s 516ms/step - loss: 1.6446 - acc: 0.6817 - val_loss: 12.8127 - val_acc: 0.1194\n",
      "Epoch 8/10\n",
      "131/131 [==============================] - 67s 515ms/step - loss: 1.4641 - acc: 0.6158 - val_loss: 4.6393 - val_acc: 0.5615\n",
      "Epoch 9/10\n",
      "131/131 [==============================] - 68s 516ms/step - loss: 1.7237 - acc: 0.5529 - val_loss: 3.2440 - val_acc: 0.4230\n",
      "Epoch 10/10\n",
      "131/131 [==============================] - 68s 517ms/step - loss: 1.5622 - acc: 0.6216 - val_loss: 9.9588 - val_acc: 0.3080\n"
     ]
    }
   ],
   "source": [
    "fit_cnn_model(cnn, batch_num=10, epoch=10) #(225 x 300 px)"
   ]
  },
  {
   "cell_type": "code",
   "execution_count": 46,
   "metadata": {
    "scrolled": true
   },
   "outputs": [
    {
     "name": "stdout",
     "output_type": "stream",
     "text": [
      "Found 2000 images belonging to 7 classes.\n",
      "Found 6415 images belonging to 7 classes.\n",
      "Found 1600 images belonging to 7 classes.\n"
     ]
    },
    {
     "name": "stderr",
     "output_type": "stream",
     "text": [
      "/home/ec2-user/anaconda3/envs/tensorflow_p36/lib/python3.6/site-packages/keras/engine/training_generator.py:47: UserWarning: Using a generator with `use_multiprocessing=True` and multiple workers may duplicate your data. Please consider using the`keras.utils.Sequence class.\n",
      "  UserWarning('Using a generator with `use_multiprocessing=True`'\n"
     ]
    },
    {
     "name": "stdout",
     "output_type": "stream",
     "text": [
      "Epoch 1/20\n",
      "131/131 [==============================] - 19s 146ms/step - loss: 1.8186 - acc: 0.6739 - val_loss: 2.8630 - val_acc: 0.5807\n",
      "Epoch 2/20\n",
      "131/131 [==============================] - 15s 113ms/step - loss: 1.6771 - acc: 0.6337 - val_loss: 10.2280 - val_acc: 0.0952\n",
      "Epoch 3/20\n",
      "131/131 [==============================] - 15s 112ms/step - loss: 1.4749 - acc: 0.6481 - val_loss: 4.1536 - val_acc: 0.6524\n",
      "Epoch 4/20\n",
      "131/131 [==============================] - 15s 113ms/step - loss: 1.6929 - acc: 0.5948 - val_loss: 4.7951 - val_acc: 0.6129\n",
      "Epoch 5/20\n",
      "131/131 [==============================] - 15s 112ms/step - loss: 1.7379 - acc: 0.6068 - val_loss: 5.5606 - val_acc: 0.6648\n",
      "Epoch 6/20\n",
      "131/131 [==============================] - 15s 112ms/step - loss: 1.4936 - acc: 0.6051 - val_loss: 5.8686 - val_acc: 0.6289\n",
      "Epoch 7/20\n",
      "131/131 [==============================] - 15s 112ms/step - loss: 1.2751 - acc: 0.6841 - val_loss: 7.3019 - val_acc: 0.4088\n",
      "Epoch 8/20\n",
      "131/131 [==============================] - 15s 112ms/step - loss: 1.3203 - acc: 0.6274 - val_loss: 5.8917 - val_acc: 0.0761\n",
      "Epoch 9/20\n",
      "131/131 [==============================] - 15s 112ms/step - loss: 1.4585 - acc: 0.5702 - val_loss: 6.6631 - val_acc: 0.3908\n",
      "Epoch 10/20\n",
      "131/131 [==============================] - 15s 112ms/step - loss: 1.4961 - acc: 0.5822 - val_loss: 15.2036 - val_acc: 0.0680\n",
      "Epoch 11/20\n",
      "131/131 [==============================] - 15s 112ms/step - loss: 1.8006 - acc: 0.5939 - val_loss: 6.7547 - val_acc: 0.5993\n",
      "Epoch 12/20\n",
      "131/131 [==============================] - 15s 112ms/step - loss: 1.5689 - acc: 0.6300 - val_loss: 4.6944 - val_acc: 0.7137\n",
      "Epoch 13/20\n",
      "131/131 [==============================] - 15s 112ms/step - loss: 1.5695 - acc: 0.6166 - val_loss: 14.7100 - val_acc: 0.0099\n",
      "Epoch 14/20\n",
      "131/131 [==============================] - 15s 113ms/step - loss: 1.7757 - acc: 0.5923 - val_loss: 4.5859 - val_acc: 0.3797\n",
      "Epoch 15/20\n",
      "131/131 [==============================] - 15s 112ms/step - loss: 1.6557 - acc: 0.6289 - val_loss: 5.1103 - val_acc: 0.6957\n",
      "Epoch 16/20\n",
      "131/131 [==============================] - 15s 113ms/step - loss: 1.5249 - acc: 0.6665 - val_loss: 14.0520 - val_acc: 0.1032\n",
      "Epoch 17/20\n",
      "131/131 [==============================] - 15s 112ms/step - loss: 1.9461 - acc: 0.5573 - val_loss: 4.9513 - val_acc: 0.7024\n",
      "Epoch 18/20\n",
      "131/131 [==============================] - 15s 112ms/step - loss: 1.5442 - acc: 0.6094 - val_loss: 14.4768 - val_acc: 0.1113\n",
      "Epoch 19/20\n",
      "131/131 [==============================] - 15s 112ms/step - loss: 1.4356 - acc: 0.6593 - val_loss: 3.1878 - val_acc: 0.5572\n",
      "Epoch 20/20\n",
      "131/131 [==============================] - 15s 113ms/step - loss: 3.6705 - acc: 0.6197 - val_loss: 20.1119 - val_acc: 0.0000e+00\n"
     ]
    }
   ],
   "source": [
    "fit_cnn_model(cnn, batch_num=32, epoch=20) #(112 x 150 px)"
   ]
  },
  {
   "cell_type": "code",
   "execution_count": 31,
   "metadata": {},
   "outputs": [],
   "source": [
    "def set_cnn_bn_l2_model():\n",
    "    cnn = models.Sequential()\n",
    "    cnn.add(Conv2D(128, (1, 1), activation='relu', kernel_initializer='he_uniform', dilation_rate=(2, 2), kernel_regularizer=l2(0.01),input_shape=(112, 150, 3)))\n",
    "    cnn.add(BatchNormalization())\n",
    "    cnn.add(MaxPooling2D((2, 2)))\n",
    "    cnn.add(Conv2D(64, (3, 3), activation='relu', kernel_regularizer=l2(0.02)))\n",
    "    cnn.add(BatchNormalization())\n",
    "    cnn.add(MaxPooling2D((2, 2)))\n",
    "#     cnn.add(layers.Conv2D(32, (3, 3), activation='relu', kernel_regularizer=l2(1)))\n",
    "#     cnn.add(layers.BatchNormalization())\n",
    "#     cnn.add(layers.MaxPooling2D((2, 2))) \n",
    "    cnn.add(Flatten())\n",
    "    cnn.add(layers.Dense(32, activation='relu', kernel_regularizer=l2(0.02)))\n",
    "    cnn.add(Dropout(0.5))\n",
    "    cnn.add(BatchNormalization())\n",
    "    cnn.add(Dense(7, activation='softmax'))\n",
    "\n",
    "    print(cnn.summary())\n",
    "    \n",
    "    return cnn"
   ]
  },
  {
   "cell_type": "code",
   "execution_count": 32,
   "metadata": {},
   "outputs": [],
   "source": [
    "def fit_cnn_bn_l2_model(cnn, batch_num=32, loss_param='categorical_crossentropy', epoch=40):\n",
    "  \n",
    "    callbacks_list = []\n",
    "    test_data, train_data, valid_data = split_images()\n",
    "   \n",
    "    rlrop = ReduceLROnPlateau(monitor='val_acc', factor=0.1, patience=5) \n",
    "    \n",
    "    \n",
    "    sgd = SGD(lr=0.1, momentum=0.9, decay = 0.1, nesterov=False)\n",
    "    \n",
    "    cnn.compile(loss=loss_param,\n",
    "                optimizer=sgd,\n",
    "                metrics=['accuracy'])\n",
    "    \n",
    "    lrate = LearningRateScheduler(step_decay)\n",
    "    callbacks_list = [lrate]\n",
    "#     checkpointer = ModelCheckpoint(filepath='../SkinCancerClassifier/saved_models/CNN_bnn_l2.h5', verbose=1, save_best_only=True)\n",
    "#     callbacks_list.append(checkpointer)\n",
    "    cnn.fit_generator(train_data,\n",
    "                       steps_per_epoch=np.ceil(train_data.samples/train_data.batch_size),\n",
    "                       epochs=epoch, \n",
    "                       verbose=1,\n",
    "                       callbacks=callbacks_list, \n",
    "                       validation_data=valid_data, \n",
    "                       validation_steps=np.ceil(valid_data.samples/valid_data.batch_size), \n",
    "                       workers=16, \n",
    "                       use_multiprocessing=True, \n",
    "                       shuffle=True, \n",
    "                       initial_epoch=0)\n",
    "\n",
    "#     cnn_fit = cnn.fit(images_train,\n",
    "#                         labels_train,\n",
    "#                         epochs=epoch,\n",
    "#                         batch_size=batch_num,\n",
    "#                         validation_data=(images_val, labels_val),\n",
    "#                         callbacks=[rlrop])\n",
    "    \n",
    "    cnn.save('/Users/basselhaidar/Desktop/Final Project/saved_models/CNN_bnn_1.h5')\n",
    "    \n",
    "#     return cnn, images_test, labels_test"
   ]
  },
  {
   "cell_type": "code",
   "execution_count": 33,
   "metadata": {},
   "outputs": [
    {
     "name": "stdout",
     "output_type": "stream",
     "text": [
      "_________________________________________________________________\n",
      "Layer (type)                 Output Shape              Param #   \n",
      "=================================================================\n",
      "conv2d_11 (Conv2D)           (None, 112, 150, 128)     512       \n",
      "_________________________________________________________________\n",
      "batch_normalization_14 (Batc (None, 112, 150, 128)     512       \n",
      "_________________________________________________________________\n",
      "max_pooling2d_11 (MaxPooling (None, 56, 75, 128)       0         \n",
      "_________________________________________________________________\n",
      "conv2d_12 (Conv2D)           (None, 54, 73, 64)        73792     \n",
      "_________________________________________________________________\n",
      "batch_normalization_15 (Batc (None, 54, 73, 64)        256       \n",
      "_________________________________________________________________\n",
      "max_pooling2d_12 (MaxPooling (None, 27, 36, 64)        0         \n",
      "_________________________________________________________________\n",
      "flatten_6 (Flatten)          (None, 62208)             0         \n",
      "_________________________________________________________________\n",
      "dense_7 (Dense)              (None, 32)                1990688   \n",
      "_________________________________________________________________\n",
      "dropout_4 (Dropout)          (None, 32)                0         \n",
      "_________________________________________________________________\n",
      "batch_normalization_16 (Batc (None, 32)                128       \n",
      "_________________________________________________________________\n",
      "dense_8 (Dense)              (None, 7)                 231       \n",
      "=================================================================\n",
      "Total params: 2,066,119\n",
      "Trainable params: 2,065,671\n",
      "Non-trainable params: 448\n",
      "_________________________________________________________________\n",
      "None\n"
     ]
    }
   ],
   "source": [
    "cnn_bnn = set_cnn_bn_l2_model()"
   ]
  },
  {
   "cell_type": "code",
   "execution_count": 34,
   "metadata": {
    "scrolled": true
   },
   "outputs": [
    {
     "name": "stdout",
     "output_type": "stream",
     "text": [
      "Found 2000 images belonging to 7 classes.\n",
      "Found 6415 images belonging to 7 classes.\n",
      "Found 1600 images belonging to 7 classes.\n"
     ]
    },
    {
     "name": "stderr",
     "output_type": "stream",
     "text": [
      "/home/ec2-user/anaconda3/envs/tensorflow_p36/lib/python3.6/site-packages/keras/engine/training_generator.py:47: UserWarning: Using a generator with `use_multiprocessing=True` and multiple workers may duplicate your data. Please consider using the`keras.utils.Sequence class.\n",
      "  UserWarning('Using a generator with `use_multiprocessing=True`'\n"
     ]
    },
    {
     "name": "stdout",
     "output_type": "stream",
     "text": [
      "Epoch 1/40\n",
      "131/131 [==============================] - 38s 290ms/step - loss: 13.7900 - acc: 0.7091 - val_loss: 8.1201 - val_acc: 0.6518\n",
      "Epoch 2/40\n",
      "131/131 [==============================] - 33s 248ms/step - loss: 6.1492 - acc: 0.7126 - val_loss: 4.9704 - val_acc: 0.6704\n",
      "Epoch 3/40\n",
      "131/131 [==============================] - 33s 249ms/step - loss: 4.3401 - acc: 0.7116 - val_loss: 3.9432 - val_acc: 0.6425\n",
      "Epoch 4/40\n",
      "131/131 [==============================] - 33s 249ms/step - loss: 3.7180 - acc: 0.6590 - val_loss: 3.3380 - val_acc: 0.7044\n",
      "Epoch 5/40\n",
      "131/131 [==============================] - 33s 250ms/step - loss: 3.1705 - acc: 0.6884 - val_loss: 3.0065 - val_acc: 0.6957\n",
      "Epoch 6/40\n",
      "131/131 [==============================] - 33s 250ms/step - loss: 2.8307 - acc: 0.6830 - val_loss: 2.7867 - val_acc: 0.6951\n",
      "Epoch 7/40\n",
      "131/131 [==============================] - 33s 251ms/step - loss: 2.5653 - acc: 0.7260 - val_loss: 2.5078 - val_acc: 0.6574\n",
      "Epoch 8/40\n",
      "131/131 [==============================] - 33s 250ms/step - loss: 2.4058 - acc: 0.7079 - val_loss: 2.3130 - val_acc: 0.6747\n",
      "Epoch 9/40\n",
      "131/131 [==============================] - 33s 251ms/step - loss: 2.3757 - acc: 0.6649 - val_loss: 2.2139 - val_acc: 0.7069\n",
      "Epoch 10/40\n",
      "131/131 [==============================] - 33s 250ms/step - loss: 2.2138 - acc: 0.6811 - val_loss: 2.2591 - val_acc: 0.6784\n",
      "Epoch 11/40\n",
      "131/131 [==============================] - 33s 251ms/step - loss: 2.1304 - acc: 0.6936 - val_loss: 2.1705 - val_acc: 0.6252\n",
      "Epoch 12/40\n",
      "131/131 [==============================] - 33s 251ms/step - loss: 2.1019 - acc: 0.7023 - val_loss: 1.9975 - val_acc: 0.7644\n",
      "Epoch 13/40\n",
      "131/131 [==============================] - 33s 251ms/step - loss: 2.0970 - acc: 0.6900 - val_loss: 1.9791 - val_acc: 0.7359\n",
      "Epoch 14/40\n",
      "131/131 [==============================] - 33s 251ms/step - loss: 2.1335 - acc: 0.6509 - val_loss: 1.9206 - val_acc: 0.7353\n",
      "Epoch 15/40\n",
      "131/131 [==============================] - 33s 251ms/step - loss: 2.0807 - acc: 0.6836 - val_loss: 1.9386 - val_acc: 0.7285\n",
      "Epoch 16/40\n",
      "131/131 [==============================] - 33s 253ms/step - loss: 1.9592 - acc: 0.7131 - val_loss: 1.7804 - val_acc: 0.7856\n",
      "Epoch 17/40\n",
      "131/131 [==============================] - 33s 251ms/step - loss: 2.0907 - acc: 0.6618 - val_loss: 1.8468 - val_acc: 0.7344\n",
      "Epoch 18/40\n",
      "131/131 [==============================] - 33s 250ms/step - loss: 1.9764 - acc: 0.6869 - val_loss: 1.8023 - val_acc: 0.7242\n",
      "Epoch 19/40\n",
      "131/131 [==============================] - 33s 250ms/step - loss: 1.8923 - acc: 0.6978 - val_loss: 1.8400 - val_acc: 0.7180\n",
      "Epoch 20/40\n",
      "131/131 [==============================] - 33s 251ms/step - loss: 1.8876 - acc: 0.6909 - val_loss: 1.7732 - val_acc: 0.7335\n",
      "Epoch 21/40\n",
      "131/131 [==============================] - 33s 251ms/step - loss: 1.8479 - acc: 0.7006 - val_loss: 1.7500 - val_acc: 0.7019\n",
      "Epoch 22/40\n",
      "131/131 [==============================] - 33s 251ms/step - loss: 1.9082 - acc: 0.6841 - val_loss: 1.8569 - val_acc: 0.6926\n",
      "Epoch 23/40\n",
      "131/131 [==============================] - 33s 251ms/step - loss: 1.9088 - acc: 0.6920 - val_loss: 1.7106 - val_acc: 0.7403\n",
      "Epoch 24/40\n",
      "131/131 [==============================] - 33s 250ms/step - loss: 1.8095 - acc: 0.7183 - val_loss: 1.8131 - val_acc: 0.7526\n",
      "Epoch 25/40\n",
      "131/131 [==============================] - 33s 251ms/step - loss: 1.7867 - acc: 0.7215 - val_loss: 1.9151 - val_acc: 0.6982\n",
      "Epoch 26/40\n",
      "131/131 [==============================] - 33s 251ms/step - loss: 1.8505 - acc: 0.7028 - val_loss: 1.7577 - val_acc: 0.7001\n",
      "Epoch 27/40\n",
      "131/131 [==============================] - 33s 251ms/step - loss: 1.8105 - acc: 0.7292 - val_loss: 1.8047 - val_acc: 0.6914\n",
      "Epoch 28/40\n",
      "131/131 [==============================] - 33s 251ms/step - loss: 1.7804 - acc: 0.7084 - val_loss: 1.6939 - val_acc: 0.7279\n",
      "Epoch 29/40\n",
      "131/131 [==============================] - 33s 251ms/step - loss: 1.8115 - acc: 0.7182 - val_loss: 1.7186 - val_acc: 0.7285\n",
      "Epoch 30/40\n",
      "131/131 [==============================] - 33s 251ms/step - loss: 1.7923 - acc: 0.6996 - val_loss: 1.7436 - val_acc: 0.7199\n",
      "Epoch 31/40\n",
      "131/131 [==============================] - 33s 251ms/step - loss: 1.8238 - acc: 0.7003 - val_loss: 1.8241 - val_acc: 0.6945\n",
      "Epoch 32/40\n",
      "131/131 [==============================] - 32s 245ms/step - loss: 1.8005 - acc: 0.7046 - val_loss: 1.8737 - val_acc: 0.6417\n",
      "Epoch 33/40\n",
      "131/131 [==============================] - 33s 250ms/step - loss: 1.7761 - acc: 0.6900 - val_loss: 1.6833 - val_acc: 0.7375\n",
      "Epoch 34/40\n",
      "131/131 [==============================] - 33s 251ms/step - loss: 1.7666 - acc: 0.7034 - val_loss: 1.7627 - val_acc: 0.6685\n",
      "Epoch 35/40\n",
      "131/131 [==============================] - 33s 250ms/step - loss: 1.7977 - acc: 0.6929 - val_loss: 1.5966 - val_acc: 0.7434\n",
      "Epoch 36/40\n",
      "131/131 [==============================] - 33s 251ms/step - loss: 1.7713 - acc: 0.7112 - val_loss: 1.7381 - val_acc: 0.7427\n",
      "Epoch 37/40\n",
      "131/131 [==============================] - 33s 250ms/step - loss: 1.7635 - acc: 0.7336 - val_loss: 1.8481 - val_acc: 0.7112\n",
      "Epoch 38/40\n",
      "131/131 [==============================] - 33s 250ms/step - loss: 1.6692 - acc: 0.7560 - val_loss: 1.8083 - val_acc: 0.6691\n",
      "Epoch 39/40\n",
      "131/131 [==============================] - 33s 251ms/step - loss: 1.7704 - acc: 0.7218 - val_loss: 1.7071 - val_acc: 0.6994\n",
      "Epoch 40/40\n",
      "131/131 [==============================] - 33s 250ms/step - loss: 1.8201 - acc: 0.6934 - val_loss: 1.6677 - val_acc: 0.7297\n"
     ]
    }
   ],
   "source": [
    "fit_cnn_bn_l2_model(cnn_bnn)"
   ]
  },
  {
   "cell_type": "code",
   "execution_count": 38,
   "metadata": {},
   "outputs": [
    {
     "name": "stdout",
     "output_type": "stream",
     "text": [
      "Found 2000 images belonging to 7 classes.\n",
      "Found 6415 images belonging to 7 classes.\n",
      "Found 1600 images belonging to 7 classes.\n"
     ]
    }
   ],
   "source": [
    "test_data, train_data, valid_data = split_images()"
   ]
  },
  {
   "cell_type": "code",
   "execution_count": 39,
   "metadata": {},
   "outputs": [
    {
     "name": "stderr",
     "output_type": "stream",
     "text": [
      "/home/ec2-user/anaconda3/envs/tensorflow_p36/lib/python3.6/site-packages/keras_preprocessing/image/image_data_generator.py:699: UserWarning: This ImageDataGenerator specifies `featurewise_center`, but it hasn't been fit on any training data. Fit it first by calling `.fit(numpy_data)`.\n",
      "  warnings.warn('This ImageDataGenerator specifies '\n",
      "/home/ec2-user/anaconda3/envs/tensorflow_p36/lib/python3.6/site-packages/keras_preprocessing/image/image_data_generator.py:707: UserWarning: This ImageDataGenerator specifies `featurewise_std_normalization`, but it hasn't been fit on any training data. Fit it first by calling `.fit(numpy_data)`.\n",
      "  warnings.warn('This ImageDataGenerator specifies '\n"
     ]
    }
   ],
   "source": [
    "te_img, te_labels = next(test_data)"
   ]
  },
  {
   "cell_type": "code",
   "execution_count": 40,
   "metadata": {},
   "outputs": [
    {
     "name": "stdout",
     "output_type": "stream",
     "text": [
      "2000/2000 [==============================] - 4s 2ms/step\n"
     ]
    },
    {
     "data": {
      "text/plain": [
       "[1.8326410102844237, 0.6865]"
      ]
     },
     "execution_count": 40,
     "metadata": {},
     "output_type": "execute_result"
    }
   ],
   "source": [
    "cnn_bnn.evaluate(te_img, te_labels)"
   ]
  },
  {
   "cell_type": "code",
   "execution_count": 44,
   "metadata": {},
   "outputs": [],
   "source": [
    "y_pred = cnn_bnn.predict_classes(te_img)"
   ]
  },
  {
   "cell_type": "code",
   "execution_count": 49,
   "metadata": {},
   "outputs": [
    {
     "data": {
      "text/plain": [
       "array([2, 4, 2, 1, 4, 4, 4, 4, 4, 5])"
      ]
     },
     "execution_count": 49,
     "metadata": {},
     "output_type": "execute_result"
    }
   ],
   "source": [
    "te_labels.argmax(axis=1)[0:10]"
   ]
  },
  {
   "cell_type": "code",
   "execution_count": 50,
   "metadata": {},
   "outputs": [
    {
     "data": {
      "text/plain": [
       "array([[   1,   17,   14,    0,   33,    0,    0],\n",
       "       [   1,   44,   15,    0,   42,    0,    0],\n",
       "       [   3,   11,   62,    0,  142,    1,    0],\n",
       "       [   1,    7,    6,    0,    9,    0,    0],\n",
       "       [   1,   27,   47,    0, 1256,   10,    0],\n",
       "       [   0,    1,   37,    0,  174,   10,    0],\n",
       "       [   0,    8,    3,    0,   17,    0,    0]])"
      ]
     },
     "execution_count": 50,
     "metadata": {},
     "output_type": "execute_result"
    }
   ],
   "source": [
    "confusion_matrix(te_labels.argmax(axis=1), y_pred)"
   ]
  },
  {
   "cell_type": "code",
   "execution_count": 58,
   "metadata": {},
   "outputs": [],
   "source": [
    "import matplotlib.pyplot as plt\n",
    "%matplotlib inline\n",
    "import seaborn as sns"
   ]
  },
  {
   "cell_type": "code",
   "execution_count": 59,
   "metadata": {},
   "outputs": [
    {
     "data": {
      "image/png": "[encoded data removed]",
      "text/plain": [
       "<Figure size 720x720 with 1 Axes>"
      ]
     },
     "metadata": {},
     "output_type": "display_data"
    }
   ],
   "source": [
    "# Calculate Confusion Matrix\n",
    "cm = confusion_matrix(te_labels.argmax(axis=1), y_pred)\n",
    "\n",
    "# Figure adjustment and heatmap plot\n",
    "f = plt.figure(figsize=(10,10))\n",
    "ax= plt.subplot()\n",
    "labels = df.groupby('category_id').category_name.first().values\n",
    "sns.heatmap(cm, annot=True, ax = ax, vmax=100, cbar=False, cmap='Paired', mask=(cm==0), fmt=',.0f', linewidths=2, linecolor='grey', ); \n",
    "\n",
    "# labels\n",
    "ax.set_xlabel('Predicted labels', fontsize=16);\n",
    "ax.set_ylabel('True labels', labelpad=30, fontsize=16); \n",
    "ax.set_title('Confusion Matrix', fontsize=18); \n",
    "ax.xaxis.set_ticklabels(labels, rotation=90); \n",
    "ax.yaxis.set_ticklabels(labels, rotation=0);\n",
    "ax.set_facecolor('white')\n",
    "\n",
    "\n",
    "\n"
   ]
  },
  {
   "cell_type": "code",
   "execution_count": 54,
   "metadata": {},
   "outputs": [
    {
     "data": {
      "text/plain": [
       "array(['Actinic keratoses', 'Basal cell carcinoma',\n",
       "       'Benign keratosis-like lesions ', 'Dermatofibroma',\n",
       "       'Melanocytic nevi', 'Melanoma', 'Vascular lesions'], dtype=object)"
      ]
     },
     "execution_count": 54,
     "metadata": {},
     "output_type": "execute_result"
    }
   ],
   "source": [
    "df.groupby('category_id').category_name.first().values"
   ]
  },
  {
   "cell_type": "code",
   "execution_count": null,
   "metadata": {},
   "outputs": [],
   "source": []
  },
  {
   "cell_type": "code",
   "execution_count": null,
   "metadata": {},
   "outputs": [],
   "source": [
    "from keras.application.densenet import DenseNet121"
   ]
  },
  {
   "cell_type": "code",
   "execution_count": null,
   "metadata": {},
   "outputs": [],
   "source": [
    "DenseNet121(include_top=True, weights='imagenet', input_tensor=None, input_shape=None, pooling=None, classes=1000)"
   ]
  },
  {
   "cell_type": "code",
   "execution_count": null,
   "metadata": {},
   "outputs": [],
   "source": []
  },
  {
   "cell_type": "code",
   "execution_count": null,
   "metadata": {},
   "outputs": [],
   "source": []
  },
  {
   "cell_type": "code",
   "execution_count": null,
   "metadata": {},
   "outputs": [],
   "source": []
  },
  {
   "cell_type": "code",
   "execution_count": null,
   "metadata": {},
   "outputs": [],
   "source": []
  },
  {
   "cell_type": "code",
   "execution_count": null,
   "metadata": {},
   "outputs": [],
   "source": []
  },
  {
   "cell_type": "code",
   "execution_count": null,
   "metadata": {},
   "outputs": [],
   "source": []
  },
  {
   "cell_type": "code",
   "execution_count": null,
   "metadata": {},
   "outputs": [],
   "source": []
  },
  {
   "cell_type": "code",
   "execution_count": null,
   "metadata": {},
   "outputs": [],
   "source": [
    "import keras\n",
    "from keras.preprocessing.image import ImageDataGenerator\n",
    "from keras.models import Sequential\n",
    "from keras.layers import Dense, Dropout, Activation, Flatten\n",
    "from keras.layers import Conv2D, MaxPooling2D\n",
    "import os\n",
    "\n",
    "batch_size = 32\n",
    "num_classes = 10\n",
    "epochs = 100\n",
    "data_augmentation = True\n",
    "num_predictions = 20\n",
    "save_dir = os.path.join(os.getcwd(), 'saved_models')\n",
    "model_name = 'keras_cifar10_trained_model.h5'\n",
    "\n",
    "# The data, split between train and test sets:\n",
    "(x_train, y_train), (x_test, y_test) = cifar10.load_data()\n",
    "print('x_train shape:', x_train.shape)\n",
    "print(x_train.shape[0], 'train samples')\n",
    "print(x_test.shape[0], 'test samples')\n",
    "\n",
    "# Convert class vectors to binary class matrices.\n",
    "y_train = keras.utils.to_categorical(y_train, num_classes)\n",
    "y_test = keras.utils.to_categorical(y_test, num_classes)\n",
    "\n",
    "model = Sequential()\n",
    "model.add(Conv2D(32, (3, 3), padding='same',\n",
    "                 input_shape=x_train.shape[1:]))\n",
    "model.add(Activation('relu'))\n",
    "model.add(Conv2D(32, (3, 3)))\n",
    "model.add(Activation('relu'))\n",
    "model.add(MaxPooling2D(pool_size=(2, 2)))\n",
    "model.add(Dropout(0.25))\n",
    "\n",
    "model.add(Conv2D(64, (3, 3), padding='same'))\n",
    "model.add(Activation('relu'))\n",
    "model.add(Conv2D(64, (3, 3)))\n",
    "model.add(Activation('relu'))\n",
    "model.add(MaxPooling2D(pool_size=(2, 2)))\n",
    "model.add(Dropout(0.25))\n",
    "\n",
    "model.add(Flatten())\n",
    "model.add(Dense(512))\n",
    "model.add(Activation('relu'))\n",
    "model.add(Dropout(0.5))\n",
    "model.add(Dense(num_classes))\n",
    "model.add(Activation('softmax'))\n",
    "\n",
    "# initiate RMSprop optimizer\n",
    "opt = keras.optimizers.rmsprop(lr=0.0001, decay=1e-6)\n",
    "\n",
    "# Let's train the model using RMSprop\n",
    "model.compile(loss='categorical_crossentropy',\n",
    "              optimizer=opt,\n",
    "              metrics=['accuracy'])\n",
    "\n",
    "x_train = x_train.astype('float32')\n",
    "x_test = x_test.astype('float32')\n",
    "x_train /= 255\n",
    "x_test /= 255\n",
    "\n",
    "if not data_augmentation:\n",
    "    print('Not using data augmentation.')\n",
    "    model.fit(x_train, y_train,\n",
    "              batch_size=batch_size,\n",
    "              epochs=epochs,\n",
    "              validation_data=(x_test, y_test),\n",
    "              shuffle=True)\n",
    "else:\n",
    "    print('Using real-time data augmentation.')\n",
    "    # This will do preprocessing and realtime data augmentation:\n",
    "    datagen = ImageDataGenerator(\n",
    "        featurewise_center=False,  # set input mean to 0 over the dataset\n",
    "        samplewise_center=False,  # set each sample mean to 0\n",
    "        featurewise_std_normalization=False,  # divide inputs by std of the dataset\n",
    "        samplewise_std_normalization=False,  # divide each input by its std\n",
    "        zca_whitening=False,  # apply ZCA whitening\n",
    "        zca_epsilon=1e-06,  # epsilon for ZCA whitening\n",
    "        rotation_range=0,  # randomly rotate images in the range (degrees, 0 to 180)\n",
    "        # randomly shift images horizontally (fraction of total width)\n",
    "        width_shift_range=0.1,\n",
    "        # randomly shift images vertically (fraction of total height)\n",
    "        height_shift_range=0.1,\n",
    "        shear_range=0.,  # set range for random shear\n",
    "        zoom_range=0.,  # set range for random zoom\n",
    "        channel_shift_range=0.,  # set range for random channel shifts\n",
    "        # set mode for filling points outside the input boundaries\n",
    "        fill_mode='nearest',\n",
    "        cval=0.,  # value used for fill_mode = \"constant\"\n",
    "        horizontal_flip=True,  # randomly flip images\n",
    "        vertical_flip=False,  # randomly flip images\n",
    "        # set rescaling factor (applied before any other transformation)\n",
    "        rescale=None,\n",
    "        # set function that will be applied on each input\n",
    "        preprocessing_function=None,\n",
    "        # image data format, either \"channels_first\" or \"channels_last\"\n",
    "        data_format=None,\n",
    "        # fraction of images reserved for validation (strictly between 0 and 1)\n",
    "        validation_split=0.0)\n",
    "\n",
    "    # Compute quantities required for feature-wise normalization\n",
    "    # (std, mean, and principal components if ZCA whitening is applied).\n",
    "    datagen.fit(x_train)\n",
    "\n",
    "    # Fit the model on the batches generated by datagen.flow().\n",
    "    model.fit_generator(datagen.flow(x_train, y_train,\n",
    "                                     batch_size=batch_size),\n",
    "                        epochs=epochs,\n",
    "                        validation_data=(x_test, y_test),\n",
    "                        workers=4)\n",
    "\n",
    "# Save model and weights\n",
    "if not os.path.isdir(save_dir):\n",
    "    os.makedirs(save_dir)\n",
    "model_path = os.path.join(save_dir, model_name)\n",
    "model.save(model_path)\n",
    "print('Saved trained model at %s ' % model_path)\n",
    "\n",
    "# Score trained model.\n",
    "scores = model.evaluate(x_test, y_test, verbose=1)\n",
    "print('Test loss:', scores[0])\n",
    "print('Test accuracy:', scores[1])"
   ]
  },
  {
   "cell_type": "code",
   "execution_count": null,
   "metadata": {},
   "outputs": [],
   "source": []
  },
  {
   "cell_type": "code",
   "execution_count": null,
   "metadata": {},
   "outputs": [],
   "source": []
  },
  {
   "cell_type": "code",
   "execution_count": null,
   "metadata": {},
   "outputs": [],
   "source": []
  },
  {
   "cell_type": "code",
   "execution_count": null,
   "metadata": {},
   "outputs": [],
   "source": []
  },
  {
   "cell_type": "code",
   "execution_count": null,
   "metadata": {},
   "outputs": [],
   "source": []
  },
  {
   "cell_type": "code",
   "execution_count": null,
   "metadata": {},
   "outputs": [],
   "source": []
  },
  {
   "cell_type": "code",
   "execution_count": null,
   "metadata": {},
   "outputs": [],
   "source": []
  },
  {
   "cell_type": "code",
   "execution_count": 1,
   "metadata": {},
   "outputs": [],
   "source": [
    "%load_ext autoreload\n",
    "%autoreload 1\n",
    "import sys\n",
    "sys.path.insert(0, '../SkinCancerClassifier/py')"
   ]
  },
  {
   "cell_type": "code",
   "execution_count": 12,
   "metadata": {
    "scrolled": true
   },
   "outputs": [
    {
     "name": "stdout",
     "output_type": "stream",
     "text": [
      "Collecting keras\n",
      "\u001b[?25l  Downloading https://files.pythonhosted.org/packages/5e/10/aa32dad071ce52b5502266b5c659451cfd6ffcbf14e6c8c4f16c0ff5aaab/Keras-2.2.4-py2.py3-none-any.whl (312kB)\n",
      "\u001b[K    100% |████████████████████████████████| 317kB 33.1MB/s ta 0:00:01\n",
      "\u001b[?25hRequirement already satisfied: numpy>=1.9.1 in /home/ec2-user/anaconda3/envs/python3/lib/python3.6/site-packages (from keras) (1.15.4)\n",
      "Collecting keras-applications>=1.0.6 (from keras)\n",
      "\u001b[?25l  Downloading https://files.pythonhosted.org/packages/71/e3/19762fdfc62877ae9102edf6342d71b28fbfd9dea3d2f96a882ce099b03f/Keras_Applications-1.0.8-py3-none-any.whl (50kB)\n",
      "\u001b[K    100% |████████████████████████████████| 51kB 27.6MB/s ta 0:00:01\n",
      "\u001b[?25hRequirement already satisfied: pyyaml in /home/ec2-user/anaconda3/envs/python3/lib/python3.6/site-packages (from keras) (3.12)\n",
      "Requirement already satisfied: scipy>=0.14 in /home/ec2-user/anaconda3/envs/python3/lib/python3.6/site-packages (from keras) (1.1.0)\n",
      "Collecting keras-preprocessing>=1.0.5 (from keras)\n",
      "\u001b[?25l  Downloading https://files.pythonhosted.org/packages/28/6a/8c1f62c37212d9fc441a7e26736df51ce6f0e38455816445471f10da4f0a/Keras_Preprocessing-1.1.0-py2.py3-none-any.whl (41kB)\n",
      "\u001b[K    100% |████████████████████████████████| 51kB 28.7MB/s ta 0:00:01\n",
      "\u001b[?25hRequirement already satisfied: h5py in /home/ec2-user/anaconda3/envs/python3/lib/python3.6/site-packages (from keras) (2.8.0)\n",
      "Requirement already satisfied: six>=1.9.0 in /home/ec2-user/anaconda3/envs/python3/lib/python3.6/site-packages (from keras) (1.11.0)\n",
      "Installing collected packages: keras-applications, keras-preprocessing, keras\n",
      "Successfully installed keras-2.2.4 keras-applications-1.0.8 keras-preprocessing-1.1.0\n",
      "\u001b[33mYou are using pip version 10.0.1, however version 19.1.1 is available.\n",
      "You should consider upgrading via the 'pip install --upgrade pip' command.\u001b[0m\n"
     ]
    }
   ],
   "source": [
    "!pip install keras\n"
   ]
  },
  {
   "cell_type": "code",
   "execution_count": 14,
   "metadata": {
    "scrolled": true
   },
   "outputs": [
    {
     "name": "stdout",
     "output_type": "stream",
     "text": [
      "Collecting tensorflow\n",
      "\u001b[?25l  Downloading https://files.pythonhosted.org/packages/de/f0/96fb2e0412ae9692dbf400e5b04432885f677ad6241c088ccc5fe7724d69/tensorflow-1.14.0-cp36-cp36m-manylinux1_x86_64.whl (109.2MB)\n",
      "\u001b[K    100% |████████████████████████████████| 109.2MB 441kB/s eta 0:00:01\n",
      "\u001b[?25hCollecting termcolor>=1.1.0 (from tensorflow)\n",
      "  Downloading https://files.pythonhosted.org/packages/8a/48/a76be51647d0eb9f10e2a4511bf3ffb8cc1e6b14e9e4fab46173aa79f981/termcolor-1.1.0.tar.gz\n",
      "Collecting google-pasta>=0.1.6 (from tensorflow)\n",
      "\u001b[?25l  Downloading https://files.pythonhosted.org/packages/d0/33/376510eb8d6246f3c30545f416b2263eee461e40940c2a4413c711bdf62d/google_pasta-0.1.7-py3-none-any.whl (52kB)\n",
      "\u001b[K    100% |████████████████████████████████| 61kB 18.5MB/s ta 0:00:01\n",
      "\u001b[?25hCollecting gast>=0.2.0 (from tensorflow)\n",
      "  Downloading https://files.pythonhosted.org/packages/4e/35/11749bf99b2d4e3cceb4d55ca22590b0d7c2c62b9de38ac4a4a7f4687421/gast-0.2.2.tar.gz\n",
      "Requirement already satisfied: wheel>=0.26 in /home/ec2-user/anaconda3/envs/python3/lib/python3.6/site-packages (from tensorflow) (0.31.1)\n",
      "Requirement already satisfied: keras-preprocessing>=1.0.5 in /home/ec2-user/anaconda3/envs/python3/lib/python3.6/site-packages (from tensorflow) (1.1.0)\n",
      "Collecting absl-py>=0.7.0 (from tensorflow)\n",
      "\u001b[?25l  Downloading https://files.pythonhosted.org/packages/da/3f/9b0355080b81b15ba6a9ffcf1f5ea39e307a2778b2f2dc8694724e8abd5b/absl-py-0.7.1.tar.gz (99kB)\n",
      "\u001b[K    100% |████████████████████████████████| 102kB 38.1MB/s a 0:00:01\n",
      "\u001b[?25hRequirement already satisfied: numpy<2.0,>=1.14.5 in /home/ec2-user/anaconda3/envs/python3/lib/python3.6/site-packages (from tensorflow) (1.15.4)\n",
      "Requirement already satisfied: protobuf>=3.6.1 in /home/ec2-user/anaconda3/envs/python3/lib/python3.6/site-packages (from tensorflow) (3.6.1)\n",
      "Collecting tensorflow-estimator<1.15.0rc0,>=1.14.0rc0 (from tensorflow)\n",
      "\u001b[?25l  Downloading https://files.pythonhosted.org/packages/3c/d5/21860a5b11caf0678fbc8319341b0ae21a07156911132e0e71bffed0510d/tensorflow_estimator-1.14.0-py2.py3-none-any.whl (488kB)\n",
      "\u001b[K    100% |████████████████████████████████| 491kB 33.3MB/s ta 0:00:01\n",
      "\u001b[?25hCollecting tensorboard<1.15.0,>=1.14.0 (from tensorflow)\n",
      "\u001b[?25l  Downloading https://files.pythonhosted.org/packages/91/2d/2ed263449a078cd9c8a9ba50ebd50123adf1f8cfbea1492f9084169b89d9/tensorboard-1.14.0-py3-none-any.whl (3.1MB)\n",
      "\u001b[K    100% |████████████████████████████████| 3.2MB 15.4MB/s ta 0:00:01\n",
      "\u001b[?25hCollecting wrapt>=1.11.1 (from tensorflow)\n",
      "  Downloading https://files.pythonhosted.org/packages/23/84/323c2415280bc4fc880ac5050dddfb3c8062c2552b34c2e512eb4aa68f79/wrapt-1.11.2.tar.gz\n",
      "Collecting astor>=0.6.0 (from tensorflow)\n",
      "  Downloading https://files.pythonhosted.org/packages/d1/4f/950dfae467b384fc96bc6469de25d832534f6b4441033c39f914efd13418/astor-0.8.0-py2.py3-none-any.whl\n",
      "Collecting grpcio>=1.8.6 (from tensorflow)\n",
      "\u001b[?25l  Downloading https://files.pythonhosted.org/packages/f2/5d/b434403adb2db8853a97828d3d19f2032e79d630e0d11a8e95d243103a11/grpcio-1.22.0-cp36-cp36m-manylinux1_x86_64.whl (2.2MB)\n",
      "\u001b[K    100% |████████████████████████████████| 2.2MB 19.1MB/s ta 0:00:01\n",
      "\u001b[?25hRequirement already satisfied: six>=1.10.0 in /home/ec2-user/anaconda3/envs/python3/lib/python3.6/site-packages (from tensorflow) (1.11.0)\n",
      "Requirement already satisfied: keras-applications>=1.0.6 in /home/ec2-user/anaconda3/envs/python3/lib/python3.6/site-packages (from tensorflow) (1.0.8)\n",
      "Requirement already satisfied: setuptools in /home/ec2-user/anaconda3/envs/python3/lib/python3.6/site-packages (from protobuf>=3.6.1->tensorflow) (39.1.0)\n",
      "Collecting markdown>=2.6.8 (from tensorboard<1.15.0,>=1.14.0->tensorflow)\n",
      "\u001b[?25l  Downloading https://files.pythonhosted.org/packages/c0/4e/fd492e91abdc2d2fcb70ef453064d980688762079397f779758e055f6575/Markdown-3.1.1-py2.py3-none-any.whl (87kB)\n",
      "\u001b[K    100% |████████████████████████████████| 92kB 38.3MB/s ta 0:00:01\n",
      "\u001b[?25hRequirement already satisfied: werkzeug>=0.11.15 in /home/ec2-user/anaconda3/envs/python3/lib/python3.6/site-packages (from tensorboard<1.15.0,>=1.14.0->tensorflow) (0.14.1)\n",
      "Requirement already satisfied: h5py in /home/ec2-user/anaconda3/envs/python3/lib/python3.6/site-packages (from keras-applications>=1.0.6->tensorflow) (2.8.0)\n",
      "Building wheels for collected packages: termcolor, gast, absl-py, wrapt\n",
      "  Running setup.py bdist_wheel for termcolor ... \u001b[?25ldone\n",
      "\u001b[?25h  Stored in directory: /home/ec2-user/.cache/pip/wheels/7c/06/54/bc84598ba1daf8f970247f550b175aaaee85f68b4b0c5ab2c6\n",
      "  Running setup.py bdist_wheel for gast ... \u001b[?25ldone\n",
      "\u001b[?25h  Stored in directory: /home/ec2-user/.cache/pip/wheels/5c/2e/7e/a1d4d4fcebe6c381f378ce7743a3ced3699feb89bcfbdadadd\n",
      "  Running setup.py bdist_wheel for absl-py ... \u001b[?25ldone\n",
      "\u001b[?25h  Stored in directory: /home/ec2-user/.cache/pip/wheels/ee/98/38/46cbcc5a93cfea5492d19c38562691ddb23b940176c14f7b48\n",
      "  Running setup.py bdist_wheel for wrapt ... \u001b[?25ldone\n",
      "\u001b[?25h  Stored in directory: /home/ec2-user/.cache/pip/wheels/d7/de/2e/efa132238792efb6459a96e85916ef8597fcb3d2ae51590dfd\n",
      "Successfully built termcolor gast absl-py wrapt\n",
      "\u001b[31mtensorboard 1.14.0 has requirement setuptools>=41.0.0, but you'll have setuptools 39.1.0 which is incompatible.\u001b[0m\n",
      "Installing collected packages: termcolor, google-pasta, gast, absl-py, tensorflow-estimator, markdown, grpcio, tensorboard, wrapt, astor, tensorflow\n",
      "  Found existing installation: wrapt 1.10.11\n",
      "\u001b[31mCannot uninstall 'wrapt'. It is a distutils installed project and thus we cannot accurately determine which files belong to it which would lead to only a partial uninstall.\u001b[0m\n",
      "\u001b[33mYou are using pip version 10.0.1, however version 19.1.1 is available.\n",
      "You should consider upgrading via the 'pip install --upgrade pip' command.\u001b[0m\n"
     ]
    }
   ],
   "source": [
    "!pip install tensorflow"
   ]
  },
  {
   "cell_type": "code",
   "execution_count": 16,
   "metadata": {
    "scrolled": true
   },
   "outputs": [
    {
     "name": "stdout",
     "output_type": "stream",
     "text": [
      "Collecting pip\n",
      "\u001b[?25l  Downloading https://files.pythonhosted.org/packages/5c/e0/be401c003291b56efc55aeba6a80ab790d3d4cece2778288d65323009420/pip-19.1.1-py2.py3-none-any.whl (1.4MB)\n",
      "\u001b[K    100% |████████████████████████████████| 1.4MB 21.6MB/s ta 0:00:01\n",
      "\u001b[31mtensorboard 1.14.0 has requirement setuptools>=41.0.0, but you'll have setuptools 39.1.0 which is incompatible.\u001b[0m\n",
      "\u001b[?25hInstalling collected packages: pip\n",
      "  Found existing installation: pip 10.0.1\n",
      "    Uninstalling pip-10.0.1:\n",
      "      Successfully uninstalled pip-10.0.1\n",
      "Successfully installed pip-19.1.1\n"
     ]
    }
   ],
   "source": [
    "!pip install --upgrade pip"
   ]
  },
  {
   "cell_type": "code",
   "execution_count": 17,
   "metadata": {},
   "outputs": [
    {
     "name": "stdout",
     "output_type": "stream",
     "text": [
      "Collecting sagemaker-tensorflow\n",
      "\u001b[?25l  Downloading https://files.pythonhosted.org/packages/cd/85/0a5a2ec6ac6214042688ba0dd996ad0ba95fa88b78d578733d9db0b6460d/sagemaker_tensorflow-1.14.0.1.0.0-cp36-cp36m-manylinux1_x86_64.whl (776kB)\n",
      "\u001b[K     |████████████████████████████████| 778kB 35.8MB/s eta 0:00:01\n",
      "\u001b[?25hInstalling collected packages: sagemaker-tensorflow\n",
      "Successfully installed sagemaker-tensorflow-1.14.0.1.0.0\n"
     ]
    }
   ],
   "source": [
    "!pip install sagemaker-tensorflow"
   ]
  },
  {
   "cell_type": "code",
   "execution_count": 2,
   "metadata": {
    "scrolled": true
   },
   "outputs": [
    {
     "name": "stderr",
     "output_type": "stream",
     "text": [
      "Using TensorFlow backend.\n"
     ]
    }
   ],
   "source": [
    "from setup_images import *\n",
    "from cnn_classifier import *\n",
    "# import pandas_profiling"
   ]
  },
  {
   "cell_type": "code",
   "execution_count": 3,
   "metadata": {},
   "outputs": [
    {
     "name": "stdout",
     "output_type": "stream",
     "text": [
      "Total number of images = 10015\n",
      "Check path of ISIC_0025030.jpg = /Users/basselhaidar/Desktop/Final Project/skin-cancer-mnist-ham10000/HAM10000_images_part_1/ISIC_0025030.jpg\n"
     ]
    }
   ],
   "source": [
    "df = set_df()"
   ]
  },
  {
   "cell_type": "code",
   "execution_count": 4,
   "metadata": {},
   "outputs": [
    {
     "name": "stdout",
     "output_type": "stream",
     "text": [
      "WARNING:tensorflow:From /anaconda3/envs/flatiron/lib/python3.7/site-packages/tensorflow/python/framework/op_def_library.py:263: colocate_with (from tensorflow.python.framework.ops) is deprecated and will be removed in a future version.\n",
      "Instructions for updating:\n",
      "Colocations handled automatically by placer.\n"
     ]
    },
    {
     "name": "stderr",
     "output_type": "stream",
     "text": [
      "WARNING:tensorflow:From /anaconda3/envs/flatiron/lib/python3.7/site-packages/tensorflow/python/framework/op_def_library.py:263: colocate_with (from tensorflow.python.framework.ops) is deprecated and will be removed in a future version.\n",
      "Instructions for updating:\n",
      "Colocations handled automatically by placer.\n"
     ]
    },
    {
     "name": "stdout",
     "output_type": "stream",
     "text": [
      "_________________________________________________________________\n",
      "Layer (type)                 Output Shape              Param #   \n",
      "=================================================================\n",
      "conv2d_1 (Conv2D)            (None, 108, 196, 64)      1792      \n",
      "_________________________________________________________________\n",
      "batch_normalization_1 (Batch (None, 108, 196, 64)      256       \n",
      "_________________________________________________________________\n",
      "max_pooling2d_1 (MaxPooling2 (None, 54, 98, 64)        0         \n",
      "_________________________________________________________________\n",
      "flatten_1 (Flatten)          (None, 338688)            0         \n",
      "_________________________________________________________________\n",
      "dense_1 (Dense)              (None, 32)                10838048  \n",
      "_________________________________________________________________\n",
      "batch_normalization_2 (Batch (None, 32)                128       \n",
      "_________________________________________________________________\n",
      "dense_2 (Dense)              (None, 7)                 231       \n",
      "=================================================================\n",
      "Total params: 10,840,455\n",
      "Trainable params: 10,840,263\n",
      "Non-trainable params: 192\n",
      "_________________________________________________________________\n",
      "None\n"
     ]
    }
   ],
   "source": [
    "cnn = set_cnn_model()"
   ]
  },
  {
   "cell_type": "code",
   "execution_count": 5,
   "metadata": {
    "scrolled": true
   },
   "outputs": [
    {
     "name": "stdout",
     "output_type": "stream",
     "text": [
      "Found 2000 images belonging to 7 classes.\n",
      "Found 6415 images belonging to 7 classes.\n",
      "Found 1600 images belonging to 7 classes.\n",
      "WARNING:tensorflow:From /anaconda3/envs/flatiron/lib/python3.7/site-packages/tensorflow/python/ops/math_ops.py:3066: to_int32 (from tensorflow.python.ops.math_ops) is deprecated and will be removed in a future version.\n",
      "Instructions for updating:\n",
      "Use tf.cast instead.\n"
     ]
    },
    {
     "name": "stderr",
     "output_type": "stream",
     "text": [
      "WARNING:tensorflow:From /anaconda3/envs/flatiron/lib/python3.7/site-packages/tensorflow/python/ops/math_ops.py:3066: to_int32 (from tensorflow.python.ops.math_ops) is deprecated and will be removed in a future version.\n",
      "Instructions for updating:\n",
      "Use tf.cast instead.\n"
     ]
    },
    {
     "name": "stdout",
     "output_type": "stream",
     "text": [
      "Train on 4000 samples, validate on 800 samples\n",
      "Epoch 1/20\n",
      "4000/4000 [==============================] - 179s 45ms/step - loss: 2.8599 - acc: 0.5460 - val_loss: 2.5690 - val_acc: 0.5775\n",
      "Epoch 2/20\n",
      "4000/4000 [==============================] - 181s 45ms/step - loss: 2.2538 - acc: 0.6803 - val_loss: 2.0859 - val_acc: 0.6813\n",
      "Epoch 3/20\n",
      "4000/4000 [==============================] - 182s 46ms/step - loss: 1.9838 - acc: 0.7240 - val_loss: 2.0498 - val_acc: 0.6687\n",
      "Epoch 4/20\n",
      "4000/4000 [==============================] - 190s 48ms/step - loss: 1.8256 - acc: 0.7515 - val_loss: 1.9081 - val_acc: 0.6950\n",
      "Epoch 5/20\n",
      "4000/4000 [==============================] - 182s 45ms/step - loss: 1.7029 - acc: 0.7738 - val_loss: 1.8382 - val_acc: 0.7125\n",
      "Epoch 6/20\n",
      "4000/4000 [==============================] - 189s 47ms/step - loss: 1.6013 - acc: 0.7885 - val_loss: 1.7518 - val_acc: 0.7137\n",
      "Epoch 7/20\n",
      "4000/4000 [==============================] - 185s 46ms/step - loss: 1.4980 - acc: 0.8095 - val_loss: 1.9197 - val_acc: 0.6663\n",
      "Epoch 8/20\n",
      "4000/4000 [==============================] - 211s 53ms/step - loss: 1.3848 - acc: 0.8315 - val_loss: 1.6835 - val_acc: 0.7000\n",
      "Epoch 9/20\n",
      "4000/4000 [==============================] - 180s 45ms/step - loss: 1.2836 - acc: 0.8610 - val_loss: 1.7778 - val_acc: 0.6925\n",
      "Epoch 10/20\n",
      "4000/4000 [==============================] - 176s 44ms/step - loss: 1.1967 - acc: 0.8740 - val_loss: 1.7080 - val_acc: 0.6737\n",
      "Epoch 11/20\n",
      "4000/4000 [==============================] - 176s 44ms/step - loss: 1.0938 - acc: 0.8965 - val_loss: 1.6415 - val_acc: 0.6925\n",
      "Epoch 12/20\n",
      "4000/4000 [==============================] - 176s 44ms/step - loss: 1.0149 - acc: 0.9155 - val_loss: 1.5959 - val_acc: 0.7075\n",
      "Epoch 13/20\n",
      "4000/4000 [==============================] - 177s 44ms/step - loss: 0.9249 - acc: 0.9380 - val_loss: 1.7154 - val_acc: 0.6963\n",
      "Epoch 14/20\n",
      "4000/4000 [==============================] - 177s 44ms/step - loss: 0.8448 - acc: 0.9500 - val_loss: 1.5314 - val_acc: 0.6925\n",
      "Epoch 15/20\n",
      "4000/4000 [==============================] - 197s 49ms/step - loss: 0.7975 - acc: 0.9600 - val_loss: 1.5927 - val_acc: 0.7013\n",
      "Epoch 16/20\n",
      "4000/4000 [==============================] - 197s 49ms/step - loss: 0.7446 - acc: 0.9655 - val_loss: 1.5044 - val_acc: 0.7063\n",
      "Epoch 17/20\n",
      "4000/4000 [==============================] - 191s 48ms/step - loss: 0.6842 - acc: 0.9748 - val_loss: 1.6098 - val_acc: 0.6813\n",
      "Epoch 18/20\n",
      "4000/4000 [==============================] - 174s 44ms/step - loss: 0.6286 - acc: 0.9843 - val_loss: 1.5223 - val_acc: 0.6913\n",
      "Epoch 19/20\n",
      "4000/4000 [==============================] - 175s 44ms/step - loss: 0.5855 - acc: 0.9905 - val_loss: 1.5488 - val_acc: 0.7200\n",
      "Epoch 20/20\n",
      "4000/4000 [==============================] - 176s 44ms/step - loss: 0.5631 - acc: 0.9888 - val_loss: 1.6739 - val_acc: 0.7063\n"
     ]
    }
   ],
   "source": [
    "#  epoch=20, batch_size=32, l2=0.01\n",
    "model, images_test, labels_test = fit_cnn_model(cnn)"
   ]
  },
  {
   "cell_type": "code",
   "execution_count": 5,
   "metadata": {},
   "outputs": [
    {
     "name": "stdout",
     "output_type": "stream",
     "text": [
      "WARNING:tensorflow:From /anaconda3/envs/flatiron/lib/python3.7/site-packages/tensorflow/python/framework/op_def_library.py:263: colocate_with (from tensorflow.python.framework.ops) is deprecated and will be removed in a future version.\n",
      "Instructions for updating:\n",
      "Colocations handled automatically by placer.\n"
     ]
    },
    {
     "name": "stderr",
     "output_type": "stream",
     "text": [
      "WARNING:tensorflow:From /anaconda3/envs/flatiron/lib/python3.7/site-packages/tensorflow/python/framework/op_def_library.py:263: colocate_with (from tensorflow.python.framework.ops) is deprecated and will be removed in a future version.\n",
      "Instructions for updating:\n",
      "Colocations handled automatically by placer.\n"
     ]
    },
    {
     "name": "stdout",
     "output_type": "stream",
     "text": [
      "WARNING:tensorflow:From /anaconda3/envs/flatiron/lib/python3.7/site-packages/keras/backend/tensorflow_backend.py:3445: calling dropout (from tensorflow.python.ops.nn_ops) with keep_prob is deprecated and will be removed in a future version.\n",
      "Instructions for updating:\n",
      "Please use `rate` instead of `keep_prob`. Rate should be set to `rate = 1 - keep_prob`.\n"
     ]
    },
    {
     "name": "stderr",
     "output_type": "stream",
     "text": [
      "WARNING:tensorflow:From /anaconda3/envs/flatiron/lib/python3.7/site-packages/keras/backend/tensorflow_backend.py:3445: calling dropout (from tensorflow.python.ops.nn_ops) with keep_prob is deprecated and will be removed in a future version.\n",
      "Instructions for updating:\n",
      "Please use `rate` instead of `keep_prob`. Rate should be set to `rate = 1 - keep_prob`.\n"
     ]
    },
    {
     "name": "stdout",
     "output_type": "stream",
     "text": [
      "_________________________________________________________________\n",
      "Layer (type)                 Output Shape              Param #   \n",
      "=================================================================\n",
      "conv2d_1 (Conv2D)            (None, 108, 196, 64)      1792      \n",
      "_________________________________________________________________\n",
      "batch_normalization_1 (Batch (None, 108, 196, 64)      256       \n",
      "_________________________________________________________________\n",
      "max_pooling2d_1 (MaxPooling2 (None, 54, 98, 64)        0         \n",
      "_________________________________________________________________\n",
      "dropout_1 (Dropout)          (None, 54, 98, 64)        0         \n",
      "_________________________________________________________________\n",
      "flatten_1 (Flatten)          (None, 338688)            0         \n",
      "_________________________________________________________________\n",
      "dense_1 (Dense)              (None, 32)                10838048  \n",
      "_________________________________________________________________\n",
      "batch_normalization_2 (Batch (None, 32)                128       \n",
      "_________________________________________________________________\n",
      "dense_2 (Dense)              (None, 7)                 231       \n",
      "=================================================================\n",
      "Total params: 10,840,455\n",
      "Trainable params: 10,840,263\n",
      "Non-trainable params: 192\n",
      "_________________________________________________________________\n",
      "None\n"
     ]
    }
   ],
   "source": [
    "cnn = set_cnn_model()"
   ]
  },
  {
   "cell_type": "code",
   "execution_count": null,
   "metadata": {
    "scrolled": true
   },
   "outputs": [
    {
     "name": "stdout",
     "output_type": "stream",
     "text": [
      "Found 2000 images belonging to 7 classes.\n",
      "Found 6415 images belonging to 7 classes.\n",
      "Found 1600 images belonging to 7 classes.\n",
      "WARNING:tensorflow:From /anaconda3/envs/flatiron/lib/python3.7/site-packages/tensorflow/python/ops/math_ops.py:3066: to_int32 (from tensorflow.python.ops.math_ops) is deprecated and will be removed in a future version.\n",
      "Instructions for updating:\n",
      "Use tf.cast instead.\n"
     ]
    },
    {
     "name": "stderr",
     "output_type": "stream",
     "text": [
      "WARNING:tensorflow:From /anaconda3/envs/flatiron/lib/python3.7/site-packages/tensorflow/python/ops/math_ops.py:3066: to_int32 (from tensorflow.python.ops.math_ops) is deprecated and will be removed in a future version.\n",
      "Instructions for updating:\n",
      "Use tf.cast instead.\n"
     ]
    },
    {
     "name": "stdout",
     "output_type": "stream",
     "text": [
      "Train on 4000 samples, validate on 800 samples\n",
      "Epoch 1/20\n",
      "4000/4000 [==============================] - 213s 53ms/step - loss: 2.6854 - acc: 0.5680 - val_loss: 2.2524 - val_acc: 0.6613\n",
      "Epoch 2/20\n",
      "4000/4000 [==============================] - 206s 52ms/step - loss: 2.0881 - acc: 0.7245 - val_loss: 2.0822 - val_acc: 0.6825\n",
      "Epoch 3/20\n",
      "4000/4000 [==============================] - 215s 54ms/step - loss: 1.8619 - acc: 0.7578 - val_loss: 1.9750 - val_acc: 0.6875\n",
      "Epoch 4/20\n",
      "4000/4000 [==============================] - 214s 53ms/step - loss: 1.6988 - acc: 0.7880 - val_loss: 1.9450 - val_acc: 0.6650\n",
      "Epoch 5/20\n",
      "4000/4000 [==============================] - 207s 52ms/step - loss: 1.5735 - acc: 0.8153 - val_loss: 1.8914 - val_acc: 0.6925\n",
      "Epoch 6/20\n",
      "4000/4000 [==============================] - 203s 51ms/step - loss: 1.4885 - acc: 0.8287 - val_loss: 1.8571 - val_acc: 0.6825\n",
      "Epoch 7/20\n",
      "4000/4000 [==============================] - 220s 55ms/step - loss: 1.3647 - acc: 0.8580 - val_loss: 1.7507 - val_acc: 0.7100\n",
      "Epoch 8/20\n",
      "4000/4000 [==============================] - 214s 54ms/step - loss: 1.2388 - acc: 0.8855 - val_loss: 1.7454 - val_acc: 0.6863\n",
      "Epoch 9/20\n",
      "4000/4000 [==============================] - 216s 54ms/step - loss: 1.1302 - acc: 0.9140 - val_loss: 1.6884 - val_acc: 0.7188\n",
      "Epoch 10/20\n",
      "4000/4000 [==============================] - 207s 52ms/step - loss: 1.0396 - acc: 0.9333 - val_loss: 1.7737 - val_acc: 0.6837\n",
      "Epoch 11/20\n",
      "4000/4000 [==============================] - 197s 49ms/step - loss: 0.9530 - acc: 0.9447 - val_loss: 1.9178 - val_acc: 0.6875\n",
      "Epoch 12/20\n",
      "3968/4000 [============================>.] - ETA: 1s - loss: 0.9154 - acc: 0.9498"
     ]
    }
   ],
   "source": [
    "# with dropout = 0.50, epoch=20, batch_size=32, l2=0.01\n",
    "model, images_test, labels_test = fit_cnn_model(cnn)"
   ]
  },
  {
   "cell_type": "code",
   "execution_count": 1,
   "metadata": {},
   "outputs": [
    {
     "name": "stderr",
     "output_type": "stream",
     "text": [
      "Using TensorFlow backend.\n"
     ]
    }
   ],
   "source": [
    "from keras.models import load_model"
   ]
  },
  {
   "cell_type": "code",
   "execution_count": 2,
   "metadata": {
    "scrolled": true
   },
   "outputs": [
    {
     "name": "stdout",
     "output_type": "stream",
     "text": [
      "WARNING:tensorflow:From /anaconda3/envs/flatiron/lib/python3.7/site-packages/tensorflow/python/framework/op_def_library.py:263: colocate_with (from tensorflow.python.framework.ops) is deprecated and will be removed in a future version.\n",
      "Instructions for updating:\n",
      "Colocations handled automatically by placer.\n",
      "WARNING:tensorflow:From /anaconda3/envs/flatiron/lib/python3.7/site-packages/tensorflow/python/ops/math_ops.py:3066: to_int32 (from tensorflow.python.ops.math_ops) is deprecated and will be removed in a future version.\n",
      "Instructions for updating:\n",
      "Use tf.cast instead.\n"
     ]
    }
   ],
   "source": [
    "test_model=load_model('/Users/basselhaidar/Desktop/Final Project/saved_models/CNN_Run_1.h5')"
   ]
  },
  {
   "cell_type": "code",
   "execution_count": 8,
   "metadata": {},
   "outputs": [
    {
     "name": "stdout",
     "output_type": "stream",
     "text": [
      "Found 2000 images belonging to 7 classes.\n",
      "Found 6415 images belonging to 7 classes.\n",
      "Found 1600 images belonging to 7 classes.\n"
     ]
    }
   ],
   "source": [
    "_, _, images_test, labels_test, _, _ = split_images()"
   ]
  },
  {
   "cell_type": "code",
   "execution_count": null,
   "metadata": {},
   "outputs": [],
   "source": []
  },
  {
   "cell_type": "code",
   "execution_count": 9,
   "metadata": {
    "scrolled": true
   },
   "outputs": [],
   "source": [
    "cnn_img_predict=test_model.predict(images_test)"
   ]
  },
  {
   "cell_type": "code",
   "execution_count": 12,
   "metadata": {},
   "outputs": [],
   "source": [
    "from sklearn.metrics import multilabel_confusion_matrix"
   ]
  },
  {
   "cell_type": "code",
   "execution_count": null,
   "metadata": {},
   "outputs": [],
   "source": [
    "multilabel_confusion_matrix(labels_test, cnn_img_predict)"
   ]
  },
  {
   "cell_type": "code",
   "execution_count": null,
   "metadata": {},
   "outputs": [],
   "source": [
    "from sklearn.metrics import confusion_matrix, classification_report\n"
   ]
  },
  {
   "cell_type": "code",
   "execution_count": null,
   "metadata": {},
   "outputs": [],
   "source": [
    "confusion_matrix(y_test, test_preds)"
   ]
  },
  {
   "cell_type": "code",
   "execution_count": null,
   "metadata": {},
   "outputs": [],
   "source": [
    "classification_report(y_test, test_preds)"
   ]
  },
  {
   "cell_type": "code",
   "execution_count": null,
   "metadata": {},
   "outputs": [],
   "source": [
    "\n",
    "from sklearn.metrics import confusion_matrix\n",
    "from sklearn.utils.multiclass import unique_labels\n",
    "\n",
    "def plot_confusion_matrix(y_true, y_pred, classes,\n",
    "                          normalize=False,\n",
    "                          title=None,\n",
    "                          cmap=None):\n",
    "    #=plt.cm.Blues):\n",
    "    \"\"\"\n",
    "    This function prints and plots the confusion matrix.\n",
    "    Normalization can be applied by setting `normalize=True`.\n",
    "    \"\"\"\n",
    "    if not title:\n",
    "        if normalize:\n",
    "            title = 'Normalized confusion matrix'\n",
    "        else:\n",
    "            title = 'Confusion matrix, without normalization'\n",
    "    y_true = np.array(y_true)\n",
    "    y_pred = np.array(y_pred)\n",
    "    # Compute confusion matrix\n",
    "    cm = confusion_matrix(y_true, y_pred)\n",
    "    # Only use the labels that appear in the data\n",
    "#     classes = classes[unique_labels(y_true, y_pred)]\n",
    "    if normalize:\n",
    "        cm = cm.astype('float') / cm.sum(axis=1)[:, np.newaxis]\n",
    "        print(\"Normalized confusion matrix\")\n",
    "    else:\n",
    "        print('Confusion matrix, without normalization')\n",
    "\n",
    "    print(cm)\n",
    "\n",
    "    fig, ax = plt.subplots(figsize=(8,6))\n",
    "    im = ax.imshow(cm, interpolation='nearest', cmap=cmap)\n",
    "    ax.figure.colorbar(im, ax=ax)\n",
    "    # We want to show all ticks...\n",
    "    ax.set(xticks=np.arange(cm.shape[1]),\n",
    "           yticks=np.arange(cm.shape[0]),\n",
    "           # ... and label them with the respective list entries\n",
    "           xticklabels=classes, yticklabels=classes,\n",
    "           title=title,\n",
    "           ylabel='True label',\n",
    "           xlabel='Predicted label')\n",
    "\n",
    "    # Rotate the tick labels and set their alignment.\n",
    "    plt.setp(ax.get_xticklabels(), rotation=45, ha=\"right\",\n",
    "             rotation_mode=\"anchor\")\n",
    "\n",
    "    # Loop over data dimensions and create text annotations.\n",
    "    fmt = '.2f' if normalize else 'd'\n",
    "    thresh = cm.max() / 2.\n",
    "    for i in range(cm.shape[0]):\n",
    "        for j in range(cm.shape[1]):\n",
    "            ax.text(j, i, format(cm[i, j], fmt),\n",
    "                    ha=\"center\", va=\"center\",\n",
    "                    color=\"white\" if cm[i, j] > thresh else \"black\")\n",
    "    fig.tight_layout()"
   ]
  },
  {
   "cell_type": "code",
   "execution_count": null,
   "metadata": {},
   "outputs": [],
   "source": []
  },
  {
   "cell_type": "code",
   "execution_count": null,
   "metadata": {},
   "outputs": [],
   "source": []
  },
  {
   "cell_type": "code",
   "execution_count": 14,
   "metadata": {},
   "outputs": [
    {
     "data": {
      "text/plain": [
       "array(['Benign keratosis-like lesions ', 'Melanocytic nevi',\n",
       "       'Dermatofibroma', 'Melanoma', 'Vascular lesions',\n",
       "       'Basal cell carcinoma', 'Actinic keratoses'], dtype=object)"
      ]
     },
     "execution_count": 14,
     "metadata": {},
     "output_type": "execute_result"
    }
   ],
   "source": [
    "df.category_name.unique()\n"
   ]
  },
  {
   "cell_type": "code",
   "execution_count": null,
   "metadata": {},
   "outputs": [],
   "source": []
  },
  {
   "cell_type": "code",
   "execution_count": null,
   "metadata": {
    "scrolled": false
   },
   "outputs": [
    {
     "name": "stdout",
     "output_type": "stream",
     "text": [
      "WARNING:tensorflow:From /anaconda3/envs/flatiron/lib/python3.7/site-packages/tensorflow/python/framework/op_def_library.py:263: colocate_with (from tensorflow.python.framework.ops) is deprecated and will be removed in a future version.\n",
      "Instructions for updating:\n",
      "Colocations handled automatically by placer.\n"
     ]
    },
    {
     "name": "stderr",
     "output_type": "stream",
     "text": [
      "WARNING:tensorflow:From /anaconda3/envs/flatiron/lib/python3.7/site-packages/tensorflow/python/framework/op_def_library.py:263: colocate_with (from tensorflow.python.framework.ops) is deprecated and will be removed in a future version.\n",
      "Instructions for updating:\n",
      "Colocations handled automatically by placer.\n"
     ]
    },
    {
     "name": "stdout",
     "output_type": "stream",
     "text": [
      "_________________________________________________________________\n",
      "Layer (type)                 Output Shape              Param #   \n",
      "=================================================================\n",
      "conv2d_1 (Conv2D)            (None, 108, 196, 64)      1792      \n",
      "_________________________________________________________________\n",
      "batch_normalization_1 (Batch (None, 108, 196, 64)      256       \n",
      "_________________________________________________________________\n",
      "max_pooling2d_1 (MaxPooling2 (None, 54, 98, 64)        0         \n",
      "_________________________________________________________________\n",
      "flatten_1 (Flatten)          (None, 338688)            0         \n",
      "_________________________________________________________________\n",
      "dense_1 (Dense)              (None, 32)                10838048  \n",
      "_________________________________________________________________\n",
      "batch_normalization_2 (Batch (None, 32)                128       \n",
      "_________________________________________________________________\n",
      "dense_2 (Dense)              (None, 7)                 231       \n",
      "=================================================================\n",
      "Total params: 10,840,455\n",
      "Trainable params: 10,840,263\n",
      "Non-trainable params: 192\n",
      "_________________________________________________________________\n",
      "None\n",
      "Found 2000 images belonging to 7 classes.\n",
      "Found 6415 images belonging to 7 classes.\n",
      "Found 1600 images belonging to 7 classes.\n",
      "WARNING:tensorflow:From /anaconda3/envs/flatiron/lib/python3.7/site-packages/tensorflow/python/ops/math_ops.py:3066: to_int32 (from tensorflow.python.ops.math_ops) is deprecated and will be removed in a future version.\n",
      "Instructions for updating:\n",
      "Use tf.cast instead.\n"
     ]
    },
    {
     "name": "stderr",
     "output_type": "stream",
     "text": [
      "WARNING:tensorflow:From /anaconda3/envs/flatiron/lib/python3.7/site-packages/tensorflow/python/ops/math_ops.py:3066: to_int32 (from tensorflow.python.ops.math_ops) is deprecated and will be removed in a future version.\n",
      "Instructions for updating:\n",
      "Use tf.cast instead.\n"
     ]
    },
    {
     "name": "stdout",
     "output_type": "stream",
     "text": [
      "Train on 4000 samples, validate on 800 samples\n",
      "Epoch 1/100\n",
      "4000/4000 [==============================] - 186s 46ms/step - loss: 2.3756 - acc: 0.6230 - val_loss: 1.8823 - val_acc: 0.6525\n",
      "Epoch 2/100\n",
      "4000/4000 [==============================] - 195s 49ms/step - loss: 1.6106 - acc: 0.6860 - val_loss: 1.5472 - val_acc: 0.6737\n",
      "Epoch 3/100\n",
      "4000/4000 [==============================] - 203s 51ms/step - loss: 1.2812 - acc: 0.7005 - val_loss: 1.6707 - val_acc: 0.6525\n",
      "Epoch 4/100\n",
      "4000/4000 [==============================] - 200s 50ms/step - loss: 1.0791 - acc: 0.7085 - val_loss: 1.3982 - val_acc: 0.6550\n",
      "Epoch 5/100\n",
      "4000/4000 [==============================] - 199s 50ms/step - loss: 0.9555 - acc: 0.7140 - val_loss: 1.0937 - val_acc: 0.6475\n",
      "Epoch 6/100\n",
      "4000/4000 [==============================] - 193s 48ms/step - loss: 0.8802 - acc: 0.7215 - val_loss: 1.1919 - val_acc: 0.6763\n",
      "Epoch 7/100\n",
      "4000/4000 [==============================] - 187s 47ms/step - loss: 0.8304 - acc: 0.7255 - val_loss: 1.1699 - val_acc: 0.6325\n",
      "Epoch 8/100\n",
      "4000/4000 [==============================] - 189s 47ms/step - loss: 0.7850 - acc: 0.7343 - val_loss: 2.2540 - val_acc: 0.6525\n",
      "Epoch 9/100\n",
      "4000/4000 [==============================] - 188s 47ms/step - loss: 0.7450 - acc: 0.7463 - val_loss: 2.5930 - val_acc: 0.3162\n",
      "Epoch 10/100\n",
      "4000/4000 [==============================] - 190s 48ms/step - loss: 0.7302 - acc: 0.7465 - val_loss: 1.5177 - val_acc: 0.6562\n",
      "Epoch 11/100\n",
      "4000/4000 [==============================] - 197s 49ms/step - loss: 0.7183 - acc: 0.7510 - val_loss: 1.6203 - val_acc: 0.5200\n",
      "Epoch 12/100\n",
      "4000/4000 [==============================] - 195s 49ms/step - loss: 0.7075 - acc: 0.7515 - val_loss: 2.1600 - val_acc: 0.4437\n",
      "Epoch 13/100\n",
      "4000/4000 [==============================] - 195s 49ms/step - loss: 0.6766 - acc: 0.7615 - val_loss: 1.5082 - val_acc: 0.6375\n",
      "Epoch 14/100\n",
      "4000/4000 [==============================] - 197s 49ms/step - loss: 0.6405 - acc: 0.7770 - val_loss: 0.8745 - val_acc: 0.6925\n",
      "Epoch 15/100\n",
      "4000/4000 [==============================] - 195s 49ms/step - loss: 0.6496 - acc: 0.7692 - val_loss: 1.5862 - val_acc: 0.5212\n",
      "Epoch 16/100\n",
      "4000/4000 [==============================] - 198s 49ms/step - loss: 0.6122 - acc: 0.7845 - val_loss: 1.2207 - val_acc: 0.6887\n",
      "Epoch 17/100\n",
      "4000/4000 [==============================] - 192s 48ms/step - loss: 0.5959 - acc: 0.7980 - val_loss: 2.1488 - val_acc: 0.6637\n",
      "Epoch 18/100\n",
      "4000/4000 [==============================] - 190s 48ms/step - loss: 0.5801 - acc: 0.8050 - val_loss: 1.8102 - val_acc: 0.6450\n",
      "Epoch 19/100\n",
      "4000/4000 [==============================] - 191s 48ms/step - loss: 0.5420 - acc: 0.8210 - val_loss: 3.7632 - val_acc: 0.6562\n",
      "Epoch 20/100\n",
      "4000/4000 [==============================] - 188s 47ms/step - loss: 0.4947 - acc: 0.8385 - val_loss: 2.8924 - val_acc: 0.6538\n",
      "Epoch 21/100\n",
      "4000/4000 [==============================] - 197s 49ms/step - loss: 0.4609 - acc: 0.8560 - val_loss: 1.9106 - val_acc: 0.6425\n",
      "Epoch 22/100\n",
      "4000/4000 [==============================] - 193s 48ms/step - loss: 0.4017 - acc: 0.8798 - val_loss: 4.3087 - val_acc: 0.3013\n",
      "Epoch 23/100\n",
      "4000/4000 [==============================] - 184s 46ms/step - loss: 0.3423 - acc: 0.9042 - val_loss: 3.3710 - val_acc: 0.6112\n",
      "Epoch 24/100\n",
      "4000/4000 [==============================] - 184s 46ms/step - loss: 0.2846 - acc: 0.9190 - val_loss: 4.0888 - val_acc: 0.6562\n",
      "Epoch 25/100\n",
      "4000/4000 [==============================] - 191s 48ms/step - loss: 0.4323 - acc: 0.8702 - val_loss: 5.0026 - val_acc: 0.6475\n",
      "Epoch 26/100\n",
      "4000/4000 [==============================] - 190s 47ms/step - loss: 0.3966 - acc: 0.8812 - val_loss: 4.5850 - val_acc: 0.6538\n",
      "Epoch 27/100\n",
      "4000/4000 [==============================] - 188s 47ms/step - loss: 0.2764 - acc: 0.9220 - val_loss: 3.2573 - val_acc: 0.6525\n",
      "Epoch 28/100\n",
      "4000/4000 [==============================] - 188s 47ms/step - loss: 0.2557 - acc: 0.9330 - val_loss: 1.7926 - val_acc: 0.5938\n",
      "Epoch 29/100\n",
      "4000/4000 [==============================] - 194s 48ms/step - loss: 0.2393 - acc: 0.9382 - val_loss: 1.5685 - val_acc: 0.6388\n",
      "Epoch 30/100\n",
      "4000/4000 [==============================] - 186s 47ms/step - loss: 0.1845 - acc: 0.9560 - val_loss: 1.3611 - val_acc: 0.6500\n",
      "Epoch 31/100\n",
      "4000/4000 [==============================] - 191s 48ms/step - loss: 0.1552 - acc: 0.9650 - val_loss: 1.5687 - val_acc: 0.6350\n",
      "Epoch 32/100\n",
      "4000/4000 [==============================] - 188s 47ms/step - loss: 0.1050 - acc: 0.9822 - val_loss: 1.9447 - val_acc: 0.6613\n",
      "Epoch 33/100\n",
      "4000/4000 [==============================] - 188s 47ms/step - loss: 0.1204 - acc: 0.9708 - val_loss: 1.9335 - val_acc: 0.6775\n",
      "Epoch 34/100\n",
      "4000/4000 [==============================] - 188s 47ms/step - loss: 0.0828 - acc: 0.9870 - val_loss: 1.9675 - val_acc: 0.6737\n",
      "Epoch 35/100\n",
      "4000/4000 [==============================] - 190s 47ms/step - loss: 0.0578 - acc: 0.9928 - val_loss: 1.9266 - val_acc: 0.6813\n",
      "Epoch 36/100\n",
      "4000/4000 [==============================] - 186s 46ms/step - loss: 0.0444 - acc: 0.9965 - val_loss: 1.9668 - val_acc: 0.6813\n",
      "Epoch 37/100\n",
      "4000/4000 [==============================] - 185s 46ms/step - loss: 0.0461 - acc: 0.9942 - val_loss: 2.1165 - val_acc: 0.6325\n",
      "Epoch 38/100\n",
      "4000/4000 [==============================] - 189s 47ms/step - loss: 0.0405 - acc: 0.9963 - val_loss: 1.8725 - val_acc: 0.6288\n",
      "Epoch 39/100\n",
      "4000/4000 [==============================] - 189s 47ms/step - loss: 0.0322 - acc: 0.9970 - val_loss: 2.9710 - val_acc: 0.6425\n",
      "Epoch 40/100\n",
      "4000/4000 [==============================] - 189s 47ms/step - loss: 0.0551 - acc: 0.9890 - val_loss: 2.4094 - val_acc: 0.6512\n",
      "Epoch 41/100\n",
      "4000/4000 [==============================] - 188s 47ms/step - loss: 0.0661 - acc: 0.9868 - val_loss: 3.3412 - val_acc: 0.6162\n",
      "Epoch 42/100\n",
      "4000/4000 [==============================] - 194s 48ms/step - loss: 0.1077 - acc: 0.9702 - val_loss: 2.3863 - val_acc: 0.6188\n",
      "Epoch 43/100\n",
      "1888/4000 [=============>................] - ETA: 1:36 - loss: 0.0813 - acc: 0.9831"
     ]
    }
   ],
   "source": [
    "# optimize = SGD(lr=1e-2, momentum=0.9, decay=1e-2/epoch)\n",
    "# epoch=100, batch_num=32\n",
    "cnn = set_cnn_model()\n",
    "model, images_test, labels_test = fit_cnn_model(cnn)"
   ]
  },
  {
   "cell_type": "code",
   "execution_count": null,
   "metadata": {},
   "outputs": [],
   "source": []
  },
  {
   "cell_type": "code",
   "execution_count": 5,
   "metadata": {
    "scrolled": true
   },
   "outputs": [
    {
     "name": "stdout",
     "output_type": "stream",
     "text": [
      "WARNING:tensorflow:From /anaconda3/envs/flatiron/lib/python3.7/site-packages/tensorflow/python/framework/op_def_library.py:263: colocate_with (from tensorflow.python.framework.ops) is deprecated and will be removed in a future version.\n",
      "Instructions for updating:\n",
      "Colocations handled automatically by placer.\n"
     ]
    },
    {
     "name": "stderr",
     "output_type": "stream",
     "text": [
      "WARNING:tensorflow:From /anaconda3/envs/flatiron/lib/python3.7/site-packages/tensorflow/python/framework/op_def_library.py:263: colocate_with (from tensorflow.python.framework.ops) is deprecated and will be removed in a future version.\n",
      "Instructions for updating:\n",
      "Colocations handled automatically by placer.\n"
     ]
    },
    {
     "name": "stdout",
     "output_type": "stream",
     "text": [
      "Found 2000 images belonging to 7 classes.\n",
      "Found 6415 images belonging to 7 classes.\n",
      "Found 1600 images belonging to 7 classes.\n",
      "WARNING:tensorflow:From /anaconda3/envs/flatiron/lib/python3.7/site-packages/tensorflow/python/ops/math_ops.py:3066: to_int32 (from tensorflow.python.ops.math_ops) is deprecated and will be removed in a future version.\n",
      "Instructions for updating:\n",
      "Use tf.cast instead.\n"
     ]
    },
    {
     "name": "stderr",
     "output_type": "stream",
     "text": [
      "WARNING:tensorflow:From /anaconda3/envs/flatiron/lib/python3.7/site-packages/tensorflow/python/ops/math_ops.py:3066: to_int32 (from tensorflow.python.ops.math_ops) is deprecated and will be removed in a future version.\n",
      "Instructions for updating:\n",
      "Use tf.cast instead.\n"
     ]
    },
    {
     "name": "stdout",
     "output_type": "stream",
     "text": [
      "Train on 4000 samples, validate on 800 samples\n",
      "Epoch 1/20\n",
      "4000/4000 [==============================] - 117s 29ms/step - loss: 90.5680 - acc: 0.3770 - val_loss: 84.8041 - val_acc: 0.4762\n",
      "Epoch 2/20\n",
      "4000/4000 [==============================] - 105s 26ms/step - loss: 78.0681 - acc: 0.7658 - val_loss: 72.7782 - val_acc: 0.5688\n",
      "Epoch 3/20\n",
      "4000/4000 [==============================] - 104s 26ms/step - loss: 66.7216 - acc: 0.8978 - val_loss: 63.1991 - val_acc: 0.6288\n",
      "Epoch 4/20\n",
      "4000/4000 [==============================] - 105s 26ms/step - loss: 57.7882 - acc: 0.9380 - val_loss: 55.3970 - val_acc: 0.6250\n",
      "Epoch 5/20\n",
      "4000/4000 [==============================] - 105s 26ms/step - loss: 50.7603 - acc: 0.9710 - val_loss: 49.3477 - val_acc: 0.6413\n",
      "Epoch 6/20\n",
      "4000/4000 [==============================] - 105s 26ms/step - loss: 45.1545 - acc: 0.9845 - val_loss: 44.3518 - val_acc: 0.6400\n",
      "Epoch 7/20\n",
      "4000/4000 [==============================] - 104s 26ms/step - loss: 40.5980 - acc: 0.9890 - val_loss: 40.3499 - val_acc: 0.6462\n",
      "Epoch 8/20\n",
      "4000/4000 [==============================] - 105s 26ms/step - loss: 36.8257 - acc: 0.9920 - val_loss: 37.0066 - val_acc: 0.6500\n",
      "Epoch 9/20\n",
      "4000/4000 [==============================] - 104s 26ms/step - loss: 33.6509 - acc: 0.9942 - val_loss: 34.2005 - val_acc: 0.6513\n",
      "Epoch 10/20\n",
      "4000/4000 [==============================] - 105s 26ms/step - loss: 30.9408 - acc: 0.9970 - val_loss: 31.7001 - val_acc: 0.6525\n",
      "Epoch 11/20\n",
      "4000/4000 [==============================] - 105s 26ms/step - loss: 28.6148 - acc: 0.9967 - val_loss: 29.5810 - val_acc: 0.6550\n",
      "Epoch 12/20\n",
      "4000/4000 [==============================] - 105s 26ms/step - loss: 26.5933 - acc: 0.9962 - val_loss: 27.7399 - val_acc: 0.6537\n",
      "Epoch 13/20\n",
      "4000/4000 [==============================] - 113s 28ms/step - loss: 24.8131 - acc: 0.9962 - val_loss: 26.0478 - val_acc: 0.6525\n",
      "Epoch 14/20\n",
      "4000/4000 [==============================] - 113s 28ms/step - loss: 23.2403 - acc: 0.9980 - val_loss: 24.6806 - val_acc: 0.6537\n",
      "Epoch 15/20\n",
      "4000/4000 [==============================] - 112s 28ms/step - loss: 21.8451 - acc: 0.9977 - val_loss: 23.4407 - val_acc: 0.6537\n",
      "Epoch 16/20\n",
      "4000/4000 [==============================] - 112s 28ms/step - loss: 20.5918 - acc: 0.9985 - val_loss: 22.4192 - val_acc: 0.6537\n",
      "Epoch 17/20\n",
      "4000/4000 [==============================] - 112s 28ms/step - loss: 19.4712 - acc: 0.9972 - val_loss: 21.3453 - val_acc: 0.6537\n",
      "Epoch 18/20\n",
      "4000/4000 [==============================] - 110s 28ms/step - loss: 18.4525 - acc: 0.9985 - val_loss: 20.2847 - val_acc: 0.6512\n",
      "Epoch 19/20\n",
      "4000/4000 [==============================] - 109s 27ms/step - loss: 17.5312 - acc: 0.9982 - val_loss: 19.4716 - val_acc: 0.6513\n",
      "Epoch 20/20\n",
      "4000/4000 [==============================] - 110s 27ms/step - loss: 16.6886 - acc: 0.9990 - val_loss: 18.5888 - val_acc: 0.6512\n"
     ]
    }
   ],
   "source": [
    "new_imagenet, images_test_imagenet, labels_test_imagenet= imagenet_classifier(epoch=20, batch=250)"
   ]
  },
  {
   "cell_type": "code",
   "execution_count": null,
   "metadata": {},
   "outputs": [],
   "source": []
  },
  {
   "cell_type": "code",
   "execution_count": null,
   "metadata": {},
   "outputs": [],
   "source": []
  },
  {
   "cell_type": "code",
   "execution_count": null,
   "metadata": {},
   "outputs": [],
   "source": []
  },
  {
   "cell_type": "code",
   "execution_count": null,
   "metadata": {},
   "outputs": [],
   "source": []
  },
  {
   "cell_type": "code",
   "execution_count": null,
   "metadata": {},
   "outputs": [],
   "source": []
  },
  {
   "cell_type": "code",
   "execution_count": null,
   "metadata": {},
   "outputs": [],
   "source": []
  },
  {
   "cell_type": "code",
   "execution_count": null,
   "metadata": {},
   "outputs": [],
   "source": []
  },
  {
   "cell_type": "code",
   "execution_count": null,
   "metadata": {},
   "outputs": [],
   "source": []
  },
  {
   "cell_type": "code",
   "execution_count": null,
   "metadata": {},
   "outputs": [],
   "source": []
  },
  {
   "cell_type": "code",
   "execution_count": null,
   "metadata": {},
   "outputs": [],
   "source": []
  },
  {
   "cell_type": "code",
   "execution_count": null,
   "metadata": {},
   "outputs": [],
   "source": []
  },
  {
   "cell_type": "code",
   "execution_count": null,
   "metadata": {},
   "outputs": [],
   "source": []
  },
  {
   "cell_type": "code",
   "execution_count": null,
   "metadata": {},
   "outputs": [],
   "source": []
  },
  {
   "cell_type": "code",
   "execution_count": null,
   "metadata": {},
   "outputs": [],
   "source": []
  },
  {
   "cell_type": "code",
   "execution_count": null,
   "metadata": {},
   "outputs": [],
   "source": []
  },
  {
   "cell_type": "code",
   "execution_count": null,
   "metadata": {},
   "outputs": [],
   "source": []
  },
  {
   "cell_type": "code",
   "execution_count": null,
   "metadata": {},
   "outputs": [],
   "source": []
  },
  {
   "cell_type": "code",
   "execution_count": null,
   "metadata": {},
   "outputs": [],
   "source": []
  },
  {
   "cell_type": "code",
   "execution_count": null,
   "metadata": {},
   "outputs": [],
   "source": []
  },
  {
   "cell_type": "code",
   "execution_count": null,
   "metadata": {},
   "outputs": [],
   "source": []
  },
  {
   "cell_type": "code",
   "execution_count": null,
   "metadata": {},
   "outputs": [],
   "source": []
  },
  {
   "cell_type": "code",
   "execution_count": null,
   "metadata": {},
   "outputs": [],
   "source": []
  },
  {
   "cell_type": "code",
   "execution_count": null,
   "metadata": {},
   "outputs": [],
   "source": []
  },
  {
   "cell_type": "code",
   "execution_count": null,
   "metadata": {},
   "outputs": [],
   "source": []
  },
  {
   "cell_type": "code",
   "execution_count": null,
   "metadata": {},
   "outputs": [],
   "source": []
  },
  {
   "cell_type": "code",
   "execution_count": null,
   "metadata": {},
   "outputs": [],
   "source": []
  },
  {
   "cell_type": "code",
   "execution_count": null,
   "metadata": {},
   "outputs": [],
   "source": []
  }
 ],
 "metadata": {
  "kernelspec": {
   "display_name": "conda_tensorflow_p36",
   "language": "python",
   "name": "conda_tensorflow_p36"
  },
  "language_info": {
   "codemirror_mode": {
    "name": "ipython",
    "version": 3
   },
   "file_extension": ".py",
   "mimetype": "text/x-python",
   "name": "python",
   "nbconvert_exporter": "python",
   "pygments_lexer": "ipython3",
   "version": "3.6.5"
  }
 },
 "nbformat": 4,
 "nbformat_minor": 2
}
