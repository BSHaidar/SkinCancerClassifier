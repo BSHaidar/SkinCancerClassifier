{
 "cells": [
  {
   "cell_type": "code",
   "execution_count": 1,
   "metadata": {},
   "outputs": [],
   "source": [
    "%load_ext autoreload\n",
    "%autoreload 1\n",
    "import sys\n",
    "sys.path.insert(0, '../py')"
   ]
  },
  {
   "cell_type": "code",
   "execution_count": 2,
   "metadata": {},
   "outputs": [
    {
     "name": "stderr",
     "output_type": "stream",
     "text": [
      "Using TensorFlow backend.\n",
      "WARNING: Logging before flag parsing goes to stderr.\n",
      "W0718 11:55:16.446771 4791342528 deprecation_wrapper.py:119] From ../py/cnn_classifier.py:19: The name tf.set_random_seed is deprecated. Please use tf.compat.v1.set_random_seed instead.\n",
      "\n"
     ]
    }
   ],
   "source": [
    "from setup_images import create_img_dict, set_df, sns_countplot\n",
    "from cnn_classifier import *\n",
    "import pandas_profiling\n"
   ]
  },
  {
   "cell_type": "code",
   "execution_count": 3,
   "metadata": {},
   "outputs": [
    {
     "name": "stdout",
     "output_type": "stream",
     "text": [
      "Total number of images = 10015\n",
      "Check path of ISIC_0025030.jpg = ../skin-cancer-mnist-ham10000/HAM10000_images_part_1/ISIC_0025030.jpg\n"
     ]
    }
   ],
   "source": [
    "df = set_df()"
   ]
  },
  {
   "cell_type": "code",
   "execution_count": 4,
   "metadata": {
    "scrolled": true
   },
   "outputs": [],
   "source": [
    "# pandas_profiling.ProfileReport(df)"
   ]
  },
  {
   "cell_type": "code",
   "execution_count": 5,
   "metadata": {},
   "outputs": [],
   "source": [
    "# sns_countplot(df, 'category_name')"
   ]
  },
  {
   "cell_type": "code",
   "execution_count": 6,
   "metadata": {},
   "outputs": [
    {
     "name": "stderr",
     "output_type": "stream",
     "text": [
      "W0718 11:33:18.988997 4748940736 deprecation_wrapper.py:119] From /anaconda3/envs/flatiron/lib/python3.7/site-packages/keras/backend/tensorflow_backend.py:74: The name tf.get_default_graph is deprecated. Please use tf.compat.v1.get_default_graph instead.\n",
      "\n",
      "W0718 11:33:18.990424 4748940736 deprecation_wrapper.py:119] From /anaconda3/envs/flatiron/lib/python3.7/site-packages/keras/backend/tensorflow_backend.py:517: The name tf.placeholder is deprecated. Please use tf.compat.v1.placeholder instead.\n",
      "\n",
      "W0718 11:33:18.992389 4748940736 deprecation_wrapper.py:119] From /anaconda3/envs/flatiron/lib/python3.7/site-packages/keras/backend/tensorflow_backend.py:4138: The name tf.random_uniform is deprecated. Please use tf.random.uniform instead.\n",
      "\n",
      "W0718 11:33:19.010525 4748940736 deprecation_wrapper.py:119] From /anaconda3/envs/flatiron/lib/python3.7/site-packages/keras/backend/tensorflow_backend.py:174: The name tf.get_default_session is deprecated. Please use tf.compat.v1.get_default_session instead.\n",
      "\n",
      "W0718 11:33:19.029134 4748940736 deprecation_wrapper.py:119] From /anaconda3/envs/flatiron/lib/python3.7/site-packages/keras/backend/tensorflow_backend.py:1834: The name tf.nn.fused_batch_norm is deprecated. Please use tf.compat.v1.nn.fused_batch_norm instead.\n",
      "\n",
      "W0718 11:33:19.145114 4748940736 deprecation_wrapper.py:119] From /anaconda3/envs/flatiron/lib/python3.7/site-packages/keras/backend/tensorflow_backend.py:3976: The name tf.nn.max_pool is deprecated. Please use tf.nn.max_pool2d instead.\n",
      "\n"
     ]
    },
    {
     "name": "stdout",
     "output_type": "stream",
     "text": [
      "_________________________________________________________________\n",
      "Layer (type)                 Output Shape              Param #   \n",
      "=================================================================\n",
      "conv2d_1 (Conv2D)            (None, 450, 600, 64)      1792      \n",
      "_________________________________________________________________\n",
      "batch_normalization_1 (Batch (None, 450, 600, 64)      256       \n",
      "_________________________________________________________________\n",
      "max_pooling2d_1 (MaxPooling2 (None, 225, 300, 64)      0         \n",
      "_________________________________________________________________\n",
      "conv2d_2 (Conv2D)            (None, 223, 298, 32)      18464     \n",
      "_________________________________________________________________\n",
      "batch_normalization_2 (Batch (None, 223, 298, 32)      128       \n",
      "_________________________________________________________________\n",
      "max_pooling2d_2 (MaxPooling2 (None, 111, 149, 32)      0         \n",
      "_________________________________________________________________\n",
      "flatten_1 (Flatten)          (None, 529248)            0         \n",
      "_________________________________________________________________\n",
      "dense_1 (Dense)              (None, 32)                16935968  \n",
      "_________________________________________________________________\n",
      "batch_normalization_3 (Batch (None, 32)                128       \n",
      "_________________________________________________________________\n",
      "dense_2 (Dense)              (None, 7)                 231       \n",
      "=================================================================\n",
      "Total params: 16,956,967\n",
      "Trainable params: 16,956,711\n",
      "Non-trainable params: 256\n",
      "_________________________________________________________________\n",
      "None\n"
     ]
    }
   ],
   "source": [
    "cnn = set_cnn_model()"
   ]
  },
  {
   "cell_type": "code",
   "execution_count": 7,
   "metadata": {
    "scrolled": true
   },
   "outputs": [
    {
     "name": "stdout",
     "output_type": "stream",
     "text": [
      "Found 2000 images belonging to 7 classes.\n",
      "Found 6415 images belonging to 7 classes.\n",
      "Found 1600 images belonging to 7 classes.\n"
     ]
    },
    {
     "name": "stderr",
     "output_type": "stream",
     "text": [
      "W0718 11:33:22.106673 4748940736 deprecation_wrapper.py:119] From /anaconda3/envs/flatiron/lib/python3.7/site-packages/keras/optimizers.py:790: The name tf.train.Optimizer is deprecated. Please use tf.compat.v1.train.Optimizer instead.\n",
      "\n",
      "W0718 11:33:22.183825 4748940736 deprecation.py:323] From /anaconda3/envs/flatiron/lib/python3.7/site-packages/tensorflow/python/ops/math_grad.py:1250: add_dispatch_support.<locals>.wrapper (from tensorflow.python.ops.array_ops) is deprecated and will be removed in a future version.\n",
      "Instructions for updating:\n",
      "Use tf.where in 2.0, which has the same broadcast rule as np.where\n"
     ]
    },
    {
     "name": "stdout",
     "output_type": "stream",
     "text": [
      "Train on 32 samples, validate on 32 samples\n",
      "Epoch 1/24\n",
      "32/32 [==============================] - 14s 449ms/step - loss: 2.6364 - acc: 0.0938 - val_loss: 16.1181 - val_acc: 0.0000e+00\n",
      "Epoch 2/24\n",
      "32/32 [==============================] - 13s 396ms/step - loss: 1.9965 - acc: 0.3125 - val_loss: 4.0217 - val_acc: 0.0938\n",
      "Epoch 3/24\n",
      "32/32 [==============================] - 13s 416ms/step - loss: 1.6382 - acc: 0.4062 - val_loss: 2.4951 - val_acc: 0.1875\n",
      "Epoch 4/24\n",
      "32/32 [==============================] - 14s 445ms/step - loss: 1.4350 - acc: 0.5312 - val_loss: 1.9008 - val_acc: 0.4375\n",
      "Epoch 5/24\n",
      "32/32 [==============================] - 14s 447ms/step - loss: 1.3157 - acc: 0.6562 - val_loss: 1.9209 - val_acc: 0.4688\n",
      "Epoch 6/24\n",
      "32/32 [==============================] - 14s 429ms/step - loss: 1.2335 - acc: 0.6875 - val_loss: 2.0368 - val_acc: 0.5000\n",
      "Epoch 7/24\n",
      "32/32 [==============================] - 14s 422ms/step - loss: 1.1637 - acc: 0.7188 - val_loss: 2.0011 - val_acc: 0.4688\n",
      "Epoch 8/24\n",
      "32/32 [==============================] - 13s 408ms/step - loss: 1.0838 - acc: 0.7812 - val_loss: 2.1223 - val_acc: 0.4062\n",
      "Epoch 9/24\n",
      "32/32 [==============================] - 13s 400ms/step - loss: 1.0132 - acc: 0.7500 - val_loss: 2.1348 - val_acc: 0.4062\n",
      "Epoch 10/24\n",
      "32/32 [==============================] - 13s 398ms/step - loss: 0.9647 - acc: 0.7812 - val_loss: 2.2163 - val_acc: 0.2812\n",
      "Epoch 11/24\n",
      "32/32 [==============================] - 13s 413ms/step - loss: 0.8838 - acc: 0.8750 - val_loss: 2.1995 - val_acc: 0.3750\n",
      "Epoch 12/24\n",
      "32/32 [==============================] - 14s 425ms/step - loss: 0.8124 - acc: 0.8438 - val_loss: 2.1667 - val_acc: 0.3438\n",
      "Epoch 13/24\n",
      "32/32 [==============================] - 13s 403ms/step - loss: 0.7660 - acc: 0.8438 - val_loss: 2.3527 - val_acc: 0.2812\n",
      "Epoch 14/24\n",
      "32/32 [==============================] - 13s 392ms/step - loss: 0.7342 - acc: 0.8750 - val_loss: 1.9838 - val_acc: 0.5312\n",
      "Epoch 15/24\n",
      "32/32 [==============================] - 13s 394ms/step - loss: 0.6945 - acc: 0.8438 - val_loss: 2.3157 - val_acc: 0.2812\n",
      "Epoch 16/24\n",
      "32/32 [==============================] - 13s 396ms/step - loss: 0.6636 - acc: 0.8750 - val_loss: 1.9677 - val_acc: 0.5625\n",
      "Epoch 17/24\n",
      "32/32 [==============================] - 12s 390ms/step - loss: 0.6287 - acc: 0.8438 - val_loss: 2.3406 - val_acc: 0.2812\n",
      "Epoch 18/24\n",
      "32/32 [==============================] - 12s 389ms/step - loss: 0.5956 - acc: 0.9062 - val_loss: 1.8950 - val_acc: 0.5625\n",
      "Epoch 19/24\n",
      "32/32 [==============================] - 12s 389ms/step - loss: 0.5691 - acc: 0.9375 - val_loss: 2.2151 - val_acc: 0.1562\n",
      "Epoch 20/24\n",
      "32/32 [==============================] - 14s 426ms/step - loss: 0.5633 - acc: 0.9375 - val_loss: 1.8611 - val_acc: 0.4062\n",
      "Epoch 21/24\n",
      "32/32 [==============================] - 13s 415ms/step - loss: 0.5442 - acc: 0.9375 - val_loss: 2.4754 - val_acc: 0.2188\n",
      "Epoch 22/24\n",
      "32/32 [==============================] - 14s 430ms/step - loss: 0.5530 - acc: 0.9062 - val_loss: 1.8421 - val_acc: 0.5000\n",
      "Epoch 23/24\n",
      "32/32 [==============================] - 13s 403ms/step - loss: 0.4774 - acc: 0.9688 - val_loss: 1.9852 - val_acc: 0.3125\n",
      "Epoch 24/24\n",
      "32/32 [==============================] - 12s 389ms/step - loss: 0.4416 - acc: 0.9688 - val_loss: 2.0239 - val_acc: 0.2188\n"
     ]
    }
   ],
   "source": [
    "images_test, labels_test = fit_cnn_model(cnn)"
   ]
  },
  {
   "cell_type": "code",
   "execution_count": 10,
   "metadata": {
    "scrolled": true
   },
   "outputs": [
    {
     "name": "stdout",
     "output_type": "stream",
     "text": [
      "_________________________________________________________________\n",
      "Layer (type)                 Output Shape              Param #   \n",
      "=================================================================\n",
      "conv2d_5 (Conv2D)            (None, 450, 600, 64)      1792      \n",
      "_________________________________________________________________\n",
      "dropout_4 (Dropout)          (None, 450, 600, 64)      0         \n",
      "_________________________________________________________________\n",
      "batch_normalization_7 (Batch (None, 450, 600, 64)      256       \n",
      "_________________________________________________________________\n",
      "max_pooling2d_5 (MaxPooling2 (None, 225, 300, 64)      0         \n",
      "_________________________________________________________________\n",
      "conv2d_6 (Conv2D)            (None, 223, 298, 32)      18464     \n",
      "_________________________________________________________________\n",
      "dropout_5 (Dropout)          (None, 223, 298, 32)      0         \n",
      "_________________________________________________________________\n",
      "batch_normalization_8 (Batch (None, 223, 298, 32)      128       \n",
      "_________________________________________________________________\n",
      "max_pooling2d_6 (MaxPooling2 (None, 111, 149, 32)      0         \n",
      "_________________________________________________________________\n",
      "flatten_3 (Flatten)          (None, 529248)            0         \n",
      "_________________________________________________________________\n",
      "dense_5 (Dense)              (None, 32)                16935968  \n",
      "_________________________________________________________________\n",
      "dropout_6 (Dropout)          (None, 32)                0         \n",
      "_________________________________________________________________\n",
      "batch_normalization_9 (Batch (None, 32)                128       \n",
      "_________________________________________________________________\n",
      "dense_6 (Dense)              (None, 7)                 231       \n",
      "=================================================================\n",
      "Total params: 16,956,967\n",
      "Trainable params: 16,956,711\n",
      "Non-trainable params: 256\n",
      "_________________________________________________________________\n",
      "None\n"
     ]
    }
   ],
   "source": [
    "cnn2 = set_cnn_dropout_model()"
   ]
  },
  {
   "cell_type": "code",
   "execution_count": 11,
   "metadata": {
    "scrolled": true
   },
   "outputs": [
    {
     "name": "stdout",
     "output_type": "stream",
     "text": [
      "Found 2000 images belonging to 7 classes.\n",
      "Found 6415 images belonging to 7 classes.\n",
      "Found 1600 images belonging to 7 classes.\n",
      "Train on 32 samples, validate on 32 samples\n",
      "Epoch 1/20\n",
      "32/32 [==============================] - 19s 587ms/step - loss: 0.1607 - acc: 0.0938 - val_loss: 0.2619 - val_acc: 0.0625\n",
      "Epoch 2/20\n",
      "32/32 [==============================] - 17s 541ms/step - loss: 0.1244 - acc: 0.3438 - val_loss: 0.1971 - val_acc: 0.0312\n",
      "Epoch 3/20\n",
      "32/32 [==============================] - 17s 539ms/step - loss: 0.1299 - acc: 0.2188 - val_loss: 0.1637 - val_acc: 0.1562\n",
      "Epoch 4/20\n",
      "32/32 [==============================] - 16s 506ms/step - loss: 0.1255 - acc: 0.3125 - val_loss: 0.1693 - val_acc: 0.1250\n",
      "Epoch 5/20\n",
      "32/32 [==============================] - 16s 487ms/step - loss: 0.1116 - acc: 0.3438 - val_loss: 0.1753 - val_acc: 0.1250\n",
      "Epoch 6/20\n",
      "32/32 [==============================] - 16s 497ms/step - loss: 0.1093 - acc: 0.4062 - val_loss: 0.1828 - val_acc: 0.0938\n",
      "Epoch 7/20\n",
      "32/32 [==============================] - 16s 494ms/step - loss: 0.1063 - acc: 0.4375 - val_loss: 0.1825 - val_acc: 0.0938\n",
      "Epoch 8/20\n",
      "32/32 [==============================] - 15s 484ms/step - loss: 0.0939 - acc: 0.4688 - val_loss: 0.1798 - val_acc: 0.0938\n",
      "Epoch 9/20\n",
      "32/32 [==============================] - 16s 498ms/step - loss: 0.0963 - acc: 0.4688 - val_loss: 0.1751 - val_acc: 0.1250\n",
      "Epoch 10/20\n",
      "32/32 [==============================] - 17s 516ms/step - loss: 0.0886 - acc: 0.5625 - val_loss: 0.1716 - val_acc: 0.1562\n",
      "Epoch 11/20\n",
      "32/32 [==============================] - 17s 538ms/step - loss: 0.0815 - acc: 0.6875 - val_loss: 0.1612 - val_acc: 0.2188\n",
      "Epoch 12/20\n",
      "32/32 [==============================] - 18s 563ms/step - loss: 0.0755 - acc: 0.6250 - val_loss: 0.1529 - val_acc: 0.2500\n",
      "Epoch 13/20\n",
      "32/32 [==============================] - 17s 529ms/step - loss: 0.0804 - acc: 0.6250 - val_loss: 0.1457 - val_acc: 0.3125\n",
      "Epoch 14/20\n",
      "32/32 [==============================] - 18s 559ms/step - loss: 0.0765 - acc: 0.6250 - val_loss: 0.1367 - val_acc: 0.3438\n",
      "Epoch 15/20\n",
      "32/32 [==============================] - 18s 553ms/step - loss: 0.0695 - acc: 0.6562 - val_loss: 0.1266 - val_acc: 0.3750\n",
      "Epoch 16/20\n",
      "32/32 [==============================] - 17s 544ms/step - loss: 0.0688 - acc: 0.7188 - val_loss: 0.1188 - val_acc: 0.4062\n",
      "Epoch 17/20\n",
      "32/32 [==============================] - 17s 525ms/step - loss: 0.0585 - acc: 0.7812 - val_loss: 0.1140 - val_acc: 0.4688\n",
      "Epoch 18/20\n",
      "32/32 [==============================] - 17s 531ms/step - loss: 0.0466 - acc: 0.8438 - val_loss: 0.1171 - val_acc: 0.4688\n",
      "Epoch 19/20\n",
      "32/32 [==============================] - 17s 518ms/step - loss: 0.0632 - acc: 0.6562 - val_loss: 0.1149 - val_acc: 0.4688\n",
      "Epoch 20/20\n",
      "32/32 [==============================] - 16s 505ms/step - loss: 0.0493 - acc: 0.7812 - val_loss: 0.1095 - val_acc: 0.4688\n"
     ]
    }
   ],
   "source": [
    "images_test2, labels_test2 = fit_cnn_model_dropout(cnn2)"
   ]
  },
  {
   "cell_type": "code",
   "execution_count": 6,
   "metadata": {},
   "outputs": [
    {
     "name": "stdout",
     "output_type": "stream",
     "text": [
      "Found 2000 images belonging to 7 classes.\n",
      "Found 6415 images belonging to 7 classes.\n",
      "Found 1600 images belonging to 7 classes.\n",
      "Train on 32 samples, validate on 32 samples\n",
      "Epoch 1/40\n",
      "32/32 [==============================] - 11s 340ms/step - loss: 0.0511 - acc: 0.7500 - val_loss: 0.1229 - val_acc: 0.4688\n",
      "Epoch 2/40\n",
      "32/32 [==============================] - 10s 321ms/step - loss: 0.0558 - acc: 0.7500 - val_loss: 0.1209 - val_acc: 0.4688\n",
      "Epoch 3/40\n",
      "32/32 [==============================] - 10s 327ms/step - loss: 0.0524 - acc: 0.7188 - val_loss: 0.1238 - val_acc: 0.4062\n",
      "Epoch 4/40\n",
      "32/32 [==============================] - 10s 323ms/step - loss: 0.0571 - acc: 0.7188 - val_loss: 0.1272 - val_acc: 0.3438\n",
      "Epoch 5/40\n",
      "32/32 [==============================] - 10s 322ms/step - loss: 0.0514 - acc: 0.7500 - val_loss: 0.1275 - val_acc: 0.2812\n",
      "Epoch 6/40\n",
      "32/32 [==============================] - 10s 318ms/step - loss: 0.0532 - acc: 0.7500 - val_loss: 0.1281 - val_acc: 0.2812\n",
      "Epoch 7/40\n",
      "32/32 [==============================] - 10s 323ms/step - loss: 0.0555 - acc: 0.7188 - val_loss: 0.1314 - val_acc: 0.2812\n",
      "Epoch 8/40\n",
      "32/32 [==============================] - 10s 313ms/step - loss: 0.0513 - acc: 0.7500 - val_loss: 0.1333 - val_acc: 0.2812\n",
      "Epoch 9/40\n",
      "32/32 [==============================] - 10s 316ms/step - loss: 0.0573 - acc: 0.6875 - val_loss: 0.1383 - val_acc: 0.2500\n",
      "Epoch 10/40\n",
      "32/32 [==============================] - 10s 319ms/step - loss: 0.0535 - acc: 0.7500 - val_loss: 0.1370 - val_acc: 0.2812\n",
      "Epoch 11/40\n",
      "32/32 [==============================] - 11s 329ms/step - loss: 0.0588 - acc: 0.7188 - val_loss: 0.1348 - val_acc: 0.2812\n",
      "Epoch 12/40\n",
      "32/32 [==============================] - 10s 318ms/step - loss: 0.0552 - acc: 0.7188 - val_loss: 0.1334 - val_acc: 0.2812\n",
      "Epoch 13/40\n",
      "32/32 [==============================] - 11s 334ms/step - loss: 0.0543 - acc: 0.7500 - val_loss: 0.1328 - val_acc: 0.2812\n",
      "Epoch 14/40\n",
      "32/32 [==============================] - 11s 353ms/step - loss: 0.0498 - acc: 0.7500 - val_loss: 0.1284 - val_acc: 0.2812\n",
      "Epoch 15/40\n",
      "32/32 [==============================] - 11s 333ms/step - loss: 0.0506 - acc: 0.7500 - val_loss: 0.1204 - val_acc: 0.3438\n",
      "Epoch 16/40\n",
      "32/32 [==============================] - 10s 316ms/step - loss: 0.0524 - acc: 0.7500 - val_loss: 0.1102 - val_acc: 0.4688\n",
      "Epoch 17/40\n",
      "32/32 [==============================] - 10s 314ms/step - loss: 0.0489 - acc: 0.7500 - val_loss: 0.1056 - val_acc: 0.5000\n",
      "Epoch 18/40\n",
      "32/32 [==============================] - 10s 315ms/step - loss: 0.0487 - acc: 0.7500 - val_loss: 0.1019 - val_acc: 0.5312\n",
      "Epoch 19/40\n",
      "32/32 [==============================] - 10s 320ms/step - loss: 0.0492 - acc: 0.7500 - val_loss: 0.0990 - val_acc: 0.5000\n",
      "Epoch 20/40\n",
      "32/32 [==============================] - 10s 314ms/step - loss: 0.0539 - acc: 0.7188 - val_loss: 0.0975 - val_acc: 0.4688\n",
      "Epoch 21/40\n",
      "32/32 [==============================] - 10s 318ms/step - loss: 0.0490 - acc: 0.7500 - val_loss: 0.0972 - val_acc: 0.4688\n",
      "Epoch 22/40\n",
      "32/32 [==============================] - 10s 326ms/step - loss: 0.0520 - acc: 0.7188 - val_loss: 0.0978 - val_acc: 0.4688\n",
      "Epoch 23/40\n",
      "32/32 [==============================] - 10s 317ms/step - loss: 0.0528 - acc: 0.7500 - val_loss: 0.0987 - val_acc: 0.4688\n",
      "Epoch 24/40\n",
      "32/32 [==============================] - 10s 313ms/step - loss: 0.0514 - acc: 0.7500 - val_loss: 0.0988 - val_acc: 0.4688\n",
      "Epoch 25/40\n",
      "32/32 [==============================] - 10s 321ms/step - loss: 0.0487 - acc: 0.7500 - val_loss: 0.0995 - val_acc: 0.4688\n",
      "Epoch 26/40\n",
      "32/32 [==============================] - 11s 355ms/step - loss: 0.0459 - acc: 0.7500 - val_loss: 0.1000 - val_acc: 0.4375\n",
      "Epoch 27/40\n",
      "32/32 [==============================] - 11s 349ms/step - loss: 0.0494 - acc: 0.7500 - val_loss: 0.1015 - val_acc: 0.4375\n",
      "Epoch 28/40\n",
      "32/32 [==============================] - 11s 333ms/step - loss: 0.0533 - acc: 0.7188 - val_loss: 0.1041 - val_acc: 0.4375\n",
      "Epoch 29/40\n",
      "32/32 [==============================] - 11s 343ms/step - loss: 0.0500 - acc: 0.7812 - val_loss: 0.1052 - val_acc: 0.5000\n",
      "Epoch 30/40\n",
      "32/32 [==============================] - 11s 336ms/step - loss: 0.0477 - acc: 0.7812 - val_loss: 0.1052 - val_acc: 0.5312\n",
      "Epoch 31/40\n",
      "32/32 [==============================] - 11s 329ms/step - loss: 0.0455 - acc: 0.7812 - val_loss: 0.1040 - val_acc: 0.5625\n",
      "Epoch 32/40\n",
      "32/32 [==============================] - 10s 319ms/step - loss: 0.0465 - acc: 0.7500 - val_loss: 0.1048 - val_acc: 0.5625\n",
      "Epoch 33/40\n",
      "32/32 [==============================] - 10s 317ms/step - loss: 0.0427 - acc: 0.8125 - val_loss: 0.1059 - val_acc: 0.5312\n",
      "Epoch 34/40\n",
      "32/32 [==============================] - 10s 321ms/step - loss: 0.0436 - acc: 0.8125 - val_loss: 0.1066 - val_acc: 0.5625\n",
      "Epoch 35/40\n",
      "32/32 [==============================] - 11s 339ms/step - loss: 0.0440 - acc: 0.8125 - val_loss: 0.1064 - val_acc: 0.5625\n",
      "Epoch 36/40\n",
      "32/32 [==============================] - 11s 330ms/step - loss: 0.0434 - acc: 0.8125 - val_loss: 0.1064 - val_acc: 0.5312\n",
      "Epoch 37/40\n",
      "32/32 [==============================] - 11s 338ms/step - loss: 0.0399 - acc: 0.8125 - val_loss: 0.1062 - val_acc: 0.5625\n",
      "Epoch 38/40\n",
      "32/32 [==============================] - 11s 332ms/step - loss: 0.0395 - acc: 0.8125 - val_loss: 0.1068 - val_acc: 0.5312\n",
      "Epoch 39/40\n",
      "32/32 [==============================] - 11s 343ms/step - loss: 0.0437 - acc: 0.8125 - val_loss: 0.1073 - val_acc: 0.5312\n",
      "Epoch 40/40\n",
      "32/32 [==============================] - 11s 334ms/step - loss: 0.0405 - acc: 0.8125 - val_loss: 0.1075 - val_acc: 0.5000\n"
     ]
    }
   ],
   "source": [
    "images_test3, labels_test3 = fit_cnn_model_dropout(cnn2, epoch=40)"
   ]
  },
  {
   "cell_type": "code",
   "execution_count": null,
   "metadata": {},
   "outputs": [],
   "source": []
  },
  {
   "cell_type": "code",
   "execution_count": null,
   "metadata": {},
   "outputs": [],
   "source": []
  },
  {
   "cell_type": "code",
   "execution_count": 4,
   "metadata": {
    "scrolled": true
   },
   "outputs": [
    {
     "name": "stderr",
     "output_type": "stream",
     "text": [
      "W0718 10:17:59.960844 4378543552 deprecation_wrapper.py:119] From /anaconda3/envs/flatiron/lib/python3.7/site-packages/keras/backend/tensorflow_backend.py:74: The name tf.get_default_graph is deprecated. Please use tf.compat.v1.get_default_graph instead.\n",
      "\n",
      "W0718 10:17:59.961612 4378543552 deprecation_wrapper.py:119] From /anaconda3/envs/flatiron/lib/python3.7/site-packages/keras/backend/tensorflow_backend.py:517: The name tf.placeholder is deprecated. Please use tf.compat.v1.placeholder instead.\n",
      "\n",
      "W0718 10:17:59.964261 4378543552 deprecation_wrapper.py:119] From /anaconda3/envs/flatiron/lib/python3.7/site-packages/keras/backend/tensorflow_backend.py:4138: The name tf.random_uniform is deprecated. Please use tf.random.uniform instead.\n",
      "\n",
      "W0718 10:17:59.980459 4378543552 deprecation_wrapper.py:119] From /anaconda3/envs/flatiron/lib/python3.7/site-packages/keras/backend/tensorflow_backend.py:174: The name tf.get_default_session is deprecated. Please use tf.compat.v1.get_default_session instead.\n",
      "\n",
      "W0718 10:17:59.998957 4378543552 deprecation_wrapper.py:119] From /anaconda3/envs/flatiron/lib/python3.7/site-packages/keras/backend/tensorflow_backend.py:1834: The name tf.nn.fused_batch_norm is deprecated. Please use tf.compat.v1.nn.fused_batch_norm instead.\n",
      "\n",
      "W0718 10:18:00.240607 4378543552 deprecation_wrapper.py:119] From /anaconda3/envs/flatiron/lib/python3.7/site-packages/keras/backend/tensorflow_backend.py:3976: The name tf.nn.max_pool is deprecated. Please use tf.nn.max_pool2d instead.\n",
      "\n",
      "W0718 10:18:00.641029 4378543552 deprecation_wrapper.py:119] From /anaconda3/envs/flatiron/lib/python3.7/site-packages/keras/backend/tensorflow_backend.py:3980: The name tf.nn.avg_pool is deprecated. Please use tf.nn.avg_pool2d instead.\n",
      "\n",
      "W0718 10:18:12.399210 4378543552 deprecation.py:506] From /anaconda3/envs/flatiron/lib/python3.7/site-packages/keras/backend/tensorflow_backend.py:3445: calling dropout (from tensorflow.python.ops.nn_ops) with keep_prob is deprecated and will be removed in a future version.\n",
      "Instructions for updating:\n",
      "Please use `rate` instead of `keep_prob`. Rate should be set to `rate = 1 - keep_prob`.\n",
      "W0718 10:18:12.451488 4378543552 deprecation_wrapper.py:119] From /anaconda3/envs/flatiron/lib/python3.7/site-packages/keras/optimizers.py:790: The name tf.train.Optimizer is deprecated. Please use tf.compat.v1.train.Optimizer instead.\n",
      "\n"
     ]
    },
    {
     "name": "stdout",
     "output_type": "stream",
     "text": [
      "Found 2000 images belonging to 7 classes.\n",
      "Found 6415 images belonging to 7 classes.\n",
      "Found 1600 images belonging to 7 classes.\n"
     ]
    },
    {
     "name": "stderr",
     "output_type": "stream",
     "text": [
      "W0718 10:18:13.997103 4378543552 deprecation.py:323] From /anaconda3/envs/flatiron/lib/python3.7/site-packages/tensorflow/python/ops/math_grad.py:1250: add_dispatch_support.<locals>.wrapper (from tensorflow.python.ops.array_ops) is deprecated and will be removed in a future version.\n",
      "Instructions for updating:\n",
      "Use tf.where in 2.0, which has the same broadcast rule as np.where\n"
     ]
    },
    {
     "name": "stdout",
     "output_type": "stream",
     "text": [
      "Train on 32 samples, validate on 32 samples\n",
      "Epoch 1/20\n",
      "32/32 [==============================] - 12s 375ms/step - loss: 1.8316 - acc: 0.3438 - val_loss: 2.1316 - val_acc: 0.6875\n",
      "Epoch 2/20\n",
      "32/32 [==============================] - 8s 264ms/step - loss: 2.4682 - acc: 0.6875 - val_loss: 1.1161 - val_acc: 0.6875\n",
      "Epoch 3/20\n",
      "32/32 [==============================] - 9s 273ms/step - loss: 1.1010 - acc: 0.6875 - val_loss: 1.5664 - val_acc: 0.0938\n",
      "Epoch 4/20\n",
      "32/32 [==============================] - 9s 278ms/step - loss: 1.4695 - acc: 0.3750 - val_loss: 1.1517 - val_acc: 0.6875\n",
      "Epoch 5/20\n",
      "32/32 [==============================] - 9s 271ms/step - loss: 0.9303 - acc: 0.6875 - val_loss: 1.2372 - val_acc: 0.6875\n",
      "Epoch 6/20\n",
      "32/32 [==============================] - 9s 271ms/step - loss: 1.2744 - acc: 0.6875 - val_loss: 1.1975 - val_acc: 0.6875\n",
      "Epoch 7/20\n",
      "32/32 [==============================] - 9s 276ms/step - loss: 1.2174 - acc: 0.6875 - val_loss: 1.2147 - val_acc: 0.6875\n",
      "Epoch 8/20\n",
      "32/32 [==============================] - 9s 273ms/step - loss: 0.9789 - acc: 0.6875 - val_loss: 1.2899 - val_acc: 0.6875\n",
      "Epoch 9/20\n",
      "32/32 [==============================] - 9s 286ms/step - loss: 1.0767 - acc: 0.6875 - val_loss: 1.1998 - val_acc: 0.6875\n",
      "Epoch 10/20\n",
      "32/32 [==============================] - 9s 287ms/step - loss: 0.9211 - acc: 0.6875 - val_loss: 1.1033 - val_acc: 0.6875\n",
      "Epoch 11/20\n",
      "32/32 [==============================] - 9s 291ms/step - loss: 0.7996 - acc: 0.6875 - val_loss: 1.1116 - val_acc: 0.6875\n",
      "Epoch 12/20\n",
      "32/32 [==============================] - 9s 279ms/step - loss: 0.8624 - acc: 0.6875 - val_loss: 1.1326 - val_acc: 0.6875\n",
      "Epoch 13/20\n",
      "32/32 [==============================] - 9s 275ms/step - loss: 0.8945 - acc: 0.6875 - val_loss: 1.1530 - val_acc: 0.6875\n",
      "Epoch 14/20\n",
      "32/32 [==============================] - 9s 279ms/step - loss: 0.7141 - acc: 0.6875 - val_loss: 1.2472 - val_acc: 0.6875\n",
      "Epoch 15/20\n",
      "32/32 [==============================] - 9s 283ms/step - loss: 0.7104 - acc: 0.8750 - val_loss: 1.2171 - val_acc: 0.6875\n",
      "Epoch 16/20\n",
      "32/32 [==============================] - 9s 289ms/step - loss: 0.7225 - acc: 0.8125 - val_loss: 1.1169 - val_acc: 0.6875\n",
      "Epoch 17/20\n",
      "32/32 [==============================] - 9s 271ms/step - loss: 0.5311 - acc: 0.7812 - val_loss: 1.1561 - val_acc: 0.6875\n",
      "Epoch 18/20\n",
      "32/32 [==============================] - 9s 275ms/step - loss: 0.4981 - acc: 0.7812 - val_loss: 1.1950 - val_acc: 0.6875\n",
      "Epoch 19/20\n",
      "32/32 [==============================] - 9s 274ms/step - loss: 0.3803 - acc: 0.8438 - val_loss: 1.1895 - val_acc: 0.6875\n",
      "Epoch 20/20\n",
      "32/32 [==============================] - 9s 273ms/step - loss: 0.3092 - acc: 0.9062 - val_loss: 1.2466 - val_acc: 0.7188\n"
     ]
    }
   ],
   "source": [
    "images_test, labels_test = imagenet_classifier()"
   ]
  },
  {
   "cell_type": "code",
   "execution_count": 4,
   "metadata": {},
   "outputs": [
    {
     "name": "stderr",
     "output_type": "stream",
     "text": [
      "W0718 11:55:23.433914 4791342528 deprecation_wrapper.py:119] From /anaconda3/envs/flatiron/lib/python3.7/site-packages/keras/backend/tensorflow_backend.py:74: The name tf.get_default_graph is deprecated. Please use tf.compat.v1.get_default_graph instead.\n",
      "\n",
      "W0718 11:55:23.434634 4791342528 deprecation_wrapper.py:119] From /anaconda3/envs/flatiron/lib/python3.7/site-packages/keras/backend/tensorflow_backend.py:517: The name tf.placeholder is deprecated. Please use tf.compat.v1.placeholder instead.\n",
      "\n",
      "W0718 11:55:23.437103 4791342528 deprecation_wrapper.py:119] From /anaconda3/envs/flatiron/lib/python3.7/site-packages/keras/backend/tensorflow_backend.py:4138: The name tf.random_uniform is deprecated. Please use tf.random.uniform instead.\n",
      "\n",
      "W0718 11:55:23.451287 4791342528 deprecation_wrapper.py:119] From /anaconda3/envs/flatiron/lib/python3.7/site-packages/keras/backend/tensorflow_backend.py:174: The name tf.get_default_session is deprecated. Please use tf.compat.v1.get_default_session instead.\n",
      "\n",
      "W0718 11:55:23.468130 4791342528 deprecation_wrapper.py:119] From /anaconda3/envs/flatiron/lib/python3.7/site-packages/keras/backend/tensorflow_backend.py:1834: The name tf.nn.fused_batch_norm is deprecated. Please use tf.compat.v1.nn.fused_batch_norm instead.\n",
      "\n",
      "W0718 11:55:23.703104 4791342528 deprecation_wrapper.py:119] From /anaconda3/envs/flatiron/lib/python3.7/site-packages/keras/backend/tensorflow_backend.py:3976: The name tf.nn.max_pool is deprecated. Please use tf.nn.max_pool2d instead.\n",
      "\n",
      "W0718 11:55:24.096040 4791342528 deprecation_wrapper.py:119] From /anaconda3/envs/flatiron/lib/python3.7/site-packages/keras/backend/tensorflow_backend.py:3980: The name tf.nn.avg_pool is deprecated. Please use tf.nn.avg_pool2d instead.\n",
      "\n",
      "W0718 11:55:36.066778 4791342528 deprecation_wrapper.py:119] From /anaconda3/envs/flatiron/lib/python3.7/site-packages/keras/optimizers.py:790: The name tf.train.Optimizer is deprecated. Please use tf.compat.v1.train.Optimizer instead.\n",
      "\n"
     ]
    },
    {
     "name": "stdout",
     "output_type": "stream",
     "text": [
      "Found 2000 images belonging to 7 classes.\n",
      "Found 6415 images belonging to 7 classes.\n",
      "Found 1600 images belonging to 7 classes.\n"
     ]
    },
    {
     "name": "stderr",
     "output_type": "stream",
     "text": [
      "W0718 11:55:37.875324 4791342528 deprecation.py:323] From /anaconda3/envs/flatiron/lib/python3.7/site-packages/tensorflow/python/ops/math_grad.py:1250: add_dispatch_support.<locals>.wrapper (from tensorflow.python.ops.array_ops) is deprecated and will be removed in a future version.\n",
      "Instructions for updating:\n",
      "Use tf.where in 2.0, which has the same broadcast rule as np.where\n"
     ]
    },
    {
     "name": "stdout",
     "output_type": "stream",
     "text": [
      "Train on 32 samples, validate on 32 samples\n",
      "Epoch 1/40\n",
      "32/32 [==============================] - 14s 429ms/step - loss: 2.7855 - acc: 0.1250 - val_loss: 4.5514 - val_acc: 0.1562\n",
      "Epoch 2/40\n",
      "32/32 [==============================] - 8s 263ms/step - loss: 0.2771 - acc: 0.9688 - val_loss: 3.2662 - val_acc: 0.3125\n",
      "Epoch 3/40\n",
      "32/32 [==============================] - 9s 271ms/step - loss: 0.1810 - acc: 0.9688 - val_loss: 3.5545 - val_acc: 0.2812\n",
      "Epoch 4/40\n",
      "32/32 [==============================] - 9s 275ms/step - loss: 0.0334 - acc: 1.0000 - val_loss: 3.8503 - val_acc: 0.2812\n",
      "Epoch 5/40\n",
      "32/32 [==============================] - 9s 273ms/step - loss: 0.0213 - acc: 1.0000 - val_loss: 4.0394 - val_acc: 0.2500\n",
      "Epoch 6/40\n",
      "32/32 [==============================] - 9s 270ms/step - loss: 0.0125 - acc: 1.0000 - val_loss: 4.1262 - val_acc: 0.2500\n",
      "Epoch 7/40\n",
      "32/32 [==============================] - 9s 277ms/step - loss: 0.0093 - acc: 1.0000 - val_loss: 4.1574 - val_acc: 0.2500\n",
      "Epoch 8/40\n",
      "32/32 [==============================] - 9s 271ms/step - loss: 0.0075 - acc: 1.0000 - val_loss: 4.1487 - val_acc: 0.2500\n",
      "Epoch 9/40\n",
      "32/32 [==============================] - 9s 270ms/step - loss: 0.0058 - acc: 1.0000 - val_loss: 4.1283 - val_acc: 0.2500\n",
      "Epoch 10/40\n",
      "32/32 [==============================] - 9s 274ms/step - loss: 0.0044 - acc: 1.0000 - val_loss: 4.0981 - val_acc: 0.2500\n",
      "Epoch 11/40\n",
      "32/32 [==============================] - 9s 275ms/step - loss: 0.0033 - acc: 1.0000 - val_loss: 4.0682 - val_acc: 0.2500\n",
      "Epoch 12/40\n",
      "32/32 [==============================] - 9s 285ms/step - loss: 0.0026 - acc: 1.0000 - val_loss: 4.0420 - val_acc: 0.2500\n",
      "Epoch 13/40\n",
      "32/32 [==============================] - 9s 278ms/step - loss: 0.0021 - acc: 1.0000 - val_loss: 4.0150 - val_acc: 0.2500\n",
      "Epoch 14/40\n",
      "32/32 [==============================] - 9s 272ms/step - loss: 0.0017 - acc: 1.0000 - val_loss: 3.9911 - val_acc: 0.2500\n",
      "Epoch 15/40\n",
      "32/32 [==============================] - 9s 276ms/step - loss: 0.0015 - acc: 1.0000 - val_loss: 3.9715 - val_acc: 0.2500\n",
      "Epoch 16/40\n",
      "32/32 [==============================] - 9s 275ms/step - loss: 0.0013 - acc: 1.0000 - val_loss: 3.9566 - val_acc: 0.2500\n",
      "Epoch 17/40\n",
      "32/32 [==============================] - 9s 272ms/step - loss: 0.0011 - acc: 1.0000 - val_loss: 3.9450 - val_acc: 0.2500\n",
      "Epoch 18/40\n",
      "32/32 [==============================] - 9s 272ms/step - loss: 9.6077e-04 - acc: 1.0000 - val_loss: 3.9379 - val_acc: 0.2500\n",
      "Epoch 19/40\n",
      "32/32 [==============================] - 9s 275ms/step - loss: 8.5695e-04 - acc: 1.0000 - val_loss: 3.9345 - val_acc: 0.2500\n",
      "Epoch 20/40\n",
      "32/32 [==============================] - 9s 274ms/step - loss: 7.7114e-04 - acc: 1.0000 - val_loss: 3.9335 - val_acc: 0.2500\n",
      "Epoch 21/40\n",
      "32/32 [==============================] - 9s 274ms/step - loss: 7.0060e-04 - acc: 1.0000 - val_loss: 3.9343 - val_acc: 0.2500\n",
      "Epoch 22/40\n",
      "32/32 [==============================] - 9s 276ms/step - loss: 6.4070e-04 - acc: 1.0000 - val_loss: 3.9362 - val_acc: 0.2500\n",
      "Epoch 23/40\n",
      "32/32 [==============================] - 9s 273ms/step - loss: 5.9104e-04 - acc: 1.0000 - val_loss: 3.9396 - val_acc: 0.2500\n",
      "Epoch 24/40\n",
      "32/32 [==============================] - 9s 271ms/step - loss: 5.4925e-04 - acc: 1.0000 - val_loss: 3.9431 - val_acc: 0.2188\n",
      "Epoch 25/40\n",
      "32/32 [==============================] - 9s 273ms/step - loss: 5.1258e-04 - acc: 1.0000 - val_loss: 3.9471 - val_acc: 0.2188\n",
      "Epoch 26/40\n",
      "32/32 [==============================] - 9s 273ms/step - loss: 4.7976e-04 - acc: 1.0000 - val_loss: 3.9516 - val_acc: 0.2188\n",
      "Epoch 27/40\n",
      "32/32 [==============================] - 9s 273ms/step - loss: 4.5161e-04 - acc: 1.0000 - val_loss: 3.9558 - val_acc: 0.2188\n",
      "Epoch 28/40\n",
      "32/32 [==============================] - 9s 272ms/step - loss: 4.2664e-04 - acc: 1.0000 - val_loss: 3.9598 - val_acc: 0.2188\n",
      "Epoch 29/40\n",
      "32/32 [==============================] - 9s 270ms/step - loss: 4.0491e-04 - acc: 1.0000 - val_loss: 3.9644 - val_acc: 0.2188\n",
      "Epoch 30/40\n",
      "32/32 [==============================] - 9s 271ms/step - loss: 3.8382e-04 - acc: 1.0000 - val_loss: 3.9686 - val_acc: 0.2188\n",
      "Epoch 31/40\n",
      "32/32 [==============================] - 9s 269ms/step - loss: 3.6723e-04 - acc: 1.0000 - val_loss: 3.9717 - val_acc: 0.2188\n",
      "Epoch 32/40\n",
      "32/32 [==============================] - 9s 272ms/step - loss: 3.5115e-04 - acc: 1.0000 - val_loss: 3.9751 - val_acc: 0.2188\n",
      "Epoch 33/40\n",
      "32/32 [==============================] - 9s 271ms/step - loss: 3.3624e-04 - acc: 1.0000 - val_loss: 3.9778 - val_acc: 0.2188\n",
      "Epoch 34/40\n",
      "32/32 [==============================] - 9s 273ms/step - loss: 3.2267e-04 - acc: 1.0000 - val_loss: 3.9793 - val_acc: 0.2188\n",
      "Epoch 35/40\n",
      "32/32 [==============================] - 9s 272ms/step - loss: 3.1053e-04 - acc: 1.0000 - val_loss: 3.9805 - val_acc: 0.2188\n",
      "Epoch 36/40\n",
      "32/32 [==============================] - 9s 270ms/step - loss: 2.9920e-04 - acc: 1.0000 - val_loss: 3.9817 - val_acc: 0.2188\n",
      "Epoch 37/40\n",
      "32/32 [==============================] - 9s 276ms/step - loss: 2.8853e-04 - acc: 1.0000 - val_loss: 3.9817 - val_acc: 0.2188\n",
      "Epoch 38/40\n",
      "32/32 [==============================] - 9s 269ms/step - loss: 2.7961e-04 - acc: 1.0000 - val_loss: 3.9815 - val_acc: 0.2188\n",
      "Epoch 39/40\n",
      "32/32 [==============================] - 9s 273ms/step - loss: 2.6960e-04 - acc: 1.0000 - val_loss: 3.9810 - val_acc: 0.2188\n",
      "Epoch 40/40\n",
      "32/32 [==============================] - 9s 275ms/step - loss: 2.6223e-04 - acc: 1.0000 - val_loss: 3.9800 - val_acc: 0.2188\n"
     ]
    }
   ],
   "source": [
    "images_test4, labels_test4 = imagenet_classifier(epoch=40)"
   ]
  },
  {
   "cell_type": "code",
   "execution_count": null,
   "metadata": {},
   "outputs": [],
   "source": []
  },
  {
   "cell_type": "code",
   "execution_count": null,
   "metadata": {},
   "outputs": [],
   "source": []
  },
  {
   "cell_type": "code",
   "execution_count": null,
   "metadata": {},
   "outputs": [],
   "source": []
  },
  {
   "cell_type": "code",
   "execution_count": null,
   "metadata": {},
   "outputs": [],
   "source": []
  },
  {
   "cell_type": "code",
   "execution_count": null,
   "metadata": {},
   "outputs": [],
   "source": []
  }
 ],
 "metadata": {
  "kernelspec": {
   "display_name": "Python 3",
   "language": "python",
   "name": "python3"
  },
  "language_info": {
   "codemirror_mode": {
    "name": "ipython",
    "version": 3
   },
   "file_extension": ".py",
   "mimetype": "text/x-python",
   "name": "python",
   "nbconvert_exporter": "python",
   "pygments_lexer": "ipython3",
   "version": "3.7.3"
  }
 },
 "nbformat": 4,
 "nbformat_minor": 2
}
